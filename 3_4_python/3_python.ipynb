{
 "cells": [
  {
   "cell_type": "markdown",
   "metadata": {
    "nbpresent": {
     "id": "f6a8500a-2aa8-4ba0-97eb-a497cf3274b4"
    },
    "pycharm": {
     "name": "#%% md\n"
    },
    "slideshow": {
     "slide_type": "-"
    }
   },
   "source": [
    "# SC207 Python Fundamentals\n",
    "\n",
    "<img src=\"https://raw.githubusercontent.com/Minyall/sc207_materials/master/images/python-logo.png\" align=\"right\">\n",
    "\n",
    "\n",
    "## Loops, Lists and Strings, oh my!\n",
    "\n",
    "- Our main priorities in this course will be to generate and analyse data. \n",
    "- When we can rely on a tried and trusted toolset, we will.\n",
    "- However, in order to do that we must understand the basics of how Python works.\n"
   ]
  },
  {
   "cell_type": "markdown",
   "metadata": {
    "pycharm": {
     "name": "#%% md\n"
    },
    "slideshow": {
     "slide_type": "slide"
    }
   },
   "source": [
    "# Basics\n",
    "## Simple Expressions\n",
    "Programming is fundamentally about creating and manipulating different types of data to get some sort of outcome. A really basic example..."
   ]
  },
  {
   "cell_type": "code",
   "execution_count": 30,
   "metadata": {},
   "outputs": [
    {
     "data": {
      "text/plain": [
       "3"
      ]
     },
     "execution_count": 30,
     "metadata": {},
     "output_type": "execute_result"
    }
   ],
   "source": [
    "# Addition\n",
    "1 + 2\n"
   ]
  },
  {
   "cell_type": "code",
   "execution_count": null,
   "metadata": {},
   "outputs": [],
   "source": [
    "# Subtraction\n",
    "10 - 5"
   ]
  },
  {
   "cell_type": "code",
   "execution_count": null,
   "metadata": {},
   "outputs": [],
   "source": [
    "# Multiplication\n",
    "5 * 10"
   ]
  },
  {
   "cell_type": "code",
   "execution_count": null,
   "metadata": {},
   "outputs": [],
   "source": [
    "# Divison\n",
    "10 / 2"
   ]
  },
  {
   "cell_type": "code",
   "execution_count": null,
   "metadata": {},
   "outputs": [],
   "source": [
    "# Exponents ('...to the power of')\n",
    "5 ** 2"
   ]
  },
  {
   "cell_type": "code",
   "execution_count": 6,
   "metadata": {},
   "outputs": [
    {
     "data": {
      "text/plain": [
       "6.0"
      ]
     },
     "execution_count": 6,
     "metadata": {},
     "output_type": "execute_result"
    }
   ],
   "source": [
    "# We can connect these operators together\n",
    "((5 + 1 - 2) * 3) / 2"
   ]
  },
  {
   "cell_type": "markdown",
   "metadata": {},
   "source": [
    "## Text (Strings)\n",
    "\n",
    "We're not limited to just numbers.\n",
    "Text in Python is called a __String__ as it is a collection of characters 'strung' together.\n",
    "\n",
    "- Strings are defined by enclosing text in either 'single' or \"double\" quotes.\n",
    "- Make sure you always 'open' and 'close' your strings with the same type of quote mark."
   ]
  },
  {
   "cell_type": "code",
   "execution_count": 8,
   "metadata": {},
   "outputs": [
    {
     "data": {
      "text/plain": [
       "'I am a string'"
      ]
     },
     "execution_count": 8,
     "metadata": {},
     "output_type": "execute_result"
    }
   ],
   "source": [
    "'I am a string'"
   ]
  },
  {
   "cell_type": "code",
   "execution_count": 9,
   "metadata": {},
   "outputs": [
    {
     "data": {
      "text/plain": [
       "'I am also a string!'"
      ]
     },
     "execution_count": 9,
     "metadata": {},
     "output_type": "execute_result"
    }
   ],
   "source": [
    "\"I am also a string!\""
   ]
  },
  {
   "cell_type": "code",
   "execution_count": 3,
   "metadata": {},
   "outputs": [
    {
     "data": {
      "text/plain": [
       "\"We have both types 'so we can still have quote marks' in our strings.\""
      ]
     },
     "execution_count": 3,
     "metadata": {},
     "output_type": "execute_result"
    }
   ],
   "source": [
    "\"We have both types 'so we can still have quote marks' in our strings.\""
   ]
  },
  {
   "cell_type": "code",
   "execution_count": 13,
   "metadata": {},
   "outputs": [
    {
     "ename": "SyntaxError",
     "evalue": "EOL while scanning string literal (<ipython-input-13-2dc857b980ac>, line 1)",
     "output_type": "error",
     "traceback": [
      "\u001b[0;36m  File \u001b[0;32m\"<ipython-input-13-2dc857b980ac>\"\u001b[0;36m, line \u001b[0;32m1\u001b[0m\n\u001b[0;31m    'I am broken and will throw a Syntax Error\"\u001b[0m\n\u001b[0m                                               ^\u001b[0m\n\u001b[0;31mSyntaxError\u001b[0m\u001b[0;31m:\u001b[0m EOL while scanning string literal\n"
     ]
    }
   ],
   "source": [
    "'I am broken and will throw a Syntax Error\""
   ]
  },
  {
   "cell_type": "markdown",
   "metadata": {},
   "source": [
    "We can also do some basic operations with strings\n",
    "- Addition will join strings together\n",
    "- Multiplication will replicate strings"
   ]
  },
  {
   "cell_type": "code",
   "execution_count": 11,
   "metadata": {},
   "outputs": [
    {
     "data": {
      "text/plain": [
       "'Hello my name is Javier the FANTASTIC!'"
      ]
     },
     "execution_count": 11,
     "metadata": {},
     "output_type": "execute_result"
    }
   ],
   "source": [
    "\n",
    "\"Hello my name is \" + \"Javier the FANTASTIC!\""
   ]
  },
  {
   "cell_type": "code",
   "execution_count": 16,
   "metadata": {},
   "outputs": [
    {
     "data": {
      "text/plain": [
       "'Time to say a lot! Time to say a lot! Time to say a lot! Time to say a lot! Time to say a lot! '"
      ]
     },
     "execution_count": 16,
     "metadata": {},
     "output_type": "execute_result"
    }
   ],
   "source": [
    "'Time to say a lot! ' * 5 # Note the space on the end"
   ]
  },
  {
   "cell_type": "markdown",
   "metadata": {},
   "source": [
    "## Print"
   ]
  },
  {
   "cell_type": "markdown",
   "metadata": {},
   "source": [
    "By default, Jupyter will display the results of an operation, but only the last line."
   ]
  },
  {
   "cell_type": "code",
   "execution_count": 17,
   "metadata": {},
   "outputs": [
    {
     "data": {
      "text/plain": [
       "'There can only be one!'"
      ]
     },
     "execution_count": 17,
     "metadata": {},
     "output_type": "execute_result"
    }
   ],
   "source": [
    "1 + 1 + 2\n",
    "'There can only be one!'"
   ]
  },
  {
   "cell_type": "markdown",
   "metadata": {},
   "source": [
    "We can force it to display something using `print()`"
   ]
  },
  {
   "cell_type": "code",
   "execution_count": 18,
   "metadata": {},
   "outputs": [
    {
     "name": "stdout",
     "output_type": "stream",
     "text": [
      "4\n",
      "There can only be one!\n"
     ]
    }
   ],
   "source": [
    "print(1 + 1 + 2)\n",
    "print('There can only be one!')"
   ]
  },
  {
   "cell_type": "markdown",
   "metadata": {
    "collapsed": false,
    "pycharm": {
     "name": "#%% md\n"
    }
   },
   "source": [
    "<a id='assigning_variables'></a>\n",
    "## Assigning Variables\n",
    "\n",
    "Assigning variables allows us to create a label, and then assign a value to that label. This then allows us to manipulate or use that value in our code.\n",
    "\n",
    "Assigning values to variables is a key building block of the Python environment. Variables are assigned using the `=` operator."
   ]
  },
  {
   "cell_type": "code",
   "execution_count": 20,
   "metadata": {},
   "outputs": [
    {
     "name": "stdout",
     "output_type": "stream",
     "text": [
      "10\n"
     ]
    }
   ],
   "source": [
    "my_number = 10\n",
    "print(my_number)"
   ]
  },
  {
   "cell_type": "markdown",
   "metadata": {},
   "source": [
    "Variables store whatever you assign to it allowing you to then use that value in your code just like you would use the original value."
   ]
  },
  {
   "cell_type": "code",
   "execution_count": 21,
   "metadata": {},
   "outputs": [
    {
     "data": {
      "text/plain": [
       "'For now I am whole again'"
      ]
     },
     "execution_count": 21,
     "metadata": {},
     "output_type": "execute_result"
    }
   ],
   "source": [
    "part_a = 'For now I am ' # note the extra space at the end of the first string.\n",
    "part_b = 'whole again'\n",
    "\n",
    "part_a + part_b"
   ]
  },
  {
   "cell_type": "code",
   "execution_count": 22,
   "metadata": {},
   "outputs": [
    {
     "data": {
      "text/plain": [
       "'Scooby Doo is a Detective'"
      ]
     },
     "execution_count": 22,
     "metadata": {},
     "output_type": "execute_result"
    }
   ],
   "source": [
    "first_name = 'Scooby'\n",
    "surname = 'Doo'\n",
    "job = 'Detective'\n",
    "\n",
    "first_name + ' ' + surname + ' is a ' + job\n"
   ]
  },
  {
   "cell_type": "markdown",
   "metadata": {
    "collapsed": false,
    "pycharm": {
     "name": "#%% md\n"
    }
   },
   "source": [
    "## Object Methods\n",
    "Everything in Python is an 'object' and objects come in many different types.\n"
   ]
  },
  {
   "cell_type": "code",
   "execution_count": 23,
   "metadata": {},
   "outputs": [
    {
     "data": {
      "text/plain": [
       "str"
      ]
     },
     "execution_count": 23,
     "metadata": {},
     "output_type": "execute_result"
    }
   ],
   "source": [
    "type('Hello')"
   ]
  },
  {
   "cell_type": "code",
   "execution_count": 24,
   "metadata": {},
   "outputs": [
    {
     "data": {
      "text/plain": [
       "int"
      ]
     },
     "execution_count": 24,
     "metadata": {},
     "output_type": "execute_result"
    }
   ],
   "source": [
    "type(10)"
   ]
  },
  {
   "cell_type": "code",
   "execution_count": 1,
   "metadata": {},
   "outputs": [
    {
     "data": {
      "text/plain": [
       "float"
      ]
     },
     "execution_count": 1,
     "metadata": {},
     "output_type": "execute_result"
    }
   ],
   "source": [
    "# Note that numbers with decimals are an entire different type\n",
    "type(1.5)"
   ]
  },
  {
   "cell_type": "code",
   "execution_count": 25,
   "metadata": {},
   "outputs": [
    {
     "data": {
      "text/plain": [
       "builtin_function_or_method"
      ]
     },
     "execution_count": 25,
     "metadata": {},
     "output_type": "execute_result"
    }
   ],
   "source": [
    "# even that print function is an object\n",
    "type(print)"
   ]
  },
  {
   "cell_type": "markdown",
   "metadata": {},
   "source": [
    "Different types of object behave differently and have different methods associated with them. Methods are like built-in tools that we can use to interact with an object (or apply to other objects!)"
   ]
  },
  {
   "cell_type": "markdown",
   "metadata": {},
   "source": [
    "### String Methods\n",
    "\n",
    "Strings have a range of different methods associated with them."
   ]
  },
  {
   "cell_type": "code",
   "execution_count": 26,
   "metadata": {
    "collapsed": false,
    "pycharm": {
     "name": "#%%\n"
    }
   },
   "outputs": [
    {
     "data": {
      "text/plain": [
       "'we need to keep a low profile'"
      ]
     },
     "execution_count": 26,
     "metadata": {},
     "output_type": "execute_result"
    }
   ],
   "source": [
    "\n",
    "'We Need to Keep a LOW Profile'.lower()\n"
   ]
  },
  {
   "cell_type": "code",
   "execution_count": 27,
   "metadata": {},
   "outputs": [
    {
     "data": {
      "text/plain": [
       "'I AM NOT SHOUTING!'"
      ]
     },
     "execution_count": 27,
     "metadata": {},
     "output_type": "execute_result"
    }
   ],
   "source": [
    "\n",
    "'I am not shouting!'.upper()"
   ]
  },
  {
   "cell_type": "code",
   "execution_count": 28,
   "metadata": {},
   "outputs": [
    {
     "data": {
      "text/plain": [
       "True"
      ]
     },
     "execution_count": 28,
     "metadata": {},
     "output_type": "execute_result"
    }
   ],
   "source": [
    "\n",
    "'This is our last method example'.startswith('This')\n"
   ]
  },
  {
   "cell_type": "code",
   "execution_count": 29,
   "metadata": {
    "collapsed": false,
    "pycharm": {
     "name": "#%%\n"
    }
   },
   "outputs": [
    {
     "name": "stdout",
     "output_type": "stream",
     "text": [
      "Meet Jeb. He is currently 21 years old, and will retire at the age of 71.\n"
     ]
    }
   ],
   "source": [
    "# Finally a new addition to Python is 'F-Strings'. F-Strings provide a nice easy way of achieving what \n",
    "# `.format` does above but cleaner...\n",
    "\n",
    "age= 21\n",
    "name = 'Jeb'\n",
    "years_work_left = 50\n",
    "\n",
    "test_fstring = f'Meet {name}. He is currently {age} years old, and will retire at the age of {age+years_work_left}.'\n"
   ]
  },
  {
   "cell_type": "markdown",
   "metadata": {},
   "source": [
    "## Exercises 1\n",
    "Take a look at section 1 of the exercises sheet. Complete the tasks before moving on."
   ]
  },
  {
   "cell_type": "markdown",
   "metadata": {
    "collapsed": false,
    "pycharm": {
     "name": "#%% md\n"
    }
   },
   "source": [
    "<a id='lists'></a>\n",
    "\n",
    "\n",
    "## Lists\n",
    "\n",
    "Lists are an important data structure because they allow us to collect values together in a way that retains their order. We can then access the values in the list, run through them one by one etc.\n",
    "\n",
    "Lists are created using square brackets `[]` with values inside the brackets being seperated by a comma `,`."
   ]
  },
  {
   "cell_type": "code",
   "execution_count": 4,
   "metadata": {
    "collapsed": false,
    "pycharm": {
     "name": "#%%\n"
    }
   },
   "outputs": [
    {
     "data": {
      "text/plain": [
       "[1, 2, 3]"
      ]
     },
     "execution_count": 4,
     "metadata": {},
     "output_type": "execute_result"
    }
   ],
   "source": [
    "\n",
    "list_of_numbers = [1,2,3]\n",
    "list_of_numbers"
   ]
  },
  {
   "cell_type": "code",
   "execution_count": 5,
   "metadata": {
    "collapsed": false,
    "pycharm": {
     "name": "#%%\n"
    }
   },
   "outputs": [
    {
     "data": {
      "text/plain": [
       "['Hello', 'Goodbye', 'Farewell']"
      ]
     },
     "execution_count": 5,
     "metadata": {},
     "output_type": "execute_result"
    }
   ],
   "source": [
    "list_of_strings = ['Hello','Goodbye','Farewell']\n",
    "list_of_strings"
   ]
  },
  {
   "cell_type": "code",
   "execution_count": 43,
   "metadata": {
    "collapsed": false,
    "pycharm": {
     "name": "#%%\n"
    }
   },
   "outputs": [],
   "source": [
    "simple_list = ['red','green','blue','yellow','black']"
   ]
  },
  {
   "cell_type": "markdown",
   "metadata": {
    "collapsed": false,
    "pycharm": {
     "name": "#%% md\n"
    }
   },
   "source": [
    "List indexing always begins at 0, which can be very confusing!\n",
    "\n",
    "If we want the first item in the list we ask for the item at index 0"
   ]
  },
  {
   "cell_type": "code",
   "execution_count": 44,
   "metadata": {
    "collapsed": false,
    "pycharm": {
     "name": "#%%\n"
    }
   },
   "outputs": [
    {
     "data": {
      "text/plain": [
       "'red'"
      ]
     },
     "execution_count": 44,
     "metadata": {},
     "output_type": "execute_result"
    }
   ],
   "source": [
    "simple_list[0]"
   ]
  },
  {
   "cell_type": "markdown",
   "metadata": {
    "collapsed": false,
    "pycharm": {
     "name": "#%% md\n"
    }
   },
   "source": [
    "Reverse list indexes always start at -1... because you can't have a -0"
   ]
  },
  {
   "cell_type": "code",
   "execution_count": 45,
   "metadata": {
    "collapsed": false,
    "pycharm": {
     "name": "#%%\n"
    }
   },
   "outputs": [
    {
     "data": {
      "text/plain": [
       "'black'"
      ]
     },
     "execution_count": 45,
     "metadata": {},
     "output_type": "execute_result"
    }
   ],
   "source": [
    "simple_list[-1]"
   ]
  },
  {
   "cell_type": "markdown",
   "metadata": {},
   "source": [
    "We can also access a range of values in a list by providing the start and end indexes.\n",
    "\n",
    "Note that this can be tricky as it does not include the value of the end index. Think of it as [from:up to but not including]."
   ]
  },
  {
   "cell_type": "code",
   "execution_count": 46,
   "metadata": {},
   "outputs": [
    {
     "data": {
      "text/plain": [
       "['green', 'blue', 'yellow']"
      ]
     },
     "execution_count": 46,
     "metadata": {},
     "output_type": "execute_result"
    }
   ],
   "source": [
    "simple_list[1:4]"
   ]
  },
  {
   "cell_type": "markdown",
   "metadata": {},
   "source": [
    "Importantly after a list has been created we can change the values in it, for example we could change an item at a specific position"
   ]
  },
  {
   "cell_type": "code",
   "execution_count": 47,
   "metadata": {},
   "outputs": [
    {
     "data": {
      "text/plain": [
       "['red', 'green', 'monkey', 'yellow', 'black']"
      ]
     },
     "execution_count": 47,
     "metadata": {},
     "output_type": "execute_result"
    }
   ],
   "source": [
    "simple_list[2] = 'monkey'\n",
    "simple_list"
   ]
  },
  {
   "cell_type": "markdown",
   "metadata": {},
   "source": [
    "We can also add to a list using one of its built in methods `.append`"
   ]
  },
  {
   "cell_type": "code",
   "execution_count": 48,
   "metadata": {},
   "outputs": [
    {
     "data": {
      "text/plain": [
       "['red', 'green', 'monkey', 'yellow', 'black', 'lion']"
      ]
     },
     "execution_count": 48,
     "metadata": {},
     "output_type": "execute_result"
    }
   ],
   "source": [
    "simple_list.append('lion')\n",
    "simple_list"
   ]
  },
  {
   "cell_type": "markdown",
   "metadata": {},
   "source": [
    "Lists also have other methods such as sort. Note that sort does not create a new value, it simply sorts the original list."
   ]
  },
  {
   "cell_type": "code",
   "execution_count": 49,
   "metadata": {},
   "outputs": [
    {
     "data": {
      "text/plain": [
       "['black', 'green', 'lion', 'monkey', 'red', 'yellow']"
      ]
     },
     "execution_count": 49,
     "metadata": {},
     "output_type": "execute_result"
    }
   ],
   "source": [
    "simple_list.sort()\n",
    "simple_list"
   ]
  },
  {
   "cell_type": "markdown",
   "metadata": {},
   "source": [
    "If we want to clear it, we simply overwrite the variable with a blank list"
   ]
  },
  {
   "cell_type": "code",
   "execution_count": 50,
   "metadata": {},
   "outputs": [
    {
     "data": {
      "text/plain": [
       "[]"
      ]
     },
     "execution_count": 50,
     "metadata": {},
     "output_type": "execute_result"
    }
   ],
   "source": [
    "simple_list = []\n",
    "simple_list"
   ]
  },
  {
   "cell_type": "markdown",
   "metadata": {
    "collapsed": false,
    "pycharm": {
     "name": "#%% md\n"
    }
   },
   "source": [
    "## Comparison and control flow"
   ]
  },
  {
   "cell_type": "markdown",
   "metadata": {
    "collapsed": false,
    "pycharm": {
     "name": "#%% md\n"
    }
   },
   "source": [
    "Python can 'test' whether particular expressions are `True` or `False`.\n",
    "\n",
    "'Comparison' operators allow us to compare values, and Python will tell us if the statement is `True` or `False`\n",
    "\n",
    "-   `==`   Equal to  \n",
    "-   `!=`   Not Equal to \n",
    "-   `>`    Greater than  \n",
    "-   `<`    Less than  \n",
    "-   `>=`   Greater than or equal to  \n",
    "-   `<=`   Less than or equal to"
   ]
  },
  {
   "cell_type": "markdown",
   "metadata": {
    "collapsed": false,
    "pycharm": {
     "name": "#%% md\n"
    }
   },
   "source": [
    "### Some examples of conditionals"
   ]
  },
  {
   "cell_type": "code",
   "execution_count": 51,
   "metadata": {
    "collapsed": false,
    "pycharm": {
     "name": "#%%\n"
    }
   },
   "outputs": [
    {
     "data": {
      "text/plain": [
       "True"
      ]
     },
     "execution_count": 51,
     "metadata": {},
     "output_type": "execute_result"
    }
   ],
   "source": [
    "3 * 5 == 15"
   ]
  },
  {
   "cell_type": "code",
   "execution_count": 52,
   "metadata": {
    "collapsed": false,
    "pycharm": {
     "name": "#%%\n"
    }
   },
   "outputs": [
    {
     "data": {
      "text/plain": [
       "False"
      ]
     },
     "execution_count": 52,
     "metadata": {},
     "output_type": "execute_result"
    }
   ],
   "source": [
    "\"Fred\" == \"George\""
   ]
  },
  {
   "cell_type": "code",
   "execution_count": 53,
   "metadata": {
    "collapsed": false,
    "pycharm": {
     "name": "#%%\n"
    }
   },
   "outputs": [
    {
     "data": {
      "text/plain": [
       "True"
      ]
     },
     "execution_count": 53,
     "metadata": {},
     "output_type": "execute_result"
    }
   ],
   "source": [
    "\"Fred\" != \"George\""
   ]
  },
  {
   "cell_type": "markdown",
   "metadata": {
    "collapsed": false,
    "pycharm": {
     "name": "#%% md\n"
    }
   },
   "source": [
    "Conditionals are critical in controlling the flow of your code. Flow control means that certain code is only run under certain conditions.\n",
    "- The main relevant keywords are...\n",
    "- `if` If a statement evaluates to `True`... do something.\n",
    "- `else` If your above statement evaluated to `False` do this instead.\n",
    "- `elif` 'Else if' - If your above `if` statement evaluated to `False`, check this statement instead\n",
    "\n",
    "Flow control works using **blocks**. Normally a block begins with a conditional statement, with indented code beneath it indicating what code should run if the conditional evaluates to `True`.\n",
    "\n",
    "A usual conditional block looks like this...\n",
    "````\n",
    "if True_statement:\n",
    "    Do something\n",
    "````"
   ]
  },
  {
   "cell_type": "code",
   "execution_count": 57,
   "metadata": {
    "collapsed": false,
    "pycharm": {
     "name": "#%%\n"
    }
   },
   "outputs": [
    {
     "name": "stdout",
     "output_type": "stream",
     "text": [
      "This string says 'Hello'\n"
     ]
    }
   ],
   "source": [
    "# if statements execute if a condition is True and do nothing if False\n",
    "\n",
    "test_value = 'Hello!'\n",
    "\n",
    "if test_value == 'Hello!':\n",
    "    print(\"This string says 'Hello'\")"
   ]
  },
  {
   "cell_type": "markdown",
   "metadata": {},
   "source": [
    "`else` statements tell the code what to do if the condition is `False`"
   ]
  },
  {
   "cell_type": "code",
   "execution_count": 59,
   "metadata": {
    "collapsed": false,
    "pycharm": {
     "name": "#%%\n"
    }
   },
   "outputs": [
    {
     "name": "stdout",
     "output_type": "stream",
     "text": [
      "Get back to work slacker!\n"
     ]
    }
   ],
   "source": [
    "\n",
    "age = 35\n",
    "retirement_age = 85\n",
    "\n",
    "if age >= retirement_age:\n",
    "    print('Time to RETIRE!')\n",
    "else:\n",
    "    print('Get back to work slacker!')"
   ]
  },
  {
   "cell_type": "markdown",
   "metadata": {},
   "source": [
    "`elif` statements stand for 'else if' and only run if the above statement was False. They are useful for checking a value against different criteria."
   ]
  },
  {
   "cell_type": "code",
   "execution_count": 67,
   "metadata": {
    "collapsed": false,
    "pycharm": {
     "name": "#%%\n"
    }
   },
   "outputs": [
    {
     "name": "stdout",
     "output_type": "stream",
     "text": [
      "The name is upper case\n"
     ]
    }
   ],
   "source": [
    "\n",
    "name = 'HAROLD'\n",
    "\n",
    "if name == 'John':\n",
    "    print('Hello John')\n",
    "elif name.isupper():\n",
    "    print('The name is upper case')\n",
    "elif name.startswith('H'):\n",
    "    print('Name starts with an H')\n",
    "else:\n",
    "    print('No criteria matched')\n",
    "\n"
   ]
  },
  {
   "cell_type": "markdown",
   "metadata": {
    "collapsed": false,
    "pycharm": {
     "name": "#%% md\n"
    }
   },
   "source": [
    "## Loops\n",
    "Looping is a foundational concept in programming that allows your code to do a lot of useful things. The basic structure of a loop is...\n",
    "\n",
    "````\n",
    "for item in iterable:\n",
    "    do something with item\n",
    "````\n",
    "**Key Things**\n",
    "- An `iterable` is a variable that can be broken down into individual items, often a list, but you can also iterate over strings and many other types of object.\n",
    "- In our example `item` refers to each individual object in our iterable. The word item could be anything, it is simply the name given to refer to the object in our code."
   ]
  },
  {
   "cell_type": "code",
   "execution_count": 2,
   "metadata": {
    "collapsed": false,
    "pycharm": {
     "name": "#%%\n"
    }
   },
   "outputs": [
    {
     "name": "stdout",
     "output_type": "stream",
     "text": [
      "Scooby\n",
      "Shaggy\n",
      "Velma\n",
      "Daphne\n"
     ]
    }
   ],
   "source": [
    "the_gang = ['Scooby', 'Shaggy','Velma','Daphne']\n",
    "\n",
    "for item in the_gang:\n",
    "    print(item)"
   ]
  },
  {
   "cell_type": "markdown",
   "metadata": {},
   "source": [
    "We can use flow control to filter output"
   ]
  },
  {
   "cell_type": "code",
   "execution_count": 3,
   "metadata": {
    "collapsed": false,
    "pycharm": {
     "name": "#%%\n"
    }
   },
   "outputs": [
    {
     "name": "stdout",
     "output_type": "stream",
     "text": [
      "Scooby\n",
      "Shaggy\n"
     ]
    }
   ],
   "source": [
    "# More importantly we can do things in the loop such as filter based on conditions\n",
    "for item in the_gang:\n",
    "    if item.startswith('S'):\n",
    "        print(item)"
   ]
  },
  {
   "cell_type": "code",
   "execution_count": 4,
   "metadata": {
    "collapsed": false,
    "pycharm": {
     "name": "#%%\n"
    }
   },
   "outputs": [
    {
     "name": "stdout",
     "output_type": "stream",
     "text": [
      "Team Scooby\n",
      "Team Shaggy\n",
      "Team Velma\n",
      "Team Daphne\n"
     ]
    }
   ],
   "source": [
    "# Or do some sort of transformation\n",
    "\n",
    "for item in the_gang:\n",
    "    print('Team ' + item)"
   ]
  },
  {
   "cell_type": "markdown",
   "metadata": {},
   "source": [
    "One key use of this is to filter through data and put the results we want into a list for later"
   ]
  },
  {
   "cell_type": "code",
   "execution_count": 5,
   "metadata": {},
   "outputs": [
    {
     "data": {
      "text/plain": [
       "['Scooby', 'Shaggy']"
      ]
     },
     "execution_count": 5,
     "metadata": {},
     "output_type": "execute_result"
    }
   ],
   "source": [
    "s_characters = []\n",
    "\n",
    "for item in the_gang:\n",
    "    if item.startswith('S'):\n",
    "        s_characters.append(item)\n",
    "\n",
    "s_characters"
   ]
  },
  {
   "cell_type": "markdown",
   "metadata": {},
   "source": [
    "## Exercises 2\n",
    "Take a look at section 2 of the exercises sheet. Complete the tasks. If there is time:\n",
    "- Work through Chapter 2 of the McLevey textbook (See Moodle for this week's Required Reading) OR\n",
    "- Work through the first two sections of Datacamp's Introduction to Python course."
   ]
  },
  {
   "cell_type": "code",
   "execution_count": null,
   "metadata": {},
   "outputs": [],
   "source": []
  }
 ],
 "metadata": {
  "kernelspec": {
   "display_name": "Python 3 (ipykernel)",
   "language": "python",
   "name": "python3"
  },
  "language_info": {
   "codemirror_mode": {
    "name": "ipython",
    "version": 3
   },
   "file_extension": ".py",
   "mimetype": "text/x-python",
   "name": "python",
   "nbconvert_exporter": "python",
   "pygments_lexer": "ipython3",
   "version": "3.10.5"
  },
  "nbpresent": {
   "slides": {
    "05285381-3b54-495a-8546-23a128709ed5": {
     "id": "05285381-3b54-495a-8546-23a128709ed5",
     "prev": "6445a42d-fe82-4af9-b762-db69b840b753",
     "regions": {
      "aba58ff9-20ca-4237-a311-7d3cfc958b2e": {
       "attrs": {
        "height": 0.8,
        "width": 0.8,
        "x": 0.1,
        "y": 0.1
       },
       "content": {
        "cell": "7ca0452b-de48-4c93-a6d1-66e67098038c",
        "part": "whole"
       },
       "id": "aba58ff9-20ca-4237-a311-7d3cfc958b2e"
      }
     }
    },
    "086dc27d-5ab7-46af-a347-c0c9dc2ec721": {
     "id": "086dc27d-5ab7-46af-a347-c0c9dc2ec721",
     "prev": "8de544e1-ccba-4a00-9541-c18f1348dba3",
     "regions": {
      "52351d58-3d86-40d3-94bb-3abd9ab4ccdc": {
       "attrs": {
        "height": 0.8,
        "width": 0.8,
        "x": 0.1,
        "y": 0.1
       },
       "content": {
        "cell": "d8eeed2c-6497-4215-a6f0-086bea66fee0",
        "part": "whole"
       },
       "id": "52351d58-3d86-40d3-94bb-3abd9ab4ccdc"
      }
     }
    },
    "0c0174b0-71b6-4867-b914-7774af216e58": {
     "id": "0c0174b0-71b6-4867-b914-7774af216e58",
     "prev": "b576e575-f202-4591-87e4-098a2e89baf7",
     "regions": {
      "a4da7569-0e1d-4f1b-af0b-b2c789c86971": {
       "attrs": {
        "height": 0.8,
        "width": 0.8,
        "x": 0.1,
        "y": 0.1
       },
       "content": {
        "cell": "ea1d1983-e3f3-491c-938e-1228a4b41550",
        "part": "whole"
       },
       "id": "a4da7569-0e1d-4f1b-af0b-b2c789c86971"
      }
     }
    },
    "0ec54bf0-06c0-4f6a-ac78-e97dbc61df42": {
     "id": "0ec54bf0-06c0-4f6a-ac78-e97dbc61df42",
     "prev": "4b91ef6f-60db-4d8c-87ca-565e7e1dd607",
     "regions": {
      "6f2823ae-0e3b-41c6-9d72-2cacc6bdc498": {
       "attrs": {
        "height": 0.8,
        "width": 0.8,
        "x": 0.1,
        "y": 0.1
       },
       "content": {
        "cell": "e872828d-3ad1-46e4-b36a-85168bc3742a",
        "part": "whole"
       },
       "id": "6f2823ae-0e3b-41c6-9d72-2cacc6bdc498"
      }
     }
    },
    "10730469-2011-4bec-b998-d9e41fe28d53": {
     "id": "10730469-2011-4bec-b998-d9e41fe28d53",
     "prev": "5ae5305e-6b1c-4272-a45d-9d32feb89ec1",
     "regions": {
      "adb244ff-16e0-4e78-9679-edb72956ebc4": {
       "attrs": {
        "height": 0.8,
        "width": 0.8,
        "x": 0.1,
        "y": 0.1
       },
       "content": {
        "cell": "01433745-de66-4f4e-a2fc-a9e7e72e0472",
        "part": "whole"
       },
       "id": "adb244ff-16e0-4e78-9679-edb72956ebc4"
      }
     }
    },
    "12b8c728-db03-44b2-ae69-6341d8ced251": {
     "id": "12b8c728-db03-44b2-ae69-6341d8ced251",
     "prev": "efbc83bc-ed82-4b8b-a1da-87e085479436",
     "regions": {
      "b257af72-ea55-48f3-80a6-fd23123699d7": {
       "attrs": {
        "height": 0.8,
        "width": 0.8,
        "x": 0.1,
        "y": 0.1
       },
       "content": {
        "cell": "f9cf2519-1c95-41fc-972c-7f053f8ff901",
        "part": "whole"
       },
       "id": "b257af72-ea55-48f3-80a6-fd23123699d7"
      }
     }
    },
    "13b7785e-f73c-4ae7-bfeb-46de3dc382e0": {
     "id": "13b7785e-f73c-4ae7-bfeb-46de3dc382e0",
     "prev": "9694bcd0-48d3-4bf1-827b-863d55234d55",
     "regions": {
      "d379e6f6-b93d-41c2-babd-f1b96ea6f84b": {
       "attrs": {
        "height": 0.8,
        "width": 0.8,
        "x": 0.1,
        "y": 0.1
       },
       "content": {
        "cell": "bea049ad-23f6-4080-98c0-8ca5345f8e67",
        "part": "whole"
       },
       "id": "d379e6f6-b93d-41c2-babd-f1b96ea6f84b"
      }
     }
    },
    "187c5507-2d93-4213-8fbd-5c5f064978e8": {
     "id": "187c5507-2d93-4213-8fbd-5c5f064978e8",
     "prev": null,
     "regions": {
      "ada94adb-7f05-4ef4-a0d4-cdd7a434e089": {
       "attrs": {
        "height": 0.8,
        "width": 0.8,
        "x": 0.1,
        "y": 0.1
       },
       "content": {
        "cell": "e0d1e043-de8e-4961-b3c5-3cbcadd21c6c",
        "part": "whole"
       },
       "id": "ada94adb-7f05-4ef4-a0d4-cdd7a434e089"
      }
     }
    },
    "1fb702ef-86e2-4529-a810-90a8c27c3c35": {
     "id": "1fb702ef-86e2-4529-a810-90a8c27c3c35",
     "prev": "28774a2f-86b2-45a0-bacb-9a806548956d",
     "regions": {
      "975cd5b9-79c3-411d-8d93-2088233eef00": {
       "attrs": {
        "height": 0.8,
        "width": 0.8,
        "x": 0.1,
        "y": 0.1
       },
       "content": {
        "cell": "4f75f85e-fe3a-48ee-a5e8-bd50eec2df0e",
        "part": "whole"
       },
       "id": "975cd5b9-79c3-411d-8d93-2088233eef00"
      }
     }
    },
    "2548df91-4083-4ac5-8ef3-ab35472fd14a": {
     "id": "2548df91-4083-4ac5-8ef3-ab35472fd14a",
     "prev": "f668feae-4dbe-41bc-bbc5-ba736cb9fab0",
     "regions": {
      "1fea0c2b-4b4d-4240-a8e4-537618fc779c": {
       "attrs": {
        "height": 0.8,
        "width": 0.8,
        "x": 0.1,
        "y": 0.1
       },
       "content": {
        "cell": "a19ed1d4-6525-4d89-879e-d0048cd4435e",
        "part": "whole"
       },
       "id": "1fea0c2b-4b4d-4240-a8e4-537618fc779c"
      }
     }
    },
    "25be7e80-4656-49fc-a3e2-bcd7769d93ed": {
     "id": "25be7e80-4656-49fc-a3e2-bcd7769d93ed",
     "prev": "4096eb0d-3031-4e57-9ac7-21a528b31592",
     "regions": {
      "9c362f67-b74c-47cb-9294-166cccfbe061": {
       "attrs": {
        "height": 0.8,
        "width": 0.8,
        "x": 0.1,
        "y": 0.1
       },
       "content": {
        "cell": "fa2a0963-759c-46d5-b548-3d3e1521cbf1",
        "part": "whole"
       },
       "id": "9c362f67-b74c-47cb-9294-166cccfbe061"
      }
     }
    },
    "28774a2f-86b2-45a0-bacb-9a806548956d": {
     "id": "28774a2f-86b2-45a0-bacb-9a806548956d",
     "prev": "187c5507-2d93-4213-8fbd-5c5f064978e8",
     "regions": {
      "a7d1fdfc-f0a1-4af6-a320-7ac53b0fb070": {
       "attrs": {
        "height": 0.8,
        "width": 0.8,
        "x": 0.1,
        "y": 0.1
       },
       "content": {
        "cell": "7495a1eb-7ffe-4675-ba58-ed2accc527bb",
        "part": "whole"
       },
       "id": "a7d1fdfc-f0a1-4af6-a320-7ac53b0fb070"
      }
     }
    },
    "2eb95527-5446-4fbd-9306-f5951897bc04": {
     "id": "2eb95527-5446-4fbd-9306-f5951897bc04",
     "prev": "7c1b266e-aa28-4f2d-94c4-6aba9ee470c3",
     "regions": {
      "ecc2d240-2c45-4e52-b478-f90d0d6fb7d8": {
       "attrs": {
        "height": 0.8,
        "width": 0.8,
        "x": 0.1,
        "y": 0.1
       },
       "content": {
        "cell": "e9a07289-31a8-470b-a37e-80f1489e4ece",
        "part": "whole"
       },
       "id": "ecc2d240-2c45-4e52-b478-f90d0d6fb7d8"
      }
     }
    },
    "332ebadc-35ab-4b40-af3d-1e232ff68d9a": {
     "id": "332ebadc-35ab-4b40-af3d-1e232ff68d9a",
     "prev": "086dc27d-5ab7-46af-a347-c0c9dc2ec721",
     "regions": {
      "d8fa0974-5ef8-4b9d-a413-1fa94e102abe": {
       "attrs": {
        "height": 0.8,
        "width": 0.8,
        "x": 0.1,
        "y": 0.1
       },
       "content": {
        "cell": "90683fd3-6a63-4ffb-844e-7cebdccc9d7f",
        "part": "whole"
       },
       "id": "d8fa0974-5ef8-4b9d-a413-1fa94e102abe"
      }
     }
    },
    "4096eb0d-3031-4e57-9ac7-21a528b31592": {
     "id": "4096eb0d-3031-4e57-9ac7-21a528b31592",
     "prev": "2eb95527-5446-4fbd-9306-f5951897bc04",
     "regions": {
      "0249a6e0-33e6-45e7-9016-205650c921b6": {
       "attrs": {
        "height": 0.8,
        "width": 0.8,
        "x": 0.1,
        "y": 0.1
       },
       "content": {
        "cell": "3d8ef1c6-94ae-4596-ade2-8e3b7e9e7c18",
        "part": "whole"
       },
       "id": "0249a6e0-33e6-45e7-9016-205650c921b6"
      }
     }
    },
    "4178956f-07e7-4c05-8c25-0acb423f8ab8": {
     "id": "4178956f-07e7-4c05-8c25-0acb423f8ab8",
     "prev": "495ed9fd-5d3e-4f43-ae7e-1c1619b53375",
     "regions": {
      "6d717821-c6e7-49d9-9976-ae084ea20f3e": {
       "attrs": {
        "height": 0.8,
        "width": 0.8,
        "x": 0.1,
        "y": 0.1
       },
       "content": {
        "cell": "15c6f45f-3b9e-4620-895c-ba2ab61e5440",
        "part": "whole"
       },
       "id": "6d717821-c6e7-49d9-9976-ae084ea20f3e"
      }
     }
    },
    "481005a1-8dcc-4a01-96f0-5919101aedc9": {
     "id": "481005a1-8dcc-4a01-96f0-5919101aedc9",
     "prev": "7ef5df1d-93a7-4be7-b9cb-36c952feb9b8",
     "regions": {
      "e6afc8af-c9f0-4bc4-9f38-b69d139fca71": {
       "attrs": {
        "height": 0.8,
        "width": 0.8,
        "x": 0.1,
        "y": 0.1
       },
       "content": {
        "cell": "dbd59763-fc35-4c04-9660-aaa8cb2c1185",
        "part": "whole"
       },
       "id": "e6afc8af-c9f0-4bc4-9f38-b69d139fca71"
      }
     }
    },
    "495ed9fd-5d3e-4f43-ae7e-1c1619b53375": {
     "id": "495ed9fd-5d3e-4f43-ae7e-1c1619b53375",
     "prev": "2548df91-4083-4ac5-8ef3-ab35472fd14a",
     "regions": {
      "446acba3-dfef-4420-8e42-aeb82346c8ff": {
       "attrs": {
        "height": 0.8,
        "width": 0.8,
        "x": 0.1,
        "y": 0.1
       },
       "content": {
        "cell": "ec6af58d-7346-4763-b250-2d281440e176",
        "part": "whole"
       },
       "id": "446acba3-dfef-4420-8e42-aeb82346c8ff"
      }
     }
    },
    "4b91ef6f-60db-4d8c-87ca-565e7e1dd607": {
     "id": "4b91ef6f-60db-4d8c-87ca-565e7e1dd607",
     "prev": "8b0c0e01-ff5a-4ade-9260-867ad274087f",
     "regions": {
      "efa1c545-952f-455e-bedb-2efaae4a6ac2": {
       "attrs": {
        "height": 0.8,
        "width": 0.8,
        "x": 0.1,
        "y": 0.1
       },
       "content": {
        "cell": "270f4e18-bd03-4f96-b410-738708e2c95b",
        "part": "whole"
       },
       "id": "efa1c545-952f-455e-bedb-2efaae4a6ac2"
      }
     }
    },
    "58553226-6874-4c99-a20d-ff7453cc720b": {
     "id": "58553226-6874-4c99-a20d-ff7453cc720b",
     "prev": "d37eb51a-745f-4380-8ea8-0f0a35c0166a",
     "regions": {
      "9b56623e-5de3-44de-9a50-f0ebca005fe1": {
       "attrs": {
        "height": 0.8,
        "width": 0.8,
        "x": 0.1,
        "y": 0.1
       },
       "content": {
        "cell": "4b876e61-7fbb-48ef-8428-c836f970ef85",
        "part": "whole"
       },
       "id": "9b56623e-5de3-44de-9a50-f0ebca005fe1"
      }
     }
    },
    "5ae5305e-6b1c-4272-a45d-9d32feb89ec1": {
     "id": "5ae5305e-6b1c-4272-a45d-9d32feb89ec1",
     "prev": "58553226-6874-4c99-a20d-ff7453cc720b",
     "regions": {
      "c714c64c-356e-4878-8c6c-74491ca07996": {
       "attrs": {
        "height": 0.8,
        "width": 0.8,
        "x": 0.1,
        "y": 0.1
       },
       "content": {
        "cell": "637d64cf-48c1-46bf-af5b-d44a609409c2",
        "part": "whole"
       },
       "id": "c714c64c-356e-4878-8c6c-74491ca07996"
      }
     }
    },
    "618f7fe2-93f6-4598-a689-7e1d9071047d": {
     "id": "618f7fe2-93f6-4598-a689-7e1d9071047d",
     "prev": "0c0174b0-71b6-4867-b914-7774af216e58",
     "regions": {
      "76321cea-5d99-460c-94d6-5e454d3f5ce2": {
       "attrs": {
        "height": 0.8,
        "width": 0.8,
        "x": 0.1,
        "y": 0.1
       },
       "content": {
        "cell": "7638173b-bac2-4327-81ed-7942ba0197c2",
        "part": "whole"
       },
       "id": "76321cea-5d99-460c-94d6-5e454d3f5ce2"
      }
     }
    },
    "62639445-f879-460c-a496-c2e0d94ad16e": {
     "id": "62639445-f879-460c-a496-c2e0d94ad16e",
     "prev": "c492f2b8-b1f8-4af5-9163-7a694c727b75",
     "regions": {
      "af3803f7-a30d-4eac-8006-fe4481f9eb6b": {
       "attrs": {
        "height": 0.8,
        "width": 0.8,
        "x": 0.1,
        "y": 0.1
       },
       "content": {
        "cell": "d2209bbc-de55-45b0-942a-309c70ecb0f0",
        "part": "whole"
       },
       "id": "af3803f7-a30d-4eac-8006-fe4481f9eb6b"
      }
     }
    },
    "6445a42d-fe82-4af9-b762-db69b840b753": {
     "id": "6445a42d-fe82-4af9-b762-db69b840b753",
     "prev": "69ab02ec-4de3-40a6-8873-38e71f9c63ef",
     "regions": {
      "e800b3cf-dbbd-4319-bcce-c43e82502617": {
       "attrs": {
        "height": 0.8,
        "width": 0.8,
        "x": 0.1,
        "y": 0.1
       },
       "content": {
        "cell": "ce577244-e9df-4566-a731-39bf0ab4a3b8",
        "part": "whole"
       },
       "id": "e800b3cf-dbbd-4319-bcce-c43e82502617"
      }
     }
    },
    "65fd5e80-0298-44ca-96eb-abfaf87e6ac8": {
     "id": "65fd5e80-0298-44ca-96eb-abfaf87e6ac8",
     "prev": "10730469-2011-4bec-b998-d9e41fe28d53",
     "regions": {
      "f29f89b6-aeb1-4cb1-a43e-b82b98d9e44c": {
       "attrs": {
        "height": 0.8,
        "width": 0.8,
        "x": 0.1,
        "y": 0.1
       },
       "content": {
        "cell": "46e71cea-bfaa-426e-b548-9478f3c66a81",
        "part": "whole"
       },
       "id": "f29f89b6-aeb1-4cb1-a43e-b82b98d9e44c"
      }
     }
    },
    "6706cb34-5ff5-4346-beb4-29f7af35d94d": {
     "id": "6706cb34-5ff5-4346-beb4-29f7af35d94d",
     "prev": "9e64c96c-795e-4b19-9e64-fbb22e4a9db4",
     "regions": {
      "aea792c6-a4b0-4c7b-a4b1-741d25ba2b52": {
       "attrs": {
        "height": 0.8,
        "width": 0.8,
        "x": 0.1,
        "y": 0.1
       },
       "content": {
        "cell": "22e2f1ce-17b5-4a01-a0e0-46100db6e70a",
        "part": "whole"
       },
       "id": "aea792c6-a4b0-4c7b-a4b1-741d25ba2b52"
      }
     }
    },
    "69ab02ec-4de3-40a6-8873-38e71f9c63ef": {
     "id": "69ab02ec-4de3-40a6-8873-38e71f9c63ef",
     "prev": "12b8c728-db03-44b2-ae69-6341d8ced251",
     "regions": {
      "85203592-8f3a-4a37-87d0-567f9491ec61": {
       "attrs": {
        "height": 0.8,
        "width": 0.8,
        "x": 0.1,
        "y": 0.1
       },
       "content": {
        "cell": "9831de2d-a9c5-42a9-8124-aefa4568cd4e",
        "part": "whole"
       },
       "id": "85203592-8f3a-4a37-87d0-567f9491ec61"
      }
     }
    },
    "6af4e128-277a-4706-9578-fbb4d842544d": {
     "id": "6af4e128-277a-4706-9578-fbb4d842544d",
     "prev": "618f7fe2-93f6-4598-a689-7e1d9071047d",
     "regions": {
      "dad4ff20-5add-4ab8-aca9-8b64833e8094": {
       "attrs": {
        "height": 0.8,
        "width": 0.8,
        "x": 0.1,
        "y": 0.1
       },
       "content": {
        "cell": "fe5dbd7a-ac75-4a52-bf7d-2c6c5f554b25",
        "part": "whole"
       },
       "id": "dad4ff20-5add-4ab8-aca9-8b64833e8094"
      }
     }
    },
    "72187583-e8bd-4f67-9c92-4905a5fb6f44": {
     "id": "72187583-e8bd-4f67-9c92-4905a5fb6f44",
     "prev": "4178956f-07e7-4c05-8c25-0acb423f8ab8",
     "regions": {
      "4f330474-c808-4f9f-9765-47612ed4b84a": {
       "attrs": {
        "height": 0.8,
        "width": 0.8,
        "x": 0.1,
        "y": 0.1
       },
       "content": {
        "cell": "4a5bc74d-7ada-4da9-9901-fc87dfbc5e2d",
        "part": "whole"
       },
       "id": "4f330474-c808-4f9f-9765-47612ed4b84a"
      }
     }
    },
    "77528649-4cd6-4316-b8b5-91b53e78c829": {
     "id": "77528649-4cd6-4316-b8b5-91b53e78c829",
     "prev": "9ab51f9a-f004-41ca-bec7-a8707e399e5e",
     "regions": {
      "fba94417-ead4-4c0f-a038-16ed4b40921a": {
       "attrs": {
        "height": 0.8,
        "width": 0.8,
        "x": 0.1,
        "y": 0.1
       },
       "content": {
        "cell": "773f2fc0-954a-4500-aa79-474f2a944e10",
        "part": "whole"
       },
       "id": "fba94417-ead4-4c0f-a038-16ed4b40921a"
      }
     }
    },
    "7c1b266e-aa28-4f2d-94c4-6aba9ee470c3": {
     "id": "7c1b266e-aa28-4f2d-94c4-6aba9ee470c3",
     "prev": "a542a46b-9092-47d8-8474-43969ae154d0",
     "regions": {
      "860ab664-d827-4a78-8cfb-8dde203807c0": {
       "attrs": {
        "height": 0.8,
        "width": 0.8,
        "x": 0.1,
        "y": 0.1
       },
       "content": {
        "cell": "0ea77a2a-3452-478d-bc78-1e77e984d2d8",
        "part": "whole"
       },
       "id": "860ab664-d827-4a78-8cfb-8dde203807c0"
      }
     }
    },
    "7e42601e-e51a-4f17-8694-5eb8e87727cf": {
     "id": "7e42601e-e51a-4f17-8694-5eb8e87727cf",
     "prev": "62639445-f879-460c-a496-c2e0d94ad16e",
     "regions": {
      "dbabfeab-8298-4cc3-8187-46b7263b460d": {
       "attrs": {
        "height": 0.8,
        "width": 0.8,
        "x": 0.1,
        "y": 0.1
       },
       "content": {
        "cell": "c42619d7-5389-42de-9731-bff603da7e08",
        "part": "whole"
       },
       "id": "dbabfeab-8298-4cc3-8187-46b7263b460d"
      }
     }
    },
    "7ef5df1d-93a7-4be7-b9cb-36c952feb9b8": {
     "id": "7ef5df1d-93a7-4be7-b9cb-36c952feb9b8",
     "prev": "77528649-4cd6-4316-b8b5-91b53e78c829",
     "regions": {
      "3d109a54-f2a7-4536-96c8-b4318c6525fd": {
       "attrs": {
        "height": 0.8,
        "width": 0.8,
        "x": 0.1,
        "y": 0.1
       },
       "content": {
        "cell": "3f4dfa82-c664-4a17-96a7-b1891f4b8b99",
        "part": "whole"
       },
       "id": "3d109a54-f2a7-4536-96c8-b4318c6525fd"
      }
     }
    },
    "83f59f68-2afb-4f9b-a77b-2b8d9850b4ef": {
     "id": "83f59f68-2afb-4f9b-a77b-2b8d9850b4ef",
     "prev": "6af4e128-277a-4706-9578-fbb4d842544d",
     "regions": {
      "7da91bf3-bd39-4643-ba33-55616251fbe8": {
       "attrs": {
        "height": 0.8,
        "width": 0.8,
        "x": 0.1,
        "y": 0.1
       },
       "content": {
        "cell": "047c6d14-3a35-4728-b318-5c0338f024cf",
        "part": "whole"
       },
       "id": "7da91bf3-bd39-4643-ba33-55616251fbe8"
      }
     }
    },
    "8b0c0e01-ff5a-4ade-9260-867ad274087f": {
     "id": "8b0c0e01-ff5a-4ade-9260-867ad274087f",
     "prev": "1fb702ef-86e2-4529-a810-90a8c27c3c35",
     "regions": {
      "53739bfb-671f-4f74-90ec-d1f6bf98e47c": {
       "attrs": {
        "height": 0.8,
        "width": 0.8,
        "x": 0.1,
        "y": 0.1
       },
       "content": {
        "cell": "f6a8500a-2aa8-4ba0-97eb-a497cf3274b4",
        "part": "whole"
       },
       "id": "53739bfb-671f-4f74-90ec-d1f6bf98e47c"
      }
     }
    },
    "8de544e1-ccba-4a00-9541-c18f1348dba3": {
     "id": "8de544e1-ccba-4a00-9541-c18f1348dba3",
     "prev": "7e42601e-e51a-4f17-8694-5eb8e87727cf",
     "regions": {
      "6ab1eb2e-5816-4d33-9e41-9e1f439965ca": {
       "attrs": {
        "height": 0.8,
        "width": 0.8,
        "x": 0.1,
        "y": 0.1
       },
       "content": {
        "cell": "32f53cd0-7828-4109-8a4d-3d8bb30b770e",
        "part": "whole"
       },
       "id": "6ab1eb2e-5816-4d33-9e41-9e1f439965ca"
      }
     }
    },
    "9694bcd0-48d3-4bf1-827b-863d55234d55": {
     "id": "9694bcd0-48d3-4bf1-827b-863d55234d55",
     "prev": "e8bf78d0-be3a-41cd-a3fa-23f1be548c54",
     "regions": {
      "dec2cfe1-bd51-49df-9404-c417af66b55a": {
       "attrs": {
        "height": 0.8,
        "width": 0.8,
        "x": 0.1,
        "y": 0.1
       },
       "content": {
        "cell": "2a1e302f-c30f-4664-8dee-c0a5fa59f707",
        "part": "whole"
       },
       "id": "dec2cfe1-bd51-49df-9404-c417af66b55a"
      }
     }
    },
    "9ab51f9a-f004-41ca-bec7-a8707e399e5e": {
     "id": "9ab51f9a-f004-41ca-bec7-a8707e399e5e",
     "prev": "f3d5254c-15b7-4f14-997c-8041d353fa75",
     "regions": {
      "8795cb9c-c729-4aeb-962f-c5852e5d65c7": {
       "attrs": {
        "height": 0.8,
        "width": 0.8,
        "x": 0.1,
        "y": 0.1
       },
       "content": {
        "cell": "e98c7917-b0b5-4cc1-a8dd-9ccda90831b0",
        "part": "whole"
       },
       "id": "8795cb9c-c729-4aeb-962f-c5852e5d65c7"
      }
     }
    },
    "9e64c96c-795e-4b19-9e64-fbb22e4a9db4": {
     "id": "9e64c96c-795e-4b19-9e64-fbb22e4a9db4",
     "prev": "cf3a6e0f-ab39-4c8b-9763-b54840856409",
     "regions": {
      "d6d9a122-e698-4371-97ce-a9ba48ee0d3d": {
       "attrs": {
        "height": 0.8,
        "width": 0.8,
        "x": 0.1,
        "y": 0.1
       },
       "content": {
        "cell": "3bdd3689-b4c1-4403-8939-e72d35ec2639",
        "part": "whole"
       },
       "id": "d6d9a122-e698-4371-97ce-a9ba48ee0d3d"
      }
     }
    },
    "9f256762-cd7c-4278-81b8-dca3b09840c2": {
     "id": "9f256762-cd7c-4278-81b8-dca3b09840c2",
     "prev": "e2fc92a1-a49f-4eb3-bbce-c163561d77dd",
     "regions": {
      "1b238094-0af8-41d5-a726-7e3e354dc387": {
       "attrs": {
        "height": 0.8,
        "width": 0.8,
        "x": 0.1,
        "y": 0.1
       },
       "content": {
        "cell": "1c33b70b-3657-459a-8fc5-c48c828667bf",
        "part": "whole"
       },
       "id": "1b238094-0af8-41d5-a726-7e3e354dc387"
      }
     }
    },
    "a542a46b-9092-47d8-8474-43969ae154d0": {
     "id": "a542a46b-9092-47d8-8474-43969ae154d0",
     "prev": "83f59f68-2afb-4f9b-a77b-2b8d9850b4ef",
     "regions": {
      "770f2ae8-c421-463b-bb9c-53976af53dd0": {
       "attrs": {
        "height": 0.8,
        "width": 0.8,
        "x": 0.1,
        "y": 0.1
       },
       "content": {
        "cell": "21355d73-f321-4973-8bf2-5ec7aad34d62",
        "part": "whole"
       },
       "id": "770f2ae8-c421-463b-bb9c-53976af53dd0"
      }
     }
    },
    "ad66b18f-d4de-48ba-8dbc-1a4c89c09da5": {
     "id": "ad66b18f-d4de-48ba-8dbc-1a4c89c09da5",
     "prev": "dc202216-c82e-4815-b8ac-12912ccfad68",
     "regions": {
      "bd34d38c-90fa-4be6-ab3e-ef5599a8112d": {
       "attrs": {
        "height": 0.8,
        "width": 0.8,
        "x": 0.1,
        "y": 0.1
       },
       "content": {
        "cell": "019b13bc-1f31-42f4-913a-a5f6f168ad44",
        "part": "whole"
       },
       "id": "bd34d38c-90fa-4be6-ab3e-ef5599a8112d"
      }
     }
    },
    "b576e575-f202-4591-87e4-098a2e89baf7": {
     "id": "b576e575-f202-4591-87e4-098a2e89baf7",
     "prev": "72187583-e8bd-4f67-9c92-4905a5fb6f44",
     "regions": {
      "51480439-d910-4cd6-81af-946838246f47": {
       "attrs": {
        "height": 0.8,
        "width": 0.8,
        "x": 0.1,
        "y": 0.1
       },
       "content": {
        "cell": "3bd95f9f-034c-4648-900a-96e755237f04",
        "part": "whole"
       },
       "id": "51480439-d910-4cd6-81af-946838246f47"
      }
     }
    },
    "c492f2b8-b1f8-4af5-9163-7a694c727b75": {
     "id": "c492f2b8-b1f8-4af5-9163-7a694c727b75",
     "prev": "d1aa163c-70da-4a42-a6bd-3063e9341246",
     "regions": {
      "d314b69a-fa5f-4f43-8742-be5359607290": {
       "attrs": {
        "height": 0.8,
        "width": 0.8,
        "x": 0.1,
        "y": 0.1
       },
       "content": {
        "cell": "41495615-b734-4077-86df-6d8ef92378cc",
        "part": "whole"
       },
       "id": "d314b69a-fa5f-4f43-8742-be5359607290"
      }
     }
    },
    "cf3a6e0f-ab39-4c8b-9763-b54840856409": {
     "id": "cf3a6e0f-ab39-4c8b-9763-b54840856409",
     "prev": "9f256762-cd7c-4278-81b8-dca3b09840c2",
     "regions": {
      "e25ff8fa-964d-4915-81b1-46dd874295c7": {
       "attrs": {
        "height": 0.8,
        "width": 0.8,
        "x": 0.1,
        "y": 0.1
       },
       "content": {
        "cell": "13b8f7ec-403e-4fd2-8837-8643972c618c",
        "part": "whole"
       },
       "id": "e25ff8fa-964d-4915-81b1-46dd874295c7"
      }
     }
    },
    "d1aa163c-70da-4a42-a6bd-3063e9341246": {
     "id": "d1aa163c-70da-4a42-a6bd-3063e9341246",
     "prev": "ad66b18f-d4de-48ba-8dbc-1a4c89c09da5",
     "regions": {
      "813e8ea2-88c1-4897-a186-bfda34539f41": {
       "attrs": {
        "height": 0.8,
        "width": 0.8,
        "x": 0.1,
        "y": 0.1
       },
       "content": {
        "cell": "691ca935-e3a6-4013-a866-200178386230",
        "part": "whole"
       },
       "id": "813e8ea2-88c1-4897-a186-bfda34539f41"
      }
     }
    },
    "d37eb51a-745f-4380-8ea8-0f0a35c0166a": {
     "id": "d37eb51a-745f-4380-8ea8-0f0a35c0166a",
     "prev": "332ebadc-35ab-4b40-af3d-1e232ff68d9a",
     "regions": {
      "cbf0f867-93f9-47df-91c4-93780d5921e5": {
       "attrs": {
        "height": 0.8,
        "width": 0.8,
        "x": 0.1,
        "y": 0.1
       },
       "content": {
        "cell": "2960401f-e62d-439a-b73c-c933d330eeca",
        "part": "whole"
       },
       "id": "cbf0f867-93f9-47df-91c4-93780d5921e5"
      }
     }
    },
    "d72121e3-fa34-4b27-9333-2d20f97c870a": {
     "id": "d72121e3-fa34-4b27-9333-2d20f97c870a",
     "prev": "05285381-3b54-495a-8546-23a128709ed5",
     "regions": {
      "8e1e391c-ef99-4d58-bf63-b6dff97c51e0": {
       "attrs": {
        "height": 0.8,
        "width": 0.8,
        "x": 0.1,
        "y": 0.1
       },
       "content": {
        "cell": "f34de219-73f3-4f02-b5c5-a01f90dff27f",
        "part": "whole"
       },
       "id": "8e1e391c-ef99-4d58-bf63-b6dff97c51e0"
      }
     }
    },
    "dc202216-c82e-4815-b8ac-12912ccfad68": {
     "id": "dc202216-c82e-4815-b8ac-12912ccfad68",
     "prev": "d72121e3-fa34-4b27-9333-2d20f97c870a",
     "regions": {
      "06019293-2aa0-417e-8d25-87e8bc3b5fbb": {
       "attrs": {
        "height": 0.8,
        "width": 0.8,
        "x": 0.1,
        "y": 0.1
       },
       "content": {
        "cell": "0a32a420-8727-48e3-97a0-3685074cfaa6",
        "part": "whole"
       },
       "id": "06019293-2aa0-417e-8d25-87e8bc3b5fbb"
      }
     }
    },
    "e022ece9-6659-46c3-be14-67cbd860f81a": {
     "id": "e022ece9-6659-46c3-be14-67cbd860f81a",
     "prev": "13b7785e-f73c-4ae7-bfeb-46de3dc382e0",
     "regions": {
      "152047b1-8f75-4e79-9c70-4fb9def55537": {
       "attrs": {
        "height": 0.8,
        "width": 0.8,
        "x": 0.1,
        "y": 0.1
       },
       "content": {
        "cell": "c22b1460-22ac-40fc-9f80-05beb0eb7ceb",
        "part": "whole"
       },
       "id": "152047b1-8f75-4e79-9c70-4fb9def55537"
      }
     }
    },
    "e2fc92a1-a49f-4eb3-bbce-c163561d77dd": {
     "id": "e2fc92a1-a49f-4eb3-bbce-c163561d77dd",
     "prev": "25be7e80-4656-49fc-a3e2-bcd7769d93ed",
     "regions": {
      "5fee843a-ab2d-4bbe-b0d1-f4819fe004aa": {
       "attrs": {
        "height": 0.8,
        "width": 0.8,
        "x": 0.1,
        "y": 0.1
       },
       "content": {
        "cell": "a5e41e63-8bf1-4bc5-9bf7-1db23e9a0877",
        "part": "whole"
       },
       "id": "5fee843a-ab2d-4bbe-b0d1-f4819fe004aa"
      }
     }
    },
    "e8bf78d0-be3a-41cd-a3fa-23f1be548c54": {
     "id": "e8bf78d0-be3a-41cd-a3fa-23f1be548c54",
     "prev": "0ec54bf0-06c0-4f6a-ac78-e97dbc61df42",
     "regions": {
      "c3223bd3-239a-459c-8d62-4c12d23e41d6": {
       "attrs": {
        "height": 0.8,
        "width": 0.8,
        "x": 0.1,
        "y": 0.1
       },
       "content": {
        "cell": "eb43aa88-52da-4ba6-a636-8dc9457eaf4e",
        "part": "whole"
       },
       "id": "c3223bd3-239a-459c-8d62-4c12d23e41d6"
      }
     }
    },
    "efbc83bc-ed82-4b8b-a1da-87e085479436": {
     "id": "efbc83bc-ed82-4b8b-a1da-87e085479436",
     "prev": "fa7bf090-d26e-4a68-9611-7a4354b25a15",
     "regions": {
      "c43647c4-9a58-4960-98ee-c8f1b7bfc2c4": {
       "attrs": {
        "height": 0.8,
        "width": 0.8,
        "x": 0.1,
        "y": 0.1
       },
       "content": {
        "cell": "db5a7619-d33c-4823-9c6b-0d6ca8ca937e",
        "part": "whole"
       },
       "id": "c43647c4-9a58-4960-98ee-c8f1b7bfc2c4"
      }
     }
    },
    "f3d5254c-15b7-4f14-997c-8041d353fa75": {
     "id": "f3d5254c-15b7-4f14-997c-8041d353fa75",
     "prev": "65fd5e80-0298-44ca-96eb-abfaf87e6ac8",
     "regions": {
      "b993ac00-c0cb-49e7-9f00-01a2cc963c6b": {
       "attrs": {
        "height": 0.8,
        "width": 0.8,
        "x": 0.1,
        "y": 0.1
       },
       "content": {
        "cell": "f72c675f-7c68-4f23-8541-01c354be7a1d",
        "part": "whole"
       },
       "id": "b993ac00-c0cb-49e7-9f00-01a2cc963c6b"
      }
     }
    },
    "f668feae-4dbe-41bc-bbc5-ba736cb9fab0": {
     "id": "f668feae-4dbe-41bc-bbc5-ba736cb9fab0",
     "prev": "481005a1-8dcc-4a01-96f0-5919101aedc9",
     "regions": {
      "7bd5ada5-21b1-4930-b4c4-4763a11a57c2": {
       "attrs": {
        "height": 0.8,
        "width": 0.8,
        "x": 0.1,
        "y": 0.1
       },
       "content": {
        "cell": "4a5f88e1-8031-4d04-9ceb-53c3775ce91d",
        "part": "whole"
       },
       "id": "7bd5ada5-21b1-4930-b4c4-4763a11a57c2"
      }
     }
    },
    "fa7bf090-d26e-4a68-9611-7a4354b25a15": {
     "id": "fa7bf090-d26e-4a68-9611-7a4354b25a15",
     "prev": "e022ece9-6659-46c3-be14-67cbd860f81a",
     "regions": {
      "a42f3d47-aea0-423e-8c7c-339e6617a9f3": {
       "attrs": {
        "height": 0.8,
        "width": 0.8,
        "x": 0.1,
        "y": 0.1
       },
       "content": {
        "cell": "d94a9920-dea2-4036-b829-aee76c3194d1",
        "part": "whole"
       },
       "id": "a42f3d47-aea0-423e-8c7c-339e6617a9f3"
      }
     }
    }
   },
   "themes": {}
  }
 },
 "nbformat": 4,
 "nbformat_minor": 4
}
