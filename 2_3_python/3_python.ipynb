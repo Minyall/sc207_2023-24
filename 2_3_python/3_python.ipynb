{
 "cells": [
  {
   "cell_type": "markdown",
   "metadata": {},
   "source": [
    "# Plan\n",
    "## Recap\n",
    "- Variables\n",
    "- Comparison and control flow\n",
    "- Lists\n",
    "- Loops\n",
    "- Methods\n",
    "\n",
    "## Today\n",
    "- Understanding methods/functions and how they work.\n",
    "- Using what was covered last week.\n",
    "- Learning how to problem solve and read errors."
   ]
  },
  {
   "cell_type": "markdown",
   "metadata": {},
   "source": [
    "# Functions\n",
    "\n",
    "Functions are like tools designed to do a specific task. We've already used some built in functions like `print`, `len` and `type`. We also used functions when we used string methods like `.upper`., `.replace` and list methods like `.append`.\n",
    "\n",
    "We can make custom functions to do specific jobs too.\n",
    "- Custom functions avoids having to repeat code.\n",
    "- Building them helps us better understand the how to use the methods others have built for us.\n",
    "\n",
    "Functions are initialised using `def` (short for define).\n"
   ]
  },
  {
   "cell_type": "code",
   "execution_count": null,
   "metadata": {},
   "outputs": [],
   "source": [
    "def name_of_function(argument1, argument2, argument3): # You can have as many arguments as you need.\n",
    "    \n",
    "    # Code here which takes the arguments and performs some activity\n",
    "    \n",
    "    return # The result of the function should be 'returned' to the code that called it"
   ]
  },
  {
   "cell_type": "code",
   "execution_count": 1,
   "metadata": {},
   "outputs": [],
   "source": [
    "def make_awesome(word):\n",
    "    new_word = 'Awesome ' + word\n",
    "    return new_word"
   ]
  },
  {
   "cell_type": "code",
   "execution_count": 2,
   "metadata": {},
   "outputs": [
    {
     "data": {
      "text/plain": [
       "'Awesome pig'"
      ]
     },
     "execution_count": 2,
     "metadata": {},
     "output_type": "execute_result"
    }
   ],
   "source": [
    "make_awesome('pig')"
   ]
  },
  {
   "cell_type": "markdown",
   "metadata": {},
   "source": [
    "## Multiple Arguments\n",
    "Functions can take more than one argument. For example when we used the string method `.replace` it took two arguments, the text we wanted to match, and the value we wanted to replace it with."
   ]
  },
  {
   "cell_type": "code",
   "execution_count": 5,
   "metadata": {},
   "outputs": [
    {
     "data": {
      "text/plain": [
       "'Hello my name is Fred'"
      ]
     },
     "execution_count": 5,
     "metadata": {},
     "output_type": "execute_result"
    }
   ],
   "source": [
    "'Hello my name is James'.replace('James', 'Fred')"
   ]
  },
  {
   "cell_type": "code",
   "execution_count": 8,
   "metadata": {},
   "outputs": [],
   "source": [
    "def make_awesome(word, n_awesome):\n",
    "    new_word = 'Awesome '*n_awesome + word\n",
    "    return new_word"
   ]
  },
  {
   "cell_type": "code",
   "execution_count": 10,
   "metadata": {},
   "outputs": [
    {
     "data": {
      "text/plain": [
       "'Awesome Awesome pig'"
      ]
     },
     "execution_count": 10,
     "metadata": {},
     "output_type": "execute_result"
    }
   ],
   "source": [
    "make_awesome('pig', 2)"
   ]
  },
  {
   "cell_type": "markdown",
   "metadata": {},
   "source": [
    "## Optional Arguments\n",
    "Some things we pass to functions or methods are necessary information for the function to do its job. \n",
    "\n",
    "Other arguments are optional, and may change the behaviour of the function. Often the functions we will use will have one or two required arguments, and then a large list of optional arguments.\n",
    "\n",
    "At the moment our function has two required arguments. `word` and `n_awesome`. Let's make `n_awesome` optional by giving it a default value that it uses if no value is given."
   ]
  },
  {
   "cell_type": "code",
   "execution_count": 23,
   "metadata": {},
   "outputs": [
    {
     "data": {
      "text/plain": [
       "'Awesome cat'"
      ]
     },
     "execution_count": 23,
     "metadata": {},
     "output_type": "execute_result"
    }
   ],
   "source": [
    "def make_awesome(word, n_awesome=1):\n",
    "    new_word = 'Awesome '*n_awesome + word\n",
    "    return new_word\n",
    "\n",
    "make_awesome('cat')"
   ]
  },
  {
   "cell_type": "code",
   "execution_count": 28,
   "metadata": {},
   "outputs": [
    {
     "data": {
      "text/plain": [
       "'Awesome Awesome Awesome cat'"
      ]
     },
     "execution_count": 28,
     "metadata": {},
     "output_type": "execute_result"
    }
   ],
   "source": [
    "make_awesome('cat', n_awesome=3)"
   ]
  },
  {
   "cell_type": "markdown",
   "metadata": {},
   "source": [
    "We could add another optional argument that changes the behaviour of the function."
   ]
  },
  {
   "cell_type": "code",
   "execution_count": 25,
   "metadata": {},
   "outputs": [
    {
     "data": {
      "text/plain": [
       "'AWESOME CAT'"
      ]
     },
     "execution_count": 25,
     "metadata": {},
     "output_type": "execute_result"
    }
   ],
   "source": [
    "def make_awesome(word, n_awesome=1, make_upper=False):\n",
    "    new_word = 'Awesome '*n_awesome + word\n",
    "    if make_upper:\n",
    "        new_word = new_word.upper()\n",
    "    return new_word\n",
    "\n",
    "make_awesome('cat', make_upper=True)"
   ]
  },
  {
   "cell_type": "markdown",
   "metadata": {},
   "source": [
    "# Documentation\n",
    "How do we know what arguments to pass, and what kind of options we have? Documentation should explain what a function/method does, and tell you what arguments it takes. We can access documentation multiple ways.\n",
    "- Documentation for built in Python and widely used libraries is usually just a Google search away. For example `\"python replace documentation\"`.\n",
    "- In Jupyter we can also use the `?` symbol to quickly access specific documentation."
   ]
  },
  {
   "cell_type": "code",
   "execution_count": 30,
   "metadata": {},
   "outputs": [
    {
     "name": "stdout",
     "output_type": "stream",
     "text": [
      "\u001b[0;31mDocstring:\u001b[0m\n",
      "print(value, ..., sep=' ', end='\\n', file=sys.stdout, flush=False)\n",
      "\n",
      "Prints the values to a stream, or to sys.stdout by default.\n",
      "Optional keyword arguments:\n",
      "file:  a file-like object (stream); defaults to the current sys.stdout.\n",
      "sep:   string inserted between values, default a space.\n",
      "end:   string appended after the last value, default a newline.\n",
      "flush: whether to forcibly flush the stream.\n",
      "\u001b[0;31mType:\u001b[0m      builtin_function_or_method\n"
     ]
    }
   ],
   "source": [
    "print?"
   ]
  },
  {
   "cell_type": "markdown",
   "metadata": {},
   "source": [
    "We'll be accessing documentation more when we move onto the Pandas library next week."
   ]
  },
  {
   "cell_type": "markdown",
   "metadata": {},
   "source": [
    "# Exercises 1\n",
    "Take a look at section 1 of the exercises sheet. Complete the tasks before moving on."
   ]
  },
  {
   "cell_type": "markdown",
   "metadata": {},
   "source": [
    "# "
   ]
  },
  {
   "cell_type": "markdown",
   "metadata": {},
   "source": [
    "# Solving Problems\n",
    "Documentation is a key tool in helping you solve problems, but the best tool is having the right attitude and approach.\n",
    "\n",
    "\n",
    "### Remember:\n",
    "- Nobody knows how to code 'naturally'\n",
    "- It is a skill to be learned\n",
    "- Errors and mistakes are a sign you are learning, not that you're failing.\n",
    "\n",
    "### This means you should:\n",
    "- Embrace mistakes\n",
    "- Be willing to try things out\n",
    "- Search for solutions\n",
    "\n",
    "Coding is not about memorising the correct answer, it is about knowing how to find the answers yourself.\n"
   ]
  },
  {
   "cell_type": "markdown",
   "metadata": {},
   "source": [
    "# Tracebacks\n",
    "Traceback messages are reports that Python provides if something goes wrong. The report tries to tell you where the error occurred, and what the likely cause was. \n",
    "\n",
    "Traceback should be read from the bottom up as often the most important and specific information is shown last. "
   ]
  },
  {
   "cell_type": "code",
   "execution_count": 32,
   "metadata": {},
   "outputs": [
    {
     "ename": "TypeError",
     "evalue": "can only concatenate str (not \"int\") to str",
     "output_type": "error",
     "traceback": [
      "\u001b[0;31m---------------------------------------------------------------------------\u001b[0m",
      "\u001b[0;31mTypeError\u001b[0m                                 Traceback (most recent call last)",
      "\u001b[0;32m<ipython-input-32-09889c4fe956>\u001b[0m in \u001b[0;36m<module>\u001b[0;34m\u001b[0m\n\u001b[0;32m----> 1\u001b[0;31m \u001b[0;34m'The meanining of life is '\u001b[0m \u001b[0;34m+\u001b[0m \u001b[0;36m42\u001b[0m\u001b[0;34m\u001b[0m\u001b[0;34m\u001b[0m\u001b[0m\n\u001b[0m",
      "\u001b[0;31mTypeError\u001b[0m: can only concatenate str (not \"int\") to str"
     ]
    }
   ],
   "source": [
    "'The meaning of life is ' + 42"
   ]
  },
  {
   "cell_type": "markdown",
   "metadata": {},
   "source": [
    "In this message, reading from the bottom up, we can see that the type of error thrown is a `TypeError`. This means that the wrong type of object has been used in an operation.\n",
    "\n",
    "The Traceback also gives us an explanation if it can. Here it tells us that you can only concatenate string objects together, not a string and an integer object.\n",
    "\n",
    "Above the last line, the Traceback has attempted to tell us where in the code the error was so that you can more easily find the part that needs correcting."
   ]
  },
  {
   "cell_type": "markdown",
   "metadata": {},
   "source": [
    "## Exceptions\n",
    "`TypeError` is a type of 'exception', and one of the more common built-in error types in Python. Other common types include:\n",
    "- `NameError` - Indicates a Python can't find a variable you're referring to.\n",
    "- `SyntaxError` - Something is wrong with the grammar, such as a comma or colon is missing.\n",
    "- `ValueError` - The wrong type of value has been given, such as a number when it expects a string.\n",
    "\n",
    "There are many more types of Exception, some of which are specific to particular tools and packages."
   ]
  },
  {
   "cell_type": "markdown",
   "metadata": {},
   "source": [
    "## Exceptions workbook\n",
    "Open up the 3_exceptions_workbook.ipynb downloaded from Moodle. Run each cell, examine the Traceback message and see if you can fix the code so that it runs. Use Google and other resources to help you."
   ]
  },
  {
   "cell_type": "markdown",
   "metadata": {},
   "source": []
  }
 ],
 "metadata": {
  "kernelspec": {
   "display_name": "teaching",
   "language": "python",
   "name": "python3"
  },
  "language_info": {
   "codemirror_mode": {
    "name": "ipython",
    "version": 3
   },
   "file_extension": ".py",
   "mimetype": "text/x-python",
   "name": "python",
   "nbconvert_exporter": "python",
   "pygments_lexer": "ipython3",
   "version": "3.9.4"
  },
  "orig_nbformat": 4
 },
 "nbformat": 4,
 "nbformat_minor": 2
}
