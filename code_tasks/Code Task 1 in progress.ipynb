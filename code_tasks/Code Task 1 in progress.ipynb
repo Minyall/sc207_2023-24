{
 "cells": [
  {
   "cell_type": "markdown",
   "id": "fa6e9ef2-9a63-488e-8f5e-1e0aeed1738e",
   "metadata": {
    "tags": []
   },
   "source": [
    "# SC207 Assessment: Code Task 1\n",
    "\n",
    "## Section 1 of 2: Python"
   ]
  },
  {
   "cell_type": "markdown",
   "id": "1339e1b3-a8fe-46e8-a1b7-7372afab49d7",
   "metadata": {},
   "source": [
    "#### Task 1.1 (10 points)\n",
    "In the cell below... \n",
    "- Create three new variables that will store information about an imaginary person.\n",
    "    - The first variable should store the person's name as a string\n",
    "    - The second variable should store their age as an integer.\n",
    "    - The third variable should store their profession as a string\n",
    "- Next create a string that will describe the person's name, age and their profession and assign it to a new variable. The string should be created in such a way that changing any of your name, age or profession variables will automatically change the string. \n",
    "- Finally, print the string.\n"
   ]
  },
  {
   "cell_type": "code",
   "execution_count": null,
   "id": "af02fccc-2021-41cf-afa0-8e4cbbfcc323",
   "metadata": {},
   "outputs": [],
   "source": [
    "# Write your code for task 1 here\n"
   ]
  },
  {
   "cell_type": "markdown",
   "id": "b643da02-b259-40f9-b035-3ad52fd5770a",
   "metadata": {},
   "source": [
    "#### Task 1.2 (10 points)\n",
    "\n",
    "In the cell below...\n",
    "\n",
    "Create a function that takes two strings and concatenates them together into a single string with a space between the words. The function should also make the new concatenated string all lowercase before it then returns the result. \n",
    "\n",
    "After you create the function demonstrate it works by running an example. \n",
    "\n",
    "*Note: Concatenation means joining two strings together into a single string.*"
   ]
  },
  {
   "cell_type": "code",
   "execution_count": 1,
   "id": "12c983be-639d-4bda-8c60-821e212e3d5c",
   "metadata": {},
   "outputs": [],
   "source": [
    "# Write your code for task 2 here"
   ]
  },
  {
   "cell_type": "markdown",
   "id": "bcbac419-598d-489e-9937-88f11e79cd5b",
   "metadata": {},
   "source": [
    "#### Task 1.3 (15 Points)\n",
    "\n",
    "In the cell below...\n",
    "\n",
    "Create a script that uses comparison and control flow to determine whether a person needs to take a bath and informs them of the decision.\n",
    "\n",
    "Start your cell by declaring three variables\n",
    "1. The person's name\n",
    "2. The number of days since the person's last bath\n",
    "3. The maximum number of days anyone should go before they need to take a bath. \n",
    "\n",
    "Then use comparison and control flow to write a short script that checks whether it has been more than the maximum number of days since the person had a bath or not. The script should then respond with a personalised message saying if the person does or does not eed a bath\n",
    "\n",
    "After you write the script check that it works in all cases."
   ]
  },
  {
   "cell_type": "code",
   "execution_count": null,
   "id": "a26ad185-0a6c-44fc-8d2c-a5ab6e3d7521",
   "metadata": {},
   "outputs": [],
   "source": [
    "# Write your code for task 3 here"
   ]
  },
  {
   "cell_type": "markdown",
   "id": "444aa8b1-c676-4eba-9da6-14d54f5a723e",
   "metadata": {},
   "source": [
    "#### Task 1.4 (15 Points)\n",
    "\n",
    "In the cell below...\n",
    "\n",
    "You have been provided a list of names called `names`. You cannot change the list `names`. You have also been provided with a blank list called `m_names`.\n",
    "\n",
    "Write some code that will iterate over `names`, and put each item into `new_list` if it begins with the letter 'M'.\n",
    "\n",
    "Your final `new_list` of 'M' names should contain 4 items. After you have filled the `new_list` demonstrate that it has only M names by printing `new_list`, and that it has 4 items in it by printing the length of `new_list`.\n"
   ]
  },
  {
   "cell_type": "code",
   "execution_count": null,
   "id": "05748954-287e-495d-8eeb-55bbccfe939f",
   "metadata": {},
   "outputs": [],
   "source": [
    "names = ['Margaret', 'Tony', 'Bahar', 'Mike', 'Mawadah', 'Marie']\n",
    "\n",
    "new_list = []\n",
    "\n",
    "# Write your code for task 4 here"
   ]
  },
  {
   "cell_type": "markdown",
   "id": "2602c45c-4cfd-4a04-801b-ccecea848700",
   "metadata": {},
   "source": [
    "## Section 2 of 2: Load, View, and Access Data with Pandas\n",
    "\n",
    "#### Task 2.1 (10 Points)\n",
    "* Import the `pandas` library and give it the alias `pd`.\n",
    "* Use the `pandas` function `read_csv` to load the dataset `kaggle_vaccination_tweets.csv` as a DataFrame using the following URL https://raw.githubusercontent.com/valdanchev/SC207/main/kaggle_vaccination_tweets.csv\n",
    "* Assign the loaded data set to a variable using an informative variable name of your choice (and use this variable in the subsequent two tasks).\n",
    "\n",
    "Please write your code and comments in the code cell below (feel free to add Code and Markdown cells as needed):"
   ]
  },
  {
   "cell_type": "code",
   "execution_count": null,
   "id": "f78a7814-e30a-4735-9fc2-ccf3724c028c",
   "metadata": {},
   "outputs": [],
   "source": []
  },
  {
   "cell_type": "markdown",
   "id": "05214f37-b7fb-4aba-b1de-ae2f2d894e3a",
   "metadata": {},
   "source": [
    "#### Taks 2.2 (10 Points)\n",
    "Using `pandas`: \n",
    "* View the top 10 rows in your DataFrame.\n",
    "* View the last 20 rows in your DataFrame.\n",
    "* Display information about the number of rows and columns in your DataFrame.\n",
    "* List the labels of all columns in your DataFrame.\n",
    "\n",
    "Please write your code and comments in the code cell below:"
   ]
  },
  {
   "cell_type": "code",
   "execution_count": null,
   "id": "5912b3b3-8a5e-4122-a33e-22581d08716f",
   "metadata": {},
   "outputs": [],
   "source": []
  },
  {
   "cell_type": "markdown",
   "id": "e8673bbc-e0fe-4218-b7e3-a40784aba1ed",
   "metadata": {},
   "source": [
    "#### Task 2.3 (15 Points)\n",
    "\n",
    "* Using the column `source` in the DataFrame, select all the rows with a source 'Twitter for iPhone'.\n",
    "* Sort by the number of `retweets` and identify the number of retweetes for the most retweeted tweet (Hint: use `sort_values()` and make sure that the retweets are sorted in decreasing order, i.e., from the most retweeted to the least retweeted tweet).\n",
    "\n",
    "Please write your code and comments in the Code cell below:\n"
   ]
  },
  {
   "cell_type": "code",
   "execution_count": null,
   "id": "1e5c66a2-a0cb-401b-87d2-a1690e302320",
   "metadata": {},
   "outputs": [],
   "source": []
  },
  {
   "cell_type": "markdown",
   "id": "38ae20d4-f1e2-4a13-80d8-0e920a4f0cf4",
   "metadata": {},
   "source": [
    "#### Task 2.4 (15 Points)\n",
    "\n",
    "* Select all tweets from a `source` 'Twitter for Android' with more that 10 retweets and assign the output to a new variable.\n",
    "* Select all tweets from a source 'Twitter for iPhone' with more that 10 retweets and assign the output to a new variable.\n",
    "\n",
    "Please write your code and comments in the Code cell below:\n"
   ]
  },
  {
   "cell_type": "code",
   "execution_count": null,
   "id": "3deffb0e-4ded-4971-8ed0-93e1b97fbe5a",
   "metadata": {},
   "outputs": [],
   "source": []
  }
 ],
 "metadata": {
  "kernelspec": {
   "display_name": "Python 3 (ipykernel)",
   "language": "python",
   "name": "python3"
  },
  "language_info": {
   "codemirror_mode": {
    "name": "ipython",
    "version": 3
   },
   "file_extension": ".py",
   "mimetype": "text/x-python",
   "name": "python",
   "nbconvert_exporter": "python",
   "pygments_lexer": "ipython3",
   "version": "3.8.12"
  }
 },
 "nbformat": 4,
 "nbformat_minor": 5
}
