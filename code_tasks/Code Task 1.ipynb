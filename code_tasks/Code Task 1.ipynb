{
 "cells": [
  {
   "cell_type": "markdown",
   "id": "fa6e9ef2-9a63-488e-8f5e-1e0aeed1738e",
   "metadata": {
    "tags": []
   },
   "source": [
    "# SC207 Assessment: Code Task 1\n",
    "\n",
    "## Section 1 of 2: Python"
   ]
  },
  {
   "cell_type": "markdown",
   "id": "1339e1b3-a8fe-46e8-a1b7-7372afab49d7",
   "metadata": {},
   "source": [
    "#### Task 1.1 (10 points)\n",
    "In the cell below... \n",
    "- Create three new variables that will store information about an imaginary person.\n",
    "    - The first variable should store the person's name as a string\n",
    "    - The second variable should store their age as an integer.\n",
    "    - The third variable should store their profession as a string\n",
    "- Next create a string that will describe the person's name, age and their profession and assign it to a new variable. The string should be created in such a way that changing any of your name, age or profession variables will automatically change the string. \n",
    "- Finally, print the string.\n"
   ]
  },
  {
   "cell_type": "code",
   "execution_count": null,
   "id": "af02fccc-2021-41cf-afa0-8e4cbbfcc323",
   "metadata": {},
   "outputs": [],
   "source": [
    "# Write your code for task 1 here\n"
   ]
  },
  {
   "cell_type": "markdown",
   "id": "b643da02-b259-40f9-b035-3ad52fd5770a",
   "metadata": {},
   "source": [
    "#### Task 1.2 (10 points)\n",
    "\n",
    "In the cell below...\n",
    "\n",
    "Create a function that takes two strings and concatenates them together into a single string with a space between the words. The function should also make the new concatenated string all lowercase before it then returns the result. \n",
    "\n",
    "After you create the function demonstrate it works by running an example. \n",
    "\n",
    "*Note: Concatenation means joining two strings together into a single string.*"
   ]
  },
  {
   "cell_type": "code",
   "execution_count": 1,
   "id": "12c983be-639d-4bda-8c60-821e212e3d5c",
   "metadata": {},
   "outputs": [],
   "source": [
    "# Write your code for task 2 here"
   ]
  },
  {
   "cell_type": "markdown",
   "id": "bcbac419-598d-489e-9937-88f11e79cd5b",
   "metadata": {},
   "source": [
    "#### Task 1.3 (15 Points)\n",
    "\n",
    "In the cell below...\n",
    "\n",
    "Create a script that uses comparison and control flow to determine whether a person needs to take a bath and informs them of the decision.\n",
    "\n",
    "Start your cell by declaring three variables\n",
    "1. The person's name\n",
    "2. The number of days since the person's last bath\n",
    "3. The maximum number of days anyone should go before they need to take a bath. \n",
    "\n",
    "Then use comparison and control flow to write a short script that checks whether it has been more than the maximum number of days since the person had a bath or not. The script should then print a personalised message saying if the person does or does not need a bath\n",
    "\n",
    "After you write the script check that it works in all cases."
   ]
  },
  {
   "cell_type": "code",
   "execution_count": null,
   "id": "a26ad185-0a6c-44fc-8d2c-a5ab6e3d7521",
   "metadata": {},
   "outputs": [],
   "source": [
    "# Write your code for task 3 here"
   ]
  },
  {
   "cell_type": "markdown",
   "id": "444aa8b1-c676-4eba-9da6-14d54f5a723e",
   "metadata": {},
   "source": [
    "#### Task 1.4 (15 Points)\n",
    "\n",
    "In the cell below...\n",
    "\n",
    "You have been provided a list of names called `names`. You cannot change the list `names`. You have also been provided with a blank list called `new_list`.\n",
    "\n",
    "Write some code that will iterate over `names`, and put each item into `new_list` if it begins with the letter 'M'.\n",
    "\n",
    "Your final `new_list` of 'M' names should contain 4 items. After you have filled the `new_list` demonstrate that it has only M names by printing `new_list`, and that it has 4 items in it by printing the length of `new_list`.\n"
   ]
  },
  {
   "cell_type": "code",
   "execution_count": null,
   "id": "05748954-287e-495d-8eeb-55bbccfe939f",
   "metadata": {},
   "outputs": [],
   "source": [
    "names = ['Margaret', 'Tony', 'Bahar', 'Mike', 'Mawadah', 'Marie']\n",
    "\n",
    "new_list = []\n",
    "\n",
    "# Write your code for task 4 here"
   ]
  },
  {
   "cell_type": "markdown",
   "id": "2602c45c-4cfd-4a04-801b-ccecea848700",
   "metadata": {},
   "source": [
    "## Section 2 of 2: Pandas\n",
    "For this section we will be using a dataset about Cereals.\n",
    "- `name`: Name of cereal\n",
    "- `manufacturer`: Manufacturer of the cereal\n",
    "- `type`: Whether it is a `Hot` or `Cold` cereal\n",
    "\n",
    "\n",
    "\n",
    "Use the cell below to `import pandas as pd`, load a dataset from an online source and assign it to a variable called `cereal`. This step has been written for you."
   ]
  },
  {
   "cell_type": "code",
   "execution_count": 2,
   "id": "e10d7836",
   "metadata": {},
   "outputs": [],
   "source": [
    "import pandas as pd\n",
    "cereal = pd.read_csv('https://raw.githubusercontent.com/Minyall/sc207_2023-24/main/code_tasks/cereal.csv')\n"
   ]
  },
  {
   "cell_type": "markdown",
   "id": "98f5e648",
   "metadata": {},
   "source": [
    "\n",
    "#### Task 2.1 (10 Points)\n",
    "* View the top 10 rows in your DataFrame.\n",
    "* View the last 20 rows in your DataFrame.\n",
    "* View the columns in the dataframe\n"
   ]
  },
  {
   "cell_type": "code",
   "execution_count": 6,
   "id": "5912b3b3-8a5e-4122-a33e-22581d08716f",
   "metadata": {},
   "outputs": [],
   "source": [
    "# Start your code for task 1 here. Make additional cells if you need to.\n"
   ]
  },
  {
   "cell_type": "markdown",
   "id": "e8673bbc-e0fe-4218-b7e3-a40784aba1ed",
   "metadata": {},
   "source": [
    "#### Task 2.2 (10 Points)\n",
    "\n",
    "* Use the column `manufacturer` to filter your dataset to only display products from the the manufacturer 'Kellogs'.\n",
    "* Sort the data to order the Kellogs products by sugar content in descending order (highest to lowest).\n",
    "* Complete the commented line in the cell.\n",
    "\n"
   ]
  },
  {
   "cell_type": "code",
   "execution_count": null,
   "id": "1e5c66a2-a0cb-401b-87d2-a1690e302320",
   "metadata": {},
   "outputs": [],
   "source": [
    "# Write your code for task 2 here. \n",
    "\n",
    "\n",
    "\n",
    "# Complete the comment below.\n",
    "# THE KELLOGS CEREAL WITH THE HIGHEST SUGAR CONTENT IS CALLED: "
   ]
  },
  {
   "cell_type": "markdown",
   "id": "ea259a87",
   "metadata": {},
   "source": [
    "#### Task 2.3 (15 Points)\n",
    "\n",
    "One of the columns in the cereal dataset has a missing value. \n",
    "* In the first cell below, identify which column has the missing value and complete the comment. Ensure you provide the code that allowed you to identify the column.\n",
    "* In the second cell write the code necessary to drop the row with the missing value. Ensure that you overwrite `cereal` with a cleaned version.\n",
    "\n"
   ]
  },
  {
   "cell_type": "code",
   "execution_count": null,
   "id": "a8ac6ac2",
   "metadata": {},
   "outputs": [],
   "source": [
    "# Write the code for identifying the missing data here:\n",
    "\n",
    "\n",
    "\n",
    "# THERE IS MISSING DATA IN THE COLUMN CALLED:"
   ]
  },
  {
   "cell_type": "code",
   "execution_count": null,
   "id": "5cc56e65",
   "metadata": {},
   "outputs": [],
   "source": [
    "# Write the code for dropping the row with the missing value here.\n",
    "\n",
    "\n"
   ]
  },
  {
   "cell_type": "markdown",
   "id": "38ae20d4-f1e2-4a13-80d8-0e920a4f0cf4",
   "metadata": {},
   "source": [
    "#### Task 2.4 (15 Points)\n",
    "\n",
    "For Information:\n",
    "The `shelf` column indicates where the cereal is typically displayed on shop shelves, with 1 indicating the lowest shelf, 2 the middle, and 3 the highest.\n",
    "\n",
    "Question: What is the average sugar content of the cereals displayed on each shelf? \n",
    "\n",
    "Task:\n",
    "* Produce a summary of the `cereal` where the shelf numbers are the index, and the `mean` sugar content of cereals on those shelves are the values. \n",
    "\n",
    "HINT: \n",
    "* You should Group the data to achieve this result.\n",
    "\n"
   ]
  },
  {
   "cell_type": "code",
   "execution_count": null,
   "id": "e7c7fa76",
   "metadata": {},
   "outputs": [],
   "source": [
    "# Write the code for task 4 here.\n",
    "\n"
   ]
  }
 ],
 "metadata": {
  "kernelspec": {
   "display_name": "Python 3 (ipykernel)",
   "language": "python",
   "name": "python3"
  },
  "language_info": {
   "codemirror_mode": {
    "name": "ipython",
    "version": 3
   },
   "file_extension": ".py",
   "mimetype": "text/x-python",
   "name": "python",
   "nbconvert_exporter": "python",
   "pygments_lexer": "ipython3",
   "version": "3.9.4"
  }
 },
 "nbformat": 4,
 "nbformat_minor": 5
}
