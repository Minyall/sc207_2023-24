{
 "cells": [
  {
   "cell_type": "markdown",
   "metadata": {},
   "source": [
    "# 8 - API Data\n",
    "This notebook provides you with the basic starting point for working with the API. You will, unfortunately, need to complete most of the code yourself. This notebook can be used both for following along in the lab and the exercises."
   ]
  },
  {
   "cell_type": "markdown",
   "metadata": {},
   "source": [
    "### Guardian API Documentation Links\n",
    "- [Explore the Guardian API](https://open-platform.theguardian.com/explore/)\n",
    "\n",
    "- [Filters - Guardian API documentation](https://open-platform.theguardian.com/documentation/search)\n"
   ]
  },
  {
   "cell_type": "code",
   "execution_count": 2,
   "metadata": {},
   "outputs": [],
   "source": [
    "import requests\n",
    "import pandas as pd"
   ]
  },
  {
   "cell_type": "markdown",
   "metadata": {},
   "source": [
    "Below you will need to set your API key. This will then be placed into a very basic `parameters` dictionary ready for use."
   ]
  },
  {
   "cell_type": "code",
   "execution_count": 3,
   "metadata": {},
   "outputs": [],
   "source": [
    "GUARDIAN_KEY = \"COPY YOUR API KEY HERE\"\n",
    "API_ENDPOINT = 'http://content.guardianapis.com/search'\n",
    "parameters = {'api-key':GUARDIAN_KEY}\n"
   ]
  }
 ],
 "metadata": {
  "kernelspec": {
   "display_name": "teaching",
   "language": "python",
   "name": "python3"
  },
  "language_info": {
   "codemirror_mode": {
    "name": "ipython",
    "version": 3
   },
   "file_extension": ".py",
   "mimetype": "text/x-python",
   "name": "python",
   "nbconvert_exporter": "python",
   "pygments_lexer": "ipython3",
   "version": "3.10.5"
  }
 },
 "nbformat": 4,
 "nbformat_minor": 2
}
