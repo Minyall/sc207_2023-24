{
 "cells": [
  {
   "cell_type": "markdown",
   "metadata": {},
   "source": [
    "# Data Visualisation 1: Plot fundamentals\n",
    "\n",
    "How to visualise...\n",
    "1. Amounts - simple differences in amounts and grouped differences\n",
    "2. Distributions - histograms, kde, grouped with violin and box plots\n",
    "\n",
    "\n"
   ]
  }
 ],
 "metadata": {
  "kernelspec": {
   "display_name": "teaching",
   "language": "python",
   "name": "python3"
  },
  "language_info": {
   "name": "python",
   "version": "3.10.5"
  }
 },
 "nbformat": 4,
 "nbformat_minor": 2
}
