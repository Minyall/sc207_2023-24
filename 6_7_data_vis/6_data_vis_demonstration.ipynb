{
 "cells": [
  {
   "cell_type": "markdown",
   "metadata": {},
   "source": [
    "# Data Visualisation 1: DEMO NOTEBOOK\n",
    "\n",
    "Why do we visualise data? A common answer would be to communicate findings, to tell a story or to engage an audience. This is a key part of data visualisation. However data visualisation also serves a crucial role in *analysis*, where the target audience is **you**, the researcher."
   ]
  },
  {
   "cell_type": "markdown",
   "metadata": {},
   "source": [
    "## Why visualise data?\n",
    "Let's look at an example of why visualisation is valuable in analysis. Below we'll load in a file that contains six rounds of survey data.\n",
    "\n",
    "The file has three columns, `dataset`, `age` and `career_score`.\n",
    "\n",
    "The file overall contains 6 rounds of data collection with each dataset having 142 rows - the `dataset` column indicates which round each row belongs to."
   ]
  },
  {
   "cell_type": "code",
   "execution_count": null,
   "metadata": {},
   "outputs": [],
   "source": [
    "import pandas as pd\n",
    "\n",
    "data = pd.read_csv('https://raw.githubusercontent.com/Minyall/sc207_2023-24/main/6_7_data_vis/age_career_dataset.csv')\n",
    "data.info()"
   ]
  },
  {
   "cell_type": "markdown",
   "metadata": {},
   "source": [
    "If we group our data by `dataset` and then run `.describe()` we can get summary stats of our dataset."
   ]
  },
  {
   "cell_type": "code",
   "execution_count": null,
   "metadata": {},
   "outputs": [],
   "source": [
    "data.groupby('dataset').describe()"
   ]
  },
  {
   "cell_type": "markdown",
   "metadata": {},
   "source": [
    "If we focus just on `count`, `mean` and `std` we can see that every round has almost identical average values in both `age` and `career_score`, and almost identical standard deviations Amazing! \n",
    "\n",
    "We could probably presume that there is a very consistent relationship between age and career score. Let's visualise our data so we can communicate this to our audience."
   ]
  },
  {
   "cell_type": "code",
   "execution_count": null,
   "metadata": {},
   "outputs": [],
   "source": [
    "import seaborn as sns\n",
    "sns.lmplot(data=data, x='age', y='career_score', fit_reg=False)"
   ]
  },
  {
   "cell_type": "markdown",
   "metadata": {},
   "source": [
    "Well that's a mess, you;d expect much more of a pattern than that!\n",
    "\n",
    "Let's just check each round of participants...."
   ]
  },
  {
   "cell_type": "code",
   "execution_count": null,
   "metadata": {},
   "outputs": [],
   "source": [
    "data_round = data.groupby('dataset').get_group(1)\n",
    "\n",
    "sns.lmplot(data=data_round, x='age', y='career_score', fit_reg=False)"
   ]
  },
  {
   "cell_type": "code",
   "execution_count": null,
   "metadata": {},
   "outputs": [],
   "source": [
    "\n",
    "sns.lmplot(data=data, x='age', y='career_score', col='dataset', col_wrap=3, fit_reg=False)"
   ]
  },
  {
   "cell_type": "markdown",
   "metadata": {},
   "source": [
    "## End Note\n",
    "The material above is obviously not a real dataset of age and career progression. The data is a subset of the 'Datasaurus Dozen', a dataset designed to demonstrate the need to visualise data rather than rely just on descriptive statistics. You can read more about the Datasaurus dozen and view an illustrative animation at the [Microsoft Revolution Analytics Blog](https://blog.revolutionanalytics.com/2017/05/the-datasaurus-dozen.html)."
   ]
  }
 ],
 "metadata": {
  "kernelspec": {
   "display_name": "teaching",
   "language": "python",
   "name": "python3"
  },
  "language_info": {
   "codemirror_mode": {
    "name": "ipython",
    "version": 3
   },
   "file_extension": ".py",
   "mimetype": "text/x-python",
   "name": "python",
   "nbconvert_exporter": "python",
   "pygments_lexer": "ipython3",
   "version": "3.10.5"
  }
 },
 "nbformat": 4,
 "nbformat_minor": 2
}
