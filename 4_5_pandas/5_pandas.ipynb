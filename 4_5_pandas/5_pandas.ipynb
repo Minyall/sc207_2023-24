{
 "cells": [
  {
   "cell_type": "markdown",
   "metadata": {},
   "source": [
    "# Cleaning, Transforming and Storing your Data\n",
    "<img src=\"https://github.com/Minyall/sc207_materials/blob/master/images/python_pandas.jpg?raw=true\" align=\"right\">\n",
    " Now we know a little about selecting, filtering and sorting our data, we can move on to cleaning and transforming our data too.\n",
    "\n",
    " Data is rarely perfect, missing values, anomalous values and duplicates can cause all sorts of issues in analysis. It may also be that data is not interpreted correctly straight away, and that we need to tell Pandas what kind of data it's looking at.\n",
    "\n",
    " Once we've got on top of that we can also explore how Pandas powerful summarisation tools can help us understand our data better.\n",
    "\n",
    "[__Pandas Documentation__](http://pandas.pydata.org/pandas-docs/stable/)\n",
    "\n",
    "\n"
   ]
  },
  {
   "cell_type": "code",
   "execution_count": 4,
   "metadata": {},
   "outputs": [
    {
     "data": {
      "text/html": [
       "<div>\n",
       "<style scoped>\n",
       "    .dataframe tbody tr th:only-of-type {\n",
       "        vertical-align: middle;\n",
       "    }\n",
       "\n",
       "    .dataframe tbody tr th {\n",
       "        vertical-align: top;\n",
       "    }\n",
       "\n",
       "    .dataframe thead th {\n",
       "        text-align: right;\n",
       "    }\n",
       "</style>\n",
       "<table border=\"1\" class=\"dataframe\">\n",
       "  <thead>\n",
       "    <tr style=\"text-align: right;\">\n",
       "      <th></th>\n",
       "      <th>track_id</th>\n",
       "      <th>track_name</th>\n",
       "      <th>artists</th>\n",
       "      <th>genre</th>\n",
       "      <th>release_year</th>\n",
       "      <th>release_date</th>\n",
       "      <th>explicit</th>\n",
       "      <th>popularity</th>\n",
       "      <th>duration_ms</th>\n",
       "      <th>playlist_name</th>\n",
       "      <th>danceability</th>\n",
       "      <th>loudness</th>\n",
       "      <th>speechiness</th>\n",
       "      <th>playlist_type</th>\n",
       "    </tr>\n",
       "  </thead>\n",
       "  <tbody>\n",
       "    <tr>\n",
       "      <th>0</th>\n",
       "      <td>5mjYQaktjmjcMKcUIcqz4s</td>\n",
       "      <td>Strangers</td>\n",
       "      <td>Kenya Grace</td>\n",
       "      <td>singer-songwriter pop</td>\n",
       "      <td>2023</td>\n",
       "      <td>2023-09-01</td>\n",
       "      <td>False</td>\n",
       "      <td>97</td>\n",
       "      <td>172964</td>\n",
       "      <td>Top 50 - United Kingdom</td>\n",
       "      <td>0.628</td>\n",
       "      <td>-8.307</td>\n",
       "      <td>NaN</td>\n",
       "      <td>mixed_pop</td>\n",
       "    </tr>\n",
       "    <tr>\n",
       "      <th>1</th>\n",
       "      <td>56y1jOTK0XSvJzVv9vHQBK</td>\n",
       "      <td>Paint The Town Red</td>\n",
       "      <td>Doja Cat</td>\n",
       "      <td>dance pop</td>\n",
       "      <td>2023</td>\n",
       "      <td>2023-09-20</td>\n",
       "      <td>True</td>\n",
       "      <td>87</td>\n",
       "      <td>230480</td>\n",
       "      <td>Top 50 - United Kingdom</td>\n",
       "      <td>0.864</td>\n",
       "      <td>-7.683</td>\n",
       "      <td>0.1940</td>\n",
       "      <td>mixed_pop</td>\n",
       "    </tr>\n",
       "    <tr>\n",
       "      <th>2</th>\n",
       "      <td>1reEeZH9wNt4z1ePYLyC7p</td>\n",
       "      <td>greedy</td>\n",
       "      <td>Tate McRae</td>\n",
       "      <td>alt z</td>\n",
       "      <td>2023</td>\n",
       "      <td>2023-09-13</td>\n",
       "      <td>True</td>\n",
       "      <td>31</td>\n",
       "      <td>131872</td>\n",
       "      <td>Top 50 - United Kingdom</td>\n",
       "      <td>0.750</td>\n",
       "      <td>-3.190</td>\n",
       "      <td>0.0322</td>\n",
       "      <td>mixed_pop</td>\n",
       "    </tr>\n",
       "    <tr>\n",
       "      <th>3</th>\n",
       "      <td>59NraMJsLaMCVtwXTSia8i</td>\n",
       "      <td>Prada</td>\n",
       "      <td>cassö</td>\n",
       "      <td>***OOPS!***</td>\n",
       "      <td>2023</td>\n",
       "      <td>2023-08-11</td>\n",
       "      <td>True</td>\n",
       "      <td>94</td>\n",
       "      <td>132359</td>\n",
       "      <td>Top 50 - United Kingdom</td>\n",
       "      <td>0.638</td>\n",
       "      <td>-5.804</td>\n",
       "      <td>0.0375</td>\n",
       "      <td>mixed_pop</td>\n",
       "    </tr>\n",
       "    <tr>\n",
       "      <th>4</th>\n",
       "      <td>5aIVCx5tnk0ntmdiinnYvw</td>\n",
       "      <td>Water</td>\n",
       "      <td>Tyla</td>\n",
       "      <td>***OOPS!***</td>\n",
       "      <td>2023</td>\n",
       "      <td>2023-07-28</td>\n",
       "      <td>False</td>\n",
       "      <td>91</td>\n",
       "      <td>200255</td>\n",
       "      <td>Top 50 - United Kingdom</td>\n",
       "      <td>0.673</td>\n",
       "      <td>-3.495</td>\n",
       "      <td>0.0755</td>\n",
       "      <td>mixed_pop</td>\n",
       "    </tr>\n",
       "  </tbody>\n",
       "</table>\n",
       "</div>"
      ],
      "text/plain": [
       "                 track_id          track_name      artists  \\\n",
       "0  5mjYQaktjmjcMKcUIcqz4s           Strangers  Kenya Grace   \n",
       "1  56y1jOTK0XSvJzVv9vHQBK  Paint The Town Red     Doja Cat   \n",
       "2  1reEeZH9wNt4z1ePYLyC7p              greedy   Tate McRae   \n",
       "3  59NraMJsLaMCVtwXTSia8i               Prada        cassö   \n",
       "4  5aIVCx5tnk0ntmdiinnYvw               Water         Tyla   \n",
       "\n",
       "                   genre  release_year release_date  explicit  popularity  \\\n",
       "0  singer-songwriter pop          2023   2023-09-01     False          97   \n",
       "1              dance pop          2023   2023-09-20      True          87   \n",
       "2                  alt z          2023   2023-09-13      True          31   \n",
       "3            ***OOPS!***          2023   2023-08-11      True          94   \n",
       "4            ***OOPS!***          2023   2023-07-28     False          91   \n",
       "\n",
       "   duration_ms            playlist_name  danceability  loudness  speechiness  \\\n",
       "0       172964  Top 50 - United Kingdom         0.628    -8.307          NaN   \n",
       "1       230480  Top 50 - United Kingdom         0.864    -7.683       0.1940   \n",
       "2       131872  Top 50 - United Kingdom         0.750    -3.190       0.0322   \n",
       "3       132359  Top 50 - United Kingdom         0.638    -5.804       0.0375   \n",
       "4       200255  Top 50 - United Kingdom         0.673    -3.495       0.0755   \n",
       "\n",
       "  playlist_type  \n",
       "0     mixed_pop  \n",
       "1     mixed_pop  \n",
       "2     mixed_pop  \n",
       "3     mixed_pop  \n",
       "4     mixed_pop  "
      ]
     },
     "execution_count": 4,
     "metadata": {},
     "output_type": "execute_result"
    }
   ],
   "source": [
    "import pandas as pd\n",
    "filename = 'spotify_top_songs.csv'\n",
    "songs_df = pd.read_csv(filename)\n",
    "songs_df.head()"
   ]
  },
  {
   "cell_type": "markdown",
   "metadata": {},
   "source": [
    "## Data Cleaning\n",
    "Data cleaning can involve a range of techniques, but the unifying goal is to get your data into a state that is ready for analysis. This could include:\n",
    "- Removing rows where data is missing\n",
    "- Replacing missing data with another value.\n",
    "- Replacing data that may be oddly formatted to make it more analysis compatible.\n",
    "- Transforming the type of data in a column to correct mistakes or to make it more useful."
   ]
  },
  {
   "cell_type": "markdown",
   "metadata": {},
   "source": [
    "\n",
    "If we examine the `.info()` we can quickly identify if there are missing values that Pandas knows about by comparing the total entries with the 'Non-Null Count' for each column."
   ]
  },
  {
   "cell_type": "markdown",
   "metadata": {},
   "source": [
    "### Dropping and filling missing data"
   ]
  },
  {
   "cell_type": "code",
   "execution_count": 5,
   "metadata": {},
   "outputs": [
    {
     "name": "stdout",
     "output_type": "stream",
     "text": [
      "<class 'pandas.core.frame.DataFrame'>\n",
      "RangeIndex: 1280 entries, 0 to 1279\n",
      "Data columns (total 14 columns):\n",
      " #   Column         Non-Null Count  Dtype  \n",
      "---  ------         --------------  -----  \n",
      " 0   track_id       1280 non-null   object \n",
      " 1   track_name     1280 non-null   object \n",
      " 2   artists        1280 non-null   object \n",
      " 3   genre          1280 non-null   object \n",
      " 4   release_year   1280 non-null   int64  \n",
      " 5   release_date   1280 non-null   object \n",
      " 6   explicit       1280 non-null   bool   \n",
      " 7   popularity     1280 non-null   int64  \n",
      " 8   duration_ms    1280 non-null   int64  \n",
      " 9   playlist_name  1280 non-null   object \n",
      " 10  danceability   1280 non-null   float64\n",
      " 11  loudness       1280 non-null   float64\n",
      " 12  speechiness    1279 non-null   float64\n",
      " 13  playlist_type  1280 non-null   object \n",
      "dtypes: bool(1), float64(3), int64(3), object(7)\n",
      "memory usage: 131.4+ KB\n"
     ]
    }
   ],
   "source": [
    "songs_df.info()"
   ]
  },
  {
   "cell_type": "markdown",
   "metadata": {},
   "source": [
    "We can identify which row is missing that value for speechiness using a special filter called `.isna()`"
   ]
  },
  {
   "cell_type": "code",
   "execution_count": 6,
   "metadata": {},
   "outputs": [
    {
     "data": {
      "text/html": [
       "<div>\n",
       "<style scoped>\n",
       "    .dataframe tbody tr th:only-of-type {\n",
       "        vertical-align: middle;\n",
       "    }\n",
       "\n",
       "    .dataframe tbody tr th {\n",
       "        vertical-align: top;\n",
       "    }\n",
       "\n",
       "    .dataframe thead th {\n",
       "        text-align: right;\n",
       "    }\n",
       "</style>\n",
       "<table border=\"1\" class=\"dataframe\">\n",
       "  <thead>\n",
       "    <tr style=\"text-align: right;\">\n",
       "      <th></th>\n",
       "      <th>track_id</th>\n",
       "      <th>track_name</th>\n",
       "      <th>artists</th>\n",
       "      <th>genre</th>\n",
       "      <th>release_year</th>\n",
       "      <th>release_date</th>\n",
       "      <th>explicit</th>\n",
       "      <th>popularity</th>\n",
       "      <th>duration_ms</th>\n",
       "      <th>playlist_name</th>\n",
       "      <th>danceability</th>\n",
       "      <th>loudness</th>\n",
       "      <th>speechiness</th>\n",
       "      <th>playlist_type</th>\n",
       "    </tr>\n",
       "  </thead>\n",
       "  <tbody>\n",
       "    <tr>\n",
       "      <th>0</th>\n",
       "      <td>5mjYQaktjmjcMKcUIcqz4s</td>\n",
       "      <td>Strangers</td>\n",
       "      <td>Kenya Grace</td>\n",
       "      <td>singer-songwriter pop</td>\n",
       "      <td>2023</td>\n",
       "      <td>2023-09-01</td>\n",
       "      <td>False</td>\n",
       "      <td>97</td>\n",
       "      <td>172964</td>\n",
       "      <td>Top 50 - United Kingdom</td>\n",
       "      <td>0.628</td>\n",
       "      <td>-8.307</td>\n",
       "      <td>NaN</td>\n",
       "      <td>mixed_pop</td>\n",
       "    </tr>\n",
       "  </tbody>\n",
       "</table>\n",
       "</div>"
      ],
      "text/plain": [
       "                 track_id track_name      artists                  genre  \\\n",
       "0  5mjYQaktjmjcMKcUIcqz4s  Strangers  Kenya Grace  singer-songwriter pop   \n",
       "\n",
       "   release_year release_date  explicit  popularity  duration_ms  \\\n",
       "0          2023   2023-09-01     False          97       172964   \n",
       "\n",
       "             playlist_name  danceability  loudness  speechiness playlist_type  \n",
       "0  Top 50 - United Kingdom         0.628    -8.307          NaN     mixed_pop  "
      ]
     },
     "execution_count": 6,
     "metadata": {},
     "output_type": "execute_result"
    }
   ],
   "source": [
    "songs_df[songs_df['speechiness'].isna()]"
   ]
  },
  {
   "cell_type": "markdown",
   "metadata": {},
   "source": [
    "There are multiple approaches to missing data, depending on your analysis. The simplest approach is to simply drop any rows that have any missing data. `.dropna()` will do this for us, returning a version of the dataframe where every row has a value for every column. \n",
    "\n",
    "If you only want to drop rows with a missing value in a specific column(s) you can use the `subset=` argument. You must pass it a list of column names, even when only checking one column.\n",
    "\n",
    "We can see that the total number of rows is now one less than the original dataframe."
   ]
  },
  {
   "cell_type": "code",
   "execution_count": 7,
   "metadata": {},
   "outputs": [
    {
     "name": "stdout",
     "output_type": "stream",
     "text": [
      "<class 'pandas.core.frame.DataFrame'>\n",
      "Int64Index: 1279 entries, 1 to 1279\n",
      "Data columns (total 14 columns):\n",
      " #   Column         Non-Null Count  Dtype  \n",
      "---  ------         --------------  -----  \n",
      " 0   track_id       1279 non-null   object \n",
      " 1   track_name     1279 non-null   object \n",
      " 2   artists        1279 non-null   object \n",
      " 3   genre          1279 non-null   object \n",
      " 4   release_year   1279 non-null   int64  \n",
      " 5   release_date   1279 non-null   object \n",
      " 6   explicit       1279 non-null   bool   \n",
      " 7   popularity     1279 non-null   int64  \n",
      " 8   duration_ms    1279 non-null   int64  \n",
      " 9   playlist_name  1279 non-null   object \n",
      " 10  danceability   1279 non-null   float64\n",
      " 11  loudness       1279 non-null   float64\n",
      " 12  speechiness    1279 non-null   float64\n",
      " 13  playlist_type  1279 non-null   object \n",
      "dtypes: bool(1), float64(3), int64(3), object(7)\n",
      "memory usage: 141.1+ KB\n"
     ]
    }
   ],
   "source": [
    "songs_df.dropna(subset=['speechiness']).info()"
   ]
  },
  {
   "cell_type": "markdown",
   "metadata": {},
   "source": [
    "As `.dropna()` returns a version of the dataframe without the offending rows, if we want to continue working with the cleaned version, we simply overwrite the variable with the new dataframe.\n",
    "\n",
    "This is shown below as a comment as we don't want to actually do that just yet!"
   ]
  },
  {
   "cell_type": "code",
   "execution_count": 8,
   "metadata": {},
   "outputs": [],
   "source": [
    "# songs_df = songs_df.dropna()"
   ]
  },
  {
   "cell_type": "markdown",
   "metadata": {},
   "source": [
    "If we wanted to keep the row, we could instead replace the missing value with another value such as the average value for that column. There are other ways to generate replacement data but they have their issues. In general it is usually better to drop these rows unless you absolutely have to keep them.\n",
    "\n",
    "Again to save the transformed result we overwrite, but this time we overwrite the specific column in the dataframe. Shown below as a comment to avoid committing changes."
   ]
  },
  {
   "cell_type": "code",
   "execution_count": 9,
   "metadata": {},
   "outputs": [],
   "source": [
    "# avg_speechiness = songs_df['speechiness'].mean()\n",
    "# songs_df['speechiness'] = songs_df['speechiness'].fillna(avg_speechiness)"
   ]
  },
  {
   "cell_type": "markdown",
   "metadata": {},
   "source": [
    "### When missing data doesn't look missing\n",
    "Sometimes datasets can fool you into thinking they're more complete than they are. According to `.info()` there are no missing values in the `genre` column. However if we look at the data we can see an odd value called `***OOPS!***`. This looks like a placeholder value entered if data collection went wrong. \n",
    "\n",
    "We can replace this with a `NaN` or `NA`, an object that represents a missing value - when we used `.isna`, `.dropna` and `.fillna` Pandas was specifically looking for these `NA` objects.\n",
    "\n",
    "First let's check how many of these odd placeholder values we have."
   ]
  },
  {
   "cell_type": "code",
   "execution_count": 10,
   "metadata": {},
   "outputs": [
    {
     "name": "stdout",
     "output_type": "stream",
     "text": [
      "<class 'pandas.core.frame.DataFrame'>\n",
      "Int64Index: 50 entries, 3 to 1210\n",
      "Data columns (total 14 columns):\n",
      " #   Column         Non-Null Count  Dtype  \n",
      "---  ------         --------------  -----  \n",
      " 0   track_id       50 non-null     object \n",
      " 1   track_name     50 non-null     object \n",
      " 2   artists        50 non-null     object \n",
      " 3   genre          50 non-null     object \n",
      " 4   release_year   50 non-null     int64  \n",
      " 5   release_date   50 non-null     object \n",
      " 6   explicit       50 non-null     bool   \n",
      " 7   popularity     50 non-null     int64  \n",
      " 8   duration_ms    50 non-null     int64  \n",
      " 9   playlist_name  50 non-null     object \n",
      " 10  danceability   50 non-null     float64\n",
      " 11  loudness       50 non-null     float64\n",
      " 12  speechiness    50 non-null     float64\n",
      " 13  playlist_type  50 non-null     object \n",
      "dtypes: bool(1), float64(3), int64(3), object(7)\n",
      "memory usage: 5.5+ KB\n"
     ]
    }
   ],
   "source": [
    "songs_df[songs_df['genre'] == '***OOPS!***'].info()"
   ]
  },
  {
   "cell_type": "markdown",
   "metadata": {},
   "source": [
    "We can `.replace()` all these values with `NaN` objects so that we have a clearer picture of our data, and can then have the option to use our other missing data cleaning methods."
   ]
  },
  {
   "cell_type": "code",
   "execution_count": 11,
   "metadata": {},
   "outputs": [
    {
     "name": "stdout",
     "output_type": "stream",
     "text": [
      "<class 'pandas.core.frame.DataFrame'>\n",
      "RangeIndex: 1280 entries, 0 to 1279\n",
      "Data columns (total 14 columns):\n",
      " #   Column         Non-Null Count  Dtype  \n",
      "---  ------         --------------  -----  \n",
      " 0   track_id       1280 non-null   object \n",
      " 1   track_name     1280 non-null   object \n",
      " 2   artists        1280 non-null   object \n",
      " 3   genre          1230 non-null   object \n",
      " 4   release_year   1280 non-null   int64  \n",
      " 5   release_date   1280 non-null   object \n",
      " 6   explicit       1280 non-null   bool   \n",
      " 7   popularity     1280 non-null   int64  \n",
      " 8   duration_ms    1280 non-null   int64  \n",
      " 9   playlist_name  1280 non-null   object \n",
      " 10  danceability   1280 non-null   float64\n",
      " 11  loudness       1280 non-null   float64\n",
      " 12  speechiness    1279 non-null   float64\n",
      " 13  playlist_type  1280 non-null   object \n",
      "dtypes: bool(1), float64(3), int64(3), object(7)\n",
      "memory usage: 131.4+ KB\n"
     ]
    }
   ],
   "source": [
    "songs_df['genre'] = songs_df['genre'].replace('***OOPS!***', pd.NA)\n",
    "songs_df.info()"
   ]
  },
  {
   "cell_type": "markdown",
   "metadata": {},
   "source": [
    "Now we have a more accurate representation of our missing values let's go ahead an just drop any row with missing data using `.dropna()`."
   ]
  },
  {
   "cell_type": "code",
   "execution_count": 12,
   "metadata": {},
   "outputs": [
    {
     "data": {
      "text/html": [
       "<div>\n",
       "<style scoped>\n",
       "    .dataframe tbody tr th:only-of-type {\n",
       "        vertical-align: middle;\n",
       "    }\n",
       "\n",
       "    .dataframe tbody tr th {\n",
       "        vertical-align: top;\n",
       "    }\n",
       "\n",
       "    .dataframe thead th {\n",
       "        text-align: right;\n",
       "    }\n",
       "</style>\n",
       "<table border=\"1\" class=\"dataframe\">\n",
       "  <thead>\n",
       "    <tr style=\"text-align: right;\">\n",
       "      <th></th>\n",
       "      <th>track_id</th>\n",
       "      <th>track_name</th>\n",
       "      <th>artists</th>\n",
       "      <th>genre</th>\n",
       "      <th>release_year</th>\n",
       "      <th>release_date</th>\n",
       "      <th>explicit</th>\n",
       "      <th>popularity</th>\n",
       "      <th>duration_ms</th>\n",
       "      <th>playlist_name</th>\n",
       "      <th>danceability</th>\n",
       "      <th>loudness</th>\n",
       "      <th>speechiness</th>\n",
       "      <th>playlist_type</th>\n",
       "    </tr>\n",
       "  </thead>\n",
       "  <tbody>\n",
       "    <tr>\n",
       "      <th>1</th>\n",
       "      <td>56y1jOTK0XSvJzVv9vHQBK</td>\n",
       "      <td>Paint The Town Red</td>\n",
       "      <td>Doja Cat</td>\n",
       "      <td>dance pop</td>\n",
       "      <td>2023</td>\n",
       "      <td>2023-09-20</td>\n",
       "      <td>True</td>\n",
       "      <td>87</td>\n",
       "      <td>230480</td>\n",
       "      <td>Top 50 - United Kingdom</td>\n",
       "      <td>0.864</td>\n",
       "      <td>-7.683</td>\n",
       "      <td>0.1940</td>\n",
       "      <td>mixed_pop</td>\n",
       "    </tr>\n",
       "    <tr>\n",
       "      <th>2</th>\n",
       "      <td>1reEeZH9wNt4z1ePYLyC7p</td>\n",
       "      <td>greedy</td>\n",
       "      <td>Tate McRae</td>\n",
       "      <td>alt z</td>\n",
       "      <td>2023</td>\n",
       "      <td>2023-09-13</td>\n",
       "      <td>True</td>\n",
       "      <td>31</td>\n",
       "      <td>131872</td>\n",
       "      <td>Top 50 - United Kingdom</td>\n",
       "      <td>0.750</td>\n",
       "      <td>-3.190</td>\n",
       "      <td>0.0322</td>\n",
       "      <td>mixed_pop</td>\n",
       "    </tr>\n",
       "    <tr>\n",
       "      <th>5</th>\n",
       "      <td>2FDTHlrBguDzQkp7PVj16Q</td>\n",
       "      <td>Sprinter</td>\n",
       "      <td>Dave</td>\n",
       "      <td>uk hip hop</td>\n",
       "      <td>2023</td>\n",
       "      <td>2023-06-01</td>\n",
       "      <td>True</td>\n",
       "      <td>94</td>\n",
       "      <td>229133</td>\n",
       "      <td>Top 50 - United Kingdom</td>\n",
       "      <td>0.916</td>\n",
       "      <td>-8.067</td>\n",
       "      <td>0.2410</td>\n",
       "      <td>mixed_pop</td>\n",
       "    </tr>\n",
       "    <tr>\n",
       "      <th>6</th>\n",
       "      <td>1BxfuPKGuaTgP7aM0Bbdwr</td>\n",
       "      <td>Cruel Summer</td>\n",
       "      <td>Taylor Swift</td>\n",
       "      <td>pop</td>\n",
       "      <td>2019</td>\n",
       "      <td>2019-08-23</td>\n",
       "      <td>False</td>\n",
       "      <td>99</td>\n",
       "      <td>178426</td>\n",
       "      <td>Top 50 - United Kingdom</td>\n",
       "      <td>0.552</td>\n",
       "      <td>-5.707</td>\n",
       "      <td>0.1570</td>\n",
       "      <td>mixed_pop</td>\n",
       "    </tr>\n",
       "    <tr>\n",
       "      <th>7</th>\n",
       "      <td>3vkCueOmm7xQDoJ17W1Pm3</td>\n",
       "      <td>My Love Mine All Mine</td>\n",
       "      <td>Mitski</td>\n",
       "      <td>brooklyn indie</td>\n",
       "      <td>2023</td>\n",
       "      <td>2023-09-15</td>\n",
       "      <td>False</td>\n",
       "      <td>93</td>\n",
       "      <td>137773</td>\n",
       "      <td>Top 50 - United Kingdom</td>\n",
       "      <td>0.504</td>\n",
       "      <td>-14.958</td>\n",
       "      <td>0.0321</td>\n",
       "      <td>mixed_pop</td>\n",
       "    </tr>\n",
       "  </tbody>\n",
       "</table>\n",
       "</div>"
      ],
      "text/plain": [
       "                 track_id             track_name       artists  \\\n",
       "1  56y1jOTK0XSvJzVv9vHQBK     Paint The Town Red      Doja Cat   \n",
       "2  1reEeZH9wNt4z1ePYLyC7p                 greedy    Tate McRae   \n",
       "5  2FDTHlrBguDzQkp7PVj16Q               Sprinter          Dave   \n",
       "6  1BxfuPKGuaTgP7aM0Bbdwr           Cruel Summer  Taylor Swift   \n",
       "7  3vkCueOmm7xQDoJ17W1Pm3  My Love Mine All Mine        Mitski   \n",
       "\n",
       "            genre  release_year release_date  explicit  popularity  \\\n",
       "1       dance pop          2023   2023-09-20      True          87   \n",
       "2           alt z          2023   2023-09-13      True          31   \n",
       "5      uk hip hop          2023   2023-06-01      True          94   \n",
       "6             pop          2019   2019-08-23     False          99   \n",
       "7  brooklyn indie          2023   2023-09-15     False          93   \n",
       "\n",
       "   duration_ms            playlist_name  danceability  loudness  speechiness  \\\n",
       "1       230480  Top 50 - United Kingdom         0.864    -7.683       0.1940   \n",
       "2       131872  Top 50 - United Kingdom         0.750    -3.190       0.0322   \n",
       "5       229133  Top 50 - United Kingdom         0.916    -8.067       0.2410   \n",
       "6       178426  Top 50 - United Kingdom         0.552    -5.707       0.1570   \n",
       "7       137773  Top 50 - United Kingdom         0.504   -14.958       0.0321   \n",
       "\n",
       "  playlist_type  \n",
       "1     mixed_pop  \n",
       "2     mixed_pop  \n",
       "5     mixed_pop  \n",
       "6     mixed_pop  \n",
       "7     mixed_pop  "
      ]
     },
     "execution_count": 12,
     "metadata": {},
     "output_type": "execute_result"
    }
   ],
   "source": [
    "songs_df = songs_df.dropna()\n",
    "songs_df.head()"
   ]
  },
  {
   "cell_type": "markdown",
   "metadata": {},
   "source": [
    "Unless you want to retain the index to match back to the original data later, often it is a good idea to `.reset_index()` before continuing. We use `drop=True` to ensure the original index is not retained and just cleaned away entirely."
   ]
  },
  {
   "cell_type": "code",
   "execution_count": 13,
   "metadata": {},
   "outputs": [],
   "source": [
    "songs_df = songs_df.reset_index(drop=True)"
   ]
  },
  {
   "cell_type": "markdown",
   "metadata": {},
   "source": [
    "### Fixing Wrong data types\n",
    "Sometimes either due to the way data was interpreted when Pandas loaded it, or due to the way data was created, it won't necessarily be the right type of data.\n",
    "\n",
    "In our dataset we have a `release_year` column, and currently it is listed as an `object`"
   ]
  },
  {
   "cell_type": "code",
   "execution_count": 14,
   "metadata": {},
   "outputs": [
    {
     "name": "stdout",
     "output_type": "stream",
     "text": [
      "<class 'pandas.core.frame.DataFrame'>\n",
      "RangeIndex: 1229 entries, 0 to 1228\n",
      "Data columns (total 14 columns):\n",
      " #   Column         Non-Null Count  Dtype  \n",
      "---  ------         --------------  -----  \n",
      " 0   track_id       1229 non-null   object \n",
      " 1   track_name     1229 non-null   object \n",
      " 2   artists        1229 non-null   object \n",
      " 3   genre          1229 non-null   object \n",
      " 4   release_year   1229 non-null   int64  \n",
      " 5   release_date   1229 non-null   object \n",
      " 6   explicit       1229 non-null   bool   \n",
      " 7   popularity     1229 non-null   int64  \n",
      " 8   duration_ms    1229 non-null   int64  \n",
      " 9   playlist_name  1229 non-null   object \n",
      " 10  danceability   1229 non-null   float64\n",
      " 11  loudness       1229 non-null   float64\n",
      " 12  speechiness    1229 non-null   float64\n",
      " 13  playlist_type  1229 non-null   object \n",
      "dtypes: bool(1), float64(3), int64(3), object(7)\n",
      "memory usage: 126.1+ KB\n"
     ]
    }
   ],
   "source": [
    "songs_df.info()"
   ]
  },
  {
   "cell_type": "markdown",
   "metadata": {},
   "source": [
    "If we look at the `release_date` value for the first row, we can see it is actually a string, and if we ask Pandas to `.describe()` it to us it can do very little as it thinks they are just words, rather than dates."
   ]
  },
  {
   "cell_type": "code",
   "execution_count": 15,
   "metadata": {},
   "outputs": [
    {
     "data": {
      "text/plain": [
       "'2023-09-20'"
      ]
     },
     "execution_count": 15,
     "metadata": {},
     "output_type": "execute_result"
    }
   ],
   "source": [
    "songs_df.loc[0,'release_date']"
   ]
  },
  {
   "cell_type": "code",
   "execution_count": 16,
   "metadata": {},
   "outputs": [
    {
     "data": {
      "text/plain": [
       "count           1229\n",
       "unique           684\n",
       "top       2023-09-08\n",
       "freq              15\n",
       "Name: release_date, dtype: object"
      ]
     },
     "execution_count": 16,
     "metadata": {},
     "output_type": "execute_result"
    }
   ],
   "source": [
    "songs_df['release_date'].describe()"
   ]
  },
  {
   "cell_type": "markdown",
   "metadata": {},
   "source": [
    "We can recast the column as a date by using `pd.to_datetime()` which takes a column of strings and returns a column of dates."
   ]
  },
  {
   "cell_type": "code",
   "execution_count": 17,
   "metadata": {},
   "outputs": [
    {
     "data": {
      "text/plain": [
       "count                             1229\n",
       "mean     2001-01-04 20:20:53.702196864\n",
       "min                1954-01-01 00:00:00\n",
       "25%                1983-03-23 00:00:00\n",
       "50%                2008-03-28 00:00:00\n",
       "75%                2020-05-22 00:00:00\n",
       "max                2023-10-13 00:00:00\n",
       "Name: release_date, dtype: object"
      ]
     },
     "execution_count": 17,
     "metadata": {},
     "output_type": "execute_result"
    }
   ],
   "source": [
    "songs_df['release_date'] = pd.to_datetime(songs_df['release_date'])\n",
    "songs_df['release_date'].describe(datetime_is_numeric=True)"
   ]
  },
  {
   "cell_type": "markdown",
   "metadata": {},
   "source": [
    "## Exercises 1\n",
    "Take a look at section 1 of the exercises sheet. Complete the tasks before moving on."
   ]
  },
  {
   "cell_type": "markdown",
   "metadata": {},
   "source": [
    "## Data Transformations\n",
    "We can use Pandas to quickly transform our data to provide us quick insights into the data that would otherwise be difficult or impossible to achieve manually. For example we can:\n",
    "- Count the number of times particular values are used, good for categorical data.\n",
    "- Use `groupby` to compare different subsets of data quickly."
   ]
  },
  {
   "cell_type": "markdown",
   "metadata": {},
   "source": [
    "### Value Counts\n",
    "A simple but powerful method for quickly summarising a column of categorical data, often string data. For example we could ask how many tracks are in the dataset per playlist, and get the answer easily using `.value_counts()`."
   ]
  },
  {
   "cell_type": "code",
   "execution_count": 18,
   "metadata": {},
   "outputs": [
    {
     "data": {
      "text/plain": [
       "Hit Rewind                         100\n",
       "All Out 2000s                      100\n",
       "All Out 2010s                      100\n",
       "All Out 90s                        100\n",
       "All Out 80s                        100\n",
       "All Out 60s                        100\n",
       "All Out 70s                         99\n",
       "All Out 50s                         99\n",
       "Every Official UK Number 1 Ever     93\n",
       "The Pop List                        88\n",
       "alt/pop                             59\n",
       "Cheesy Hits!                        50\n",
       "Top 50 - United Kingdom             47\n",
       "Today's Top Hits                    47\n",
       "Every UK Number One: 2023           47\n",
       "Name: playlist_name, dtype: int64"
      ]
     },
     "execution_count": 18,
     "metadata": {},
     "output_type": "execute_result"
    }
   ],
   "source": [
    "songs_df['playlist_name'].value_counts()"
   ]
  },
  {
   "cell_type": "markdown",
   "metadata": {},
   "source": [
    "Or the most mentioned artist..."
   ]
  },
  {
   "cell_type": "code",
   "execution_count": 19,
   "metadata": {},
   "outputs": [
    {
     "data": {
      "text/plain": [
       "Ed Sheeran        21\n",
       "Olivia Rodrigo    17\n",
       "Drake             17\n",
       "Taylor Swift      15\n",
       "Billie Eilish     13\n",
       "The Weeknd        11\n",
       "Coldplay          11\n",
       "Calvin Harris     11\n",
       "Lewis Capaldi     10\n",
       "Rihanna           10\n",
       "Name: artists, dtype: int64"
      ]
     },
     "execution_count": 19,
     "metadata": {},
     "output_type": "execute_result"
    }
   ],
   "source": [
    "artist_counts = songs_df['artists'].value_counts().head(10)\n",
    "artist_counts"
   ]
  },
  {
   "cell_type": "markdown",
   "metadata": {},
   "source": [
    "One thing to note is that value_counts returns a Series (column), just like any other column in a dataframe. It sets the index to be the unique values from the column it is counting, in our case, artist names.\n",
    "\n",
    "This means that if you have a particular value in mind you want to check, you can use the `.loc` to select the specific value, or for convenience omit `.loc` and just use square brackets `[]`."
   ]
  },
  {
   "cell_type": "code",
   "execution_count": 20,
   "metadata": {},
   "outputs": [
    {
     "data": {
      "text/plain": [
       "13"
      ]
     },
     "execution_count": 20,
     "metadata": {},
     "output_type": "execute_result"
    }
   ],
   "source": [
    "artist_counts.loc['Billie Eilish']"
   ]
  },
  {
   "cell_type": "markdown",
   "metadata": {},
   "source": [
    "We could also use this index in other operations. For example we could filter our dataset to only contain records of our top 10 most mentioned artists."
   ]
  },
  {
   "cell_type": "code",
   "execution_count": 21,
   "metadata": {},
   "outputs": [
    {
     "data": {
      "text/plain": [
       "Index(['Ed Sheeran', 'Olivia Rodrigo', 'Drake', 'Taylor Swift',\n",
       "       'Billie Eilish', 'The Weeknd', 'Coldplay', 'Calvin Harris',\n",
       "       'Lewis Capaldi', 'Rihanna'],\n",
       "      dtype='object')"
      ]
     },
     "execution_count": 21,
     "metadata": {},
     "output_type": "execute_result"
    }
   ],
   "source": [
    "top_10_artists = artist_counts.index\n",
    "top_10_artists"
   ]
  },
  {
   "cell_type": "code",
   "execution_count": 22,
   "metadata": {},
   "outputs": [
    {
     "data": {
      "text/html": [
       "<div>\n",
       "<style scoped>\n",
       "    .dataframe tbody tr th:only-of-type {\n",
       "        vertical-align: middle;\n",
       "    }\n",
       "\n",
       "    .dataframe tbody tr th {\n",
       "        vertical-align: top;\n",
       "    }\n",
       "\n",
       "    .dataframe thead th {\n",
       "        text-align: right;\n",
       "    }\n",
       "</style>\n",
       "<table border=\"1\" class=\"dataframe\">\n",
       "  <thead>\n",
       "    <tr style=\"text-align: right;\">\n",
       "      <th></th>\n",
       "      <th>track_id</th>\n",
       "      <th>track_name</th>\n",
       "      <th>artists</th>\n",
       "      <th>genre</th>\n",
       "      <th>release_year</th>\n",
       "      <th>release_date</th>\n",
       "      <th>explicit</th>\n",
       "      <th>popularity</th>\n",
       "      <th>duration_ms</th>\n",
       "      <th>playlist_name</th>\n",
       "      <th>danceability</th>\n",
       "      <th>loudness</th>\n",
       "      <th>speechiness</th>\n",
       "      <th>playlist_type</th>\n",
       "    </tr>\n",
       "  </thead>\n",
       "  <tbody>\n",
       "    <tr>\n",
       "      <th>3</th>\n",
       "      <td>1BxfuPKGuaTgP7aM0Bbdwr</td>\n",
       "      <td>Cruel Summer</td>\n",
       "      <td>Taylor Swift</td>\n",
       "      <td>pop</td>\n",
       "      <td>2019</td>\n",
       "      <td>2019-08-23</td>\n",
       "      <td>False</td>\n",
       "      <td>99</td>\n",
       "      <td>178426</td>\n",
       "      <td>Top 50 - United Kingdom</td>\n",
       "      <td>0.552</td>\n",
       "      <td>-5.707</td>\n",
       "      <td>0.1570</td>\n",
       "      <td>mixed_pop</td>\n",
       "    </tr>\n",
       "    <tr>\n",
       "      <th>5</th>\n",
       "      <td>1kuGVB7EU95pJObxwvfwKS</td>\n",
       "      <td>vampire</td>\n",
       "      <td>Olivia Rodrigo</td>\n",
       "      <td>pop</td>\n",
       "      <td>2023</td>\n",
       "      <td>2023-09-08</td>\n",
       "      <td>True</td>\n",
       "      <td>95</td>\n",
       "      <td>219724</td>\n",
       "      <td>Top 50 - United Kingdom</td>\n",
       "      <td>0.511</td>\n",
       "      <td>-5.745</td>\n",
       "      <td>0.0578</td>\n",
       "      <td>mixed_pop</td>\n",
       "    </tr>\n",
       "    <tr>\n",
       "      <th>7</th>\n",
       "      <td>2YSzYUF3jWqb9YP9VXmpjE</td>\n",
       "      <td>IDGAF (feat. Yeat)</td>\n",
       "      <td>Drake</td>\n",
       "      <td>canadian hip hop</td>\n",
       "      <td>2023</td>\n",
       "      <td>2023-10-06</td>\n",
       "      <td>True</td>\n",
       "      <td>89</td>\n",
       "      <td>260111</td>\n",
       "      <td>Top 50 - United Kingdom</td>\n",
       "      <td>0.663</td>\n",
       "      <td>-8.399</td>\n",
       "      <td>0.2710</td>\n",
       "      <td>mixed_pop</td>\n",
       "    </tr>\n",
       "    <tr>\n",
       "      <th>11</th>\n",
       "      <td>6wf7Yu7cxBSPrRlWeSeK0Q</td>\n",
       "      <td>What Was I Made For? [From The Motion Picture ...</td>\n",
       "      <td>Billie Eilish</td>\n",
       "      <td>art pop</td>\n",
       "      <td>2023</td>\n",
       "      <td>2023-07-13</td>\n",
       "      <td>False</td>\n",
       "      <td>96</td>\n",
       "      <td>222369</td>\n",
       "      <td>Top 50 - United Kingdom</td>\n",
       "      <td>0.444</td>\n",
       "      <td>-17.665</td>\n",
       "      <td>0.0307</td>\n",
       "      <td>mixed_pop</td>\n",
       "    </tr>\n",
       "    <tr>\n",
       "      <th>13</th>\n",
       "      <td>3IX0yuEVvDbnqUwMBB3ouC</td>\n",
       "      <td>bad idea right?</td>\n",
       "      <td>Olivia Rodrigo</td>\n",
       "      <td>pop</td>\n",
       "      <td>2023</td>\n",
       "      <td>2023-09-08</td>\n",
       "      <td>True</td>\n",
       "      <td>94</td>\n",
       "      <td>184783</td>\n",
       "      <td>Top 50 - United Kingdom</td>\n",
       "      <td>0.627</td>\n",
       "      <td>-3.446</td>\n",
       "      <td>0.0955</td>\n",
       "      <td>mixed_pop</td>\n",
       "    </tr>\n",
       "  </tbody>\n",
       "</table>\n",
       "</div>"
      ],
      "text/plain": [
       "                  track_id                                         track_name  \\\n",
       "3   1BxfuPKGuaTgP7aM0Bbdwr                                       Cruel Summer   \n",
       "5   1kuGVB7EU95pJObxwvfwKS                                            vampire   \n",
       "7   2YSzYUF3jWqb9YP9VXmpjE                                 IDGAF (feat. Yeat)   \n",
       "11  6wf7Yu7cxBSPrRlWeSeK0Q  What Was I Made For? [From The Motion Picture ...   \n",
       "13  3IX0yuEVvDbnqUwMBB3ouC                                    bad idea right?   \n",
       "\n",
       "           artists             genre  release_year release_date  explicit  \\\n",
       "3     Taylor Swift               pop          2019   2019-08-23     False   \n",
       "5   Olivia Rodrigo               pop          2023   2023-09-08      True   \n",
       "7            Drake  canadian hip hop          2023   2023-10-06      True   \n",
       "11   Billie Eilish           art pop          2023   2023-07-13     False   \n",
       "13  Olivia Rodrigo               pop          2023   2023-09-08      True   \n",
       "\n",
       "    popularity  duration_ms            playlist_name  danceability  loudness  \\\n",
       "3           99       178426  Top 50 - United Kingdom         0.552    -5.707   \n",
       "5           95       219724  Top 50 - United Kingdom         0.511    -5.745   \n",
       "7           89       260111  Top 50 - United Kingdom         0.663    -8.399   \n",
       "11          96       222369  Top 50 - United Kingdom         0.444   -17.665   \n",
       "13          94       184783  Top 50 - United Kingdom         0.627    -3.446   \n",
       "\n",
       "    speechiness playlist_type  \n",
       "3        0.1570     mixed_pop  \n",
       "5        0.0578     mixed_pop  \n",
       "7        0.2710     mixed_pop  \n",
       "11       0.0307     mixed_pop  \n",
       "13       0.0955     mixed_pop  "
      ]
     },
     "execution_count": 22,
     "metadata": {},
     "output_type": "execute_result"
    }
   ],
   "source": [
    "top_10_filter = songs_df['artists'].isin(top_10_artists)\n",
    "top_10_artists_df = songs_df[top_10_filter]\n",
    "top_10_artists_df.head()"
   ]
  },
  {
   "cell_type": "markdown",
   "metadata": {},
   "source": [
    "`.value_counts()` also allows us to get proportions rather than frequencies by using the argument `normalize=True`. The simplest way to interpret the numbers is as a percentage. For example `0.1` is 10%, `0.04` is 4% etc."
   ]
  },
  {
   "cell_type": "code",
   "execution_count": 23,
   "metadata": {},
   "outputs": [
    {
     "data": {
      "text/plain": [
       "pop                0.109845\n",
       "dance pop          0.080553\n",
       "album rock         0.075671\n",
       "adult standards    0.045566\n",
       "alt z              0.022783\n",
       "                     ...   \n",
       "electro            0.000814\n",
       "dutch edm          0.000814\n",
       "indie rock         0.000814\n",
       "danish pop         0.000814\n",
       "acoustic blues     0.000814\n",
       "Name: genre, Length: 190, dtype: float64"
      ]
     },
     "execution_count": 23,
     "metadata": {},
     "output_type": "execute_result"
    }
   ],
   "source": [
    "songs_df['genre'].value_counts(normalize=True)"
   ]
  },
  {
   "cell_type": "markdown",
   "metadata": {},
   "source": [
    "### Groupby\n",
    "`.groupby` allows us to quickly seperate our dataset up into groups based on the values in one or more columns. "
   ]
  },
  {
   "cell_type": "code",
   "execution_count": 24,
   "metadata": {},
   "outputs": [
    {
     "data": {
      "text/plain": [
       "<pandas.core.groupby.generic.DataFrameGroupBy object at 0x110b85e80>"
      ]
     },
     "execution_count": 24,
     "metadata": {},
     "output_type": "execute_result"
    }
   ],
   "source": [
    "grouped = songs_df.groupby('playlist_name')\n",
    "grouped"
   ]
  },
  {
   "cell_type": "code",
   "execution_count": 25,
   "metadata": {},
   "outputs": [
    {
     "data": {
      "text/html": [
       "<div>\n",
       "<style scoped>\n",
       "    .dataframe tbody tr th:only-of-type {\n",
       "        vertical-align: middle;\n",
       "    }\n",
       "\n",
       "    .dataframe tbody tr th {\n",
       "        vertical-align: top;\n",
       "    }\n",
       "\n",
       "    .dataframe thead th {\n",
       "        text-align: right;\n",
       "    }\n",
       "</style>\n",
       "<table border=\"1\" class=\"dataframe\">\n",
       "  <thead>\n",
       "    <tr style=\"text-align: right;\">\n",
       "      <th></th>\n",
       "      <th>track_id</th>\n",
       "      <th>track_name</th>\n",
       "      <th>artists</th>\n",
       "      <th>genre</th>\n",
       "      <th>release_year</th>\n",
       "      <th>release_date</th>\n",
       "      <th>explicit</th>\n",
       "      <th>popularity</th>\n",
       "      <th>duration_ms</th>\n",
       "      <th>playlist_name</th>\n",
       "      <th>danceability</th>\n",
       "      <th>loudness</th>\n",
       "      <th>speechiness</th>\n",
       "      <th>playlist_type</th>\n",
       "    </tr>\n",
       "  </thead>\n",
       "  <tbody>\n",
       "    <tr>\n",
       "      <th>182</th>\n",
       "      <td>2WfaOiMkCvy7F5fcp2zZ8L</td>\n",
       "      <td>Take on Me</td>\n",
       "      <td>a-ha</td>\n",
       "      <td>new romantic</td>\n",
       "      <td>1985</td>\n",
       "      <td>1985-06-01</td>\n",
       "      <td>False</td>\n",
       "      <td>88</td>\n",
       "      <td>225280</td>\n",
       "      <td>Cheesy Hits!</td>\n",
       "      <td>0.573</td>\n",
       "      <td>-7.638</td>\n",
       "      <td>0.0540</td>\n",
       "      <td>mixed_pop</td>\n",
       "    </tr>\n",
       "    <tr>\n",
       "      <th>183</th>\n",
       "      <td>0GjEhVFGZW8afUYGChu3Rr</td>\n",
       "      <td>Dancing Queen</td>\n",
       "      <td>ABBA</td>\n",
       "      <td>europop</td>\n",
       "      <td>1976</td>\n",
       "      <td>1976-01-01</td>\n",
       "      <td>False</td>\n",
       "      <td>86</td>\n",
       "      <td>230400</td>\n",
       "      <td>Cheesy Hits!</td>\n",
       "      <td>0.543</td>\n",
       "      <td>-6.514</td>\n",
       "      <td>0.0428</td>\n",
       "      <td>mixed_pop</td>\n",
       "    </tr>\n",
       "    <tr>\n",
       "      <th>184</th>\n",
       "      <td>4kbj5MwxO1bq9wjT5g9HaA</td>\n",
       "      <td>Shut Up and Dance</td>\n",
       "      <td>WALK THE MOON</td>\n",
       "      <td>dance rock</td>\n",
       "      <td>2014</td>\n",
       "      <td>2014-12-02</td>\n",
       "      <td>False</td>\n",
       "      <td>85</td>\n",
       "      <td>199080</td>\n",
       "      <td>Cheesy Hits!</td>\n",
       "      <td>0.578</td>\n",
       "      <td>-3.804</td>\n",
       "      <td>0.0619</td>\n",
       "      <td>mixed_pop</td>\n",
       "    </tr>\n",
       "    <tr>\n",
       "      <th>185</th>\n",
       "      <td>2kQuhkFX7uSVepCD3h29g5</td>\n",
       "      <td>Smack That</td>\n",
       "      <td>Akon</td>\n",
       "      <td>dance pop</td>\n",
       "      <td>2006</td>\n",
       "      <td>2006-01-01</td>\n",
       "      <td>True</td>\n",
       "      <td>85</td>\n",
       "      <td>212360</td>\n",
       "      <td>Cheesy Hits!</td>\n",
       "      <td>0.939</td>\n",
       "      <td>-5.171</td>\n",
       "      <td>0.0467</td>\n",
       "      <td>mixed_pop</td>\n",
       "    </tr>\n",
       "    <tr>\n",
       "      <th>186</th>\n",
       "      <td>47BBI51FKFwOMlIiX6m8ya</td>\n",
       "      <td>I Want It That Way</td>\n",
       "      <td>Backstreet Boys</td>\n",
       "      <td>boy band</td>\n",
       "      <td>1999</td>\n",
       "      <td>1999-05-18</td>\n",
       "      <td>False</td>\n",
       "      <td>84</td>\n",
       "      <td>213306</td>\n",
       "      <td>Cheesy Hits!</td>\n",
       "      <td>0.689</td>\n",
       "      <td>-5.830</td>\n",
       "      <td>0.0270</td>\n",
       "      <td>mixed_pop</td>\n",
       "    </tr>\n",
       "  </tbody>\n",
       "</table>\n",
       "</div>"
      ],
      "text/plain": [
       "                   track_id          track_name          artists  \\\n",
       "182  2WfaOiMkCvy7F5fcp2zZ8L          Take on Me             a-ha   \n",
       "183  0GjEhVFGZW8afUYGChu3Rr       Dancing Queen             ABBA   \n",
       "184  4kbj5MwxO1bq9wjT5g9HaA   Shut Up and Dance    WALK THE MOON   \n",
       "185  2kQuhkFX7uSVepCD3h29g5          Smack That             Akon   \n",
       "186  47BBI51FKFwOMlIiX6m8ya  I Want It That Way  Backstreet Boys   \n",
       "\n",
       "            genre  release_year release_date  explicit  popularity  \\\n",
       "182  new romantic          1985   1985-06-01     False          88   \n",
       "183       europop          1976   1976-01-01     False          86   \n",
       "184    dance rock          2014   2014-12-02     False          85   \n",
       "185     dance pop          2006   2006-01-01      True          85   \n",
       "186      boy band          1999   1999-05-18     False          84   \n",
       "\n",
       "     duration_ms playlist_name  danceability  loudness  speechiness  \\\n",
       "182       225280  Cheesy Hits!         0.573    -7.638       0.0540   \n",
       "183       230400  Cheesy Hits!         0.543    -6.514       0.0428   \n",
       "184       199080  Cheesy Hits!         0.578    -3.804       0.0619   \n",
       "185       212360  Cheesy Hits!         0.939    -5.171       0.0467   \n",
       "186       213306  Cheesy Hits!         0.689    -5.830       0.0270   \n",
       "\n",
       "    playlist_type  \n",
       "182     mixed_pop  \n",
       "183     mixed_pop  \n",
       "184     mixed_pop  \n",
       "185     mixed_pop  \n",
       "186     mixed_pop  "
      ]
     },
     "execution_count": 25,
     "metadata": {},
     "output_type": "execute_result"
    }
   ],
   "source": [
    "grouped.get_group('Cheesy Hits!').head()"
   ]
  },
  {
   "cell_type": "markdown",
   "metadata": {},
   "source": [
    "More importantly we can apply operations to our single grouped object and have them applied to each group seperately with the results returned all together. For example, let's ask what the average popularity score is for each different playlist."
   ]
  },
  {
   "cell_type": "code",
   "execution_count": 26,
   "metadata": {},
   "outputs": [
    {
     "data": {
      "text/plain": [
       "playlist_name\n",
       "Today's Top Hits                   90.914894\n",
       "All Out 2010s                      86.780000\n",
       "Top 50 - United Kingdom            86.638298\n",
       "Hit Rewind                         85.110000\n",
       "All Out 2000s                      82.940000\n",
       "Cheesy Hits!                       80.140000\n",
       "Every UK Number One: 2023          79.978723\n",
       "All Out 90s                        79.810000\n",
       "All Out 80s                        79.720000\n",
       "All Out 70s                        78.787879\n",
       "All Out 60s                        74.210000\n",
       "The Pop List                       72.954545\n",
       "All Out 50s                        62.363636\n",
       "Every Official UK Number 1 Ever    58.655914\n",
       "alt/pop                            55.203390\n",
       "Name: popularity, dtype: float64"
      ]
     },
     "execution_count": 26,
     "metadata": {},
     "output_type": "execute_result"
    }
   ],
   "source": [
    "grouped.mean()['popularity'].sort_values(ascending=False)"
   ]
  },
  {
   "cell_type": "markdown",
   "metadata": {},
   "source": [
    "We can use different aggregations by using the appropriate method such as `.mean`, `.count`, `.sum` and `.nunique`."
   ]
  },
  {
   "cell_type": "code",
   "execution_count": 27,
   "metadata": {},
   "outputs": [
    {
     "data": {
      "text/html": [
       "<div>\n",
       "<style scoped>\n",
       "    .dataframe tbody tr th:only-of-type {\n",
       "        vertical-align: middle;\n",
       "    }\n",
       "\n",
       "    .dataframe tbody tr th {\n",
       "        vertical-align: top;\n",
       "    }\n",
       "\n",
       "    .dataframe thead th {\n",
       "        text-align: right;\n",
       "    }\n",
       "</style>\n",
       "<table border=\"1\" class=\"dataframe\">\n",
       "  <thead>\n",
       "    <tr style=\"text-align: right;\">\n",
       "      <th></th>\n",
       "      <th>track_name</th>\n",
       "      <th>artists</th>\n",
       "    </tr>\n",
       "    <tr>\n",
       "      <th>playlist_name</th>\n",
       "      <th></th>\n",
       "      <th></th>\n",
       "    </tr>\n",
       "  </thead>\n",
       "  <tbody>\n",
       "    <tr>\n",
       "      <th>All Out 2000s</th>\n",
       "      <td>100</td>\n",
       "      <td>70</td>\n",
       "    </tr>\n",
       "    <tr>\n",
       "      <th>All Out 2010s</th>\n",
       "      <td>100</td>\n",
       "      <td>58</td>\n",
       "    </tr>\n",
       "    <tr>\n",
       "      <th>All Out 50s</th>\n",
       "      <td>98</td>\n",
       "      <td>54</td>\n",
       "    </tr>\n",
       "    <tr>\n",
       "      <th>All Out 60s</th>\n",
       "      <td>100</td>\n",
       "      <td>64</td>\n",
       "    </tr>\n",
       "    <tr>\n",
       "      <th>All Out 70s</th>\n",
       "      <td>98</td>\n",
       "      <td>65</td>\n",
       "    </tr>\n",
       "    <tr>\n",
       "      <th>All Out 80s</th>\n",
       "      <td>100</td>\n",
       "      <td>73</td>\n",
       "    </tr>\n",
       "    <tr>\n",
       "      <th>All Out 90s</th>\n",
       "      <td>100</td>\n",
       "      <td>75</td>\n",
       "    </tr>\n",
       "    <tr>\n",
       "      <th>Cheesy Hits!</th>\n",
       "      <td>50</td>\n",
       "      <td>48</td>\n",
       "    </tr>\n",
       "    <tr>\n",
       "      <th>Every Official UK Number 1 Ever</th>\n",
       "      <td>93</td>\n",
       "      <td>56</td>\n",
       "    </tr>\n",
       "    <tr>\n",
       "      <th>Every UK Number One: 2023</th>\n",
       "      <td>47</td>\n",
       "      <td>39</td>\n",
       "    </tr>\n",
       "    <tr>\n",
       "      <th>Hit Rewind</th>\n",
       "      <td>100</td>\n",
       "      <td>70</td>\n",
       "    </tr>\n",
       "    <tr>\n",
       "      <th>The Pop List</th>\n",
       "      <td>88</td>\n",
       "      <td>68</td>\n",
       "    </tr>\n",
       "    <tr>\n",
       "      <th>Today's Top Hits</th>\n",
       "      <td>47</td>\n",
       "      <td>40</td>\n",
       "    </tr>\n",
       "    <tr>\n",
       "      <th>Top 50 - United Kingdom</th>\n",
       "      <td>47</td>\n",
       "      <td>36</td>\n",
       "    </tr>\n",
       "    <tr>\n",
       "      <th>alt/pop</th>\n",
       "      <td>59</td>\n",
       "      <td>52</td>\n",
       "    </tr>\n",
       "  </tbody>\n",
       "</table>\n",
       "</div>"
      ],
      "text/plain": [
       "                                 track_name  artists\n",
       "playlist_name                                       \n",
       "All Out 2000s                           100       70\n",
       "All Out 2010s                           100       58\n",
       "All Out 50s                              98       54\n",
       "All Out 60s                             100       64\n",
       "All Out 70s                              98       65\n",
       "All Out 80s                             100       73\n",
       "All Out 90s                             100       75\n",
       "Cheesy Hits!                             50       48\n",
       "Every Official UK Number 1 Ever          93       56\n",
       "Every UK Number One: 2023                47       39\n",
       "Hit Rewind                              100       70\n",
       "The Pop List                             88       68\n",
       "Today's Top Hits                         47       40\n",
       "Top 50 - United Kingdom                  47       36\n",
       "alt/pop                                  59       52"
      ]
     },
     "execution_count": 27,
     "metadata": {},
     "output_type": "execute_result"
    }
   ],
   "source": [
    "grouped.nunique()[['track_name','artists']]"
   ]
  },
  {
   "cell_type": "markdown",
   "metadata": {},
   "source": [
    "We can ask for different types of aggregation per column using `.agg`"
   ]
  },
  {
   "cell_type": "code",
   "execution_count": 58,
   "metadata": {},
   "outputs": [
    {
     "data": {
      "text/html": [
       "<div>\n",
       "<style scoped>\n",
       "    .dataframe tbody tr th:only-of-type {\n",
       "        vertical-align: middle;\n",
       "    }\n",
       "\n",
       "    .dataframe tbody tr th {\n",
       "        vertical-align: top;\n",
       "    }\n",
       "\n",
       "    .dataframe thead th {\n",
       "        text-align: right;\n",
       "    }\n",
       "</style>\n",
       "<table border=\"1\" class=\"dataframe\">\n",
       "  <thead>\n",
       "    <tr style=\"text-align: right;\">\n",
       "      <th></th>\n",
       "      <th>track_id</th>\n",
       "      <th>artists</th>\n",
       "      <th>popularity</th>\n",
       "    </tr>\n",
       "    <tr>\n",
       "      <th>playlist_name</th>\n",
       "      <th></th>\n",
       "      <th></th>\n",
       "      <th></th>\n",
       "    </tr>\n",
       "  </thead>\n",
       "  <tbody>\n",
       "    <tr>\n",
       "      <th>All Out 2000s</th>\n",
       "      <td>100</td>\n",
       "      <td>70</td>\n",
       "      <td>82.940000</td>\n",
       "    </tr>\n",
       "    <tr>\n",
       "      <th>All Out 2010s</th>\n",
       "      <td>100</td>\n",
       "      <td>58</td>\n",
       "      <td>86.780000</td>\n",
       "    </tr>\n",
       "    <tr>\n",
       "      <th>All Out 50s</th>\n",
       "      <td>99</td>\n",
       "      <td>54</td>\n",
       "      <td>62.363636</td>\n",
       "    </tr>\n",
       "    <tr>\n",
       "      <th>All Out 60s</th>\n",
       "      <td>100</td>\n",
       "      <td>64</td>\n",
       "      <td>74.210000</td>\n",
       "    </tr>\n",
       "    <tr>\n",
       "      <th>All Out 70s</th>\n",
       "      <td>99</td>\n",
       "      <td>65</td>\n",
       "      <td>78.787879</td>\n",
       "    </tr>\n",
       "    <tr>\n",
       "      <th>All Out 80s</th>\n",
       "      <td>100</td>\n",
       "      <td>73</td>\n",
       "      <td>79.720000</td>\n",
       "    </tr>\n",
       "    <tr>\n",
       "      <th>All Out 90s</th>\n",
       "      <td>100</td>\n",
       "      <td>75</td>\n",
       "      <td>79.810000</td>\n",
       "    </tr>\n",
       "    <tr>\n",
       "      <th>Cheesy Hits!</th>\n",
       "      <td>50</td>\n",
       "      <td>48</td>\n",
       "      <td>80.140000</td>\n",
       "    </tr>\n",
       "    <tr>\n",
       "      <th>Every Official UK Number 1 Ever</th>\n",
       "      <td>93</td>\n",
       "      <td>56</td>\n",
       "      <td>58.655914</td>\n",
       "    </tr>\n",
       "    <tr>\n",
       "      <th>Every UK Number One: 2023</th>\n",
       "      <td>47</td>\n",
       "      <td>39</td>\n",
       "      <td>79.978723</td>\n",
       "    </tr>\n",
       "    <tr>\n",
       "      <th>Hit Rewind</th>\n",
       "      <td>100</td>\n",
       "      <td>70</td>\n",
       "      <td>85.110000</td>\n",
       "    </tr>\n",
       "    <tr>\n",
       "      <th>The Pop List</th>\n",
       "      <td>88</td>\n",
       "      <td>68</td>\n",
       "      <td>72.954545</td>\n",
       "    </tr>\n",
       "    <tr>\n",
       "      <th>Today's Top Hits</th>\n",
       "      <td>47</td>\n",
       "      <td>40</td>\n",
       "      <td>90.914894</td>\n",
       "    </tr>\n",
       "    <tr>\n",
       "      <th>Top 50 - United Kingdom</th>\n",
       "      <td>47</td>\n",
       "      <td>36</td>\n",
       "      <td>86.638298</td>\n",
       "    </tr>\n",
       "    <tr>\n",
       "      <th>alt/pop</th>\n",
       "      <td>59</td>\n",
       "      <td>52</td>\n",
       "      <td>55.203390</td>\n",
       "    </tr>\n",
       "  </tbody>\n",
       "</table>\n",
       "</div>"
      ],
      "text/plain": [
       "                                 track_id  artists  popularity\n",
       "playlist_name                                                 \n",
       "All Out 2000s                         100       70   82.940000\n",
       "All Out 2010s                         100       58   86.780000\n",
       "All Out 50s                            99       54   62.363636\n",
       "All Out 60s                           100       64   74.210000\n",
       "All Out 70s                            99       65   78.787879\n",
       "All Out 80s                           100       73   79.720000\n",
       "All Out 90s                           100       75   79.810000\n",
       "Cheesy Hits!                           50       48   80.140000\n",
       "Every Official UK Number 1 Ever        93       56   58.655914\n",
       "Every UK Number One: 2023              47       39   79.978723\n",
       "Hit Rewind                            100       70   85.110000\n",
       "The Pop List                           88       68   72.954545\n",
       "Today's Top Hits                       47       40   90.914894\n",
       "Top 50 - United Kingdom                47       36   86.638298\n",
       "alt/pop                                59       52   55.203390"
      ]
     },
     "execution_count": 58,
     "metadata": {},
     "output_type": "execute_result"
    }
   ],
   "source": [
    "aggregations = {'track_id':'count', 'artists':'nunique', 'popularity':'mean'}\n",
    "grouped.agg(aggregations)"
   ]
  },
  {
   "cell_type": "markdown",
   "metadata": {},
   "source": [
    "Lastly, we can also group by more than one variable to break down the data further."
   ]
  },
  {
   "cell_type": "code",
   "execution_count": 69,
   "metadata": {},
   "outputs": [
    {
     "data": {
      "text/html": [
       "<div>\n",
       "<style scoped>\n",
       "    .dataframe tbody tr th:only-of-type {\n",
       "        vertical-align: middle;\n",
       "    }\n",
       "\n",
       "    .dataframe tbody tr th {\n",
       "        vertical-align: top;\n",
       "    }\n",
       "\n",
       "    .dataframe thead th {\n",
       "        text-align: right;\n",
       "    }\n",
       "</style>\n",
       "<table border=\"1\" class=\"dataframe\">\n",
       "  <thead>\n",
       "    <tr style=\"text-align: right;\">\n",
       "      <th></th>\n",
       "      <th></th>\n",
       "      <th>track_id</th>\n",
       "      <th>artists</th>\n",
       "      <th>popularity</th>\n",
       "    </tr>\n",
       "    <tr>\n",
       "      <th>release_year</th>\n",
       "      <th>explicit</th>\n",
       "      <th></th>\n",
       "      <th></th>\n",
       "      <th></th>\n",
       "    </tr>\n",
       "  </thead>\n",
       "  <tbody>\n",
       "    <tr>\n",
       "      <th rowspan=\"2\" valign=\"top\">2020</th>\n",
       "      <th>False</th>\n",
       "      <td>13</td>\n",
       "      <td>8</td>\n",
       "      <td>65.153846</td>\n",
       "    </tr>\n",
       "    <tr>\n",
       "      <th>True</th>\n",
       "      <td>14</td>\n",
       "      <td>8</td>\n",
       "      <td>73.142857</td>\n",
       "    </tr>\n",
       "    <tr>\n",
       "      <th rowspan=\"2\" valign=\"top\">2021</th>\n",
       "      <th>False</th>\n",
       "      <td>15</td>\n",
       "      <td>7</td>\n",
       "      <td>71.466667</td>\n",
       "    </tr>\n",
       "    <tr>\n",
       "      <th>True</th>\n",
       "      <td>10</td>\n",
       "      <td>5</td>\n",
       "      <td>66.100000</td>\n",
       "    </tr>\n",
       "    <tr>\n",
       "      <th rowspan=\"2\" valign=\"top\">2022</th>\n",
       "      <th>False</th>\n",
       "      <td>23</td>\n",
       "      <td>12</td>\n",
       "      <td>80.130435</td>\n",
       "    </tr>\n",
       "    <tr>\n",
       "      <th>True</th>\n",
       "      <td>8</td>\n",
       "      <td>6</td>\n",
       "      <td>80.125000</td>\n",
       "    </tr>\n",
       "    <tr>\n",
       "      <th rowspan=\"2\" valign=\"top\">2023</th>\n",
       "      <th>False</th>\n",
       "      <td>154</td>\n",
       "      <td>104</td>\n",
       "      <td>71.870130</td>\n",
       "    </tr>\n",
       "    <tr>\n",
       "      <th>True</th>\n",
       "      <td>82</td>\n",
       "      <td>42</td>\n",
       "      <td>78.085366</td>\n",
       "    </tr>\n",
       "  </tbody>\n",
       "</table>\n",
       "</div>"
      ],
      "text/plain": [
       "                       track_id  artists  popularity\n",
       "release_year explicit                               \n",
       "2020         False           13        8   65.153846\n",
       "             True            14        8   73.142857\n",
       "2021         False           15        7   71.466667\n",
       "             True            10        5   66.100000\n",
       "2022         False           23       12   80.130435\n",
       "             True             8        6   80.125000\n",
       "2023         False          154      104   71.870130\n",
       "             True            82       42   78.085366"
      ]
     },
     "execution_count": 69,
     "metadata": {},
     "output_type": "execute_result"
    }
   ],
   "source": [
    "songs_df.groupby(['release_year','explicit']).agg(aggregations).loc[2020:]"
   ]
  },
  {
   "cell_type": "markdown",
   "metadata": {},
   "source": [
    "You can also aggregate the same column twice in different ways by using a different syntax in `.agg`."
   ]
  },
  {
   "cell_type": "code",
   "execution_count": 28,
   "metadata": {},
   "outputs": [
    {
     "data": {
      "text/html": [
       "<div>\n",
       "<style scoped>\n",
       "    .dataframe tbody tr th:only-of-type {\n",
       "        vertical-align: middle;\n",
       "    }\n",
       "\n",
       "    .dataframe tbody tr th {\n",
       "        vertical-align: top;\n",
       "    }\n",
       "\n",
       "    .dataframe thead th {\n",
       "        text-align: right;\n",
       "    }\n",
       "</style>\n",
       "<table border=\"1\" class=\"dataframe\">\n",
       "  <thead>\n",
       "    <tr style=\"text-align: right;\">\n",
       "      <th></th>\n",
       "      <th>avg_popularity</th>\n",
       "      <th>total_popularity</th>\n",
       "    </tr>\n",
       "    <tr>\n",
       "      <th>explicit</th>\n",
       "      <th></th>\n",
       "      <th></th>\n",
       "    </tr>\n",
       "  </thead>\n",
       "  <tbody>\n",
       "    <tr>\n",
       "      <th>False</th>\n",
       "      <td>76.289552</td>\n",
       "      <td>76671</td>\n",
       "    </tr>\n",
       "    <tr>\n",
       "      <th>True</th>\n",
       "      <td>77.691964</td>\n",
       "      <td>17403</td>\n",
       "    </tr>\n",
       "  </tbody>\n",
       "</table>\n",
       "</div>"
      ],
      "text/plain": [
       "          avg_popularity  total_popularity\n",
       "explicit                                  \n",
       "False          76.289552             76671\n",
       "True           77.691964             17403"
      ]
     },
     "execution_count": 28,
     "metadata": {},
     "output_type": "execute_result"
    }
   ],
   "source": [
    "songs_df.groupby('explicit').agg(avg_popularity=('popularity','mean'), total_popularity=('popularity','sum'))"
   ]
  },
  {
   "cell_type": "markdown",
   "metadata": {},
   "source": [
    "### Storing your data\n",
    "Whether you have gone through the process of cleaning your dataset, or you've produced some aggregations that you want to easily refer to later, you'll want to store your data in some way.\n",
    "\n",
    "Whilst there are many options, the two simplest ways to store data are either to create a `.csv` file, or to use a `pickle` file.\n",
    "\n",
    "#### CSV\n",
    "CSV files are a standard data format that are very common. They can be opened in other programmes like Microsoft Excel and are simple enough to be widely compatible.\n",
    "\n",
    "The downside is that their simplicity means they can't store more complex types of data such as dates, meaning that you would have to do a little work upon loading the data to set the correct data types.\n",
    "\n",
    "We've already seen the Pandas command for loading csv files (`.read_csv()`). We can create our own using `.to_csv`.\n",
    "\n"
   ]
  },
  {
   "cell_type": "code",
   "execution_count": null,
   "metadata": {},
   "outputs": [
    {
     "data": {
      "text/html": [
       "<div>\n",
       "<style scoped>\n",
       "    .dataframe tbody tr th:only-of-type {\n",
       "        vertical-align: middle;\n",
       "    }\n",
       "\n",
       "    .dataframe tbody tr th {\n",
       "        vertical-align: top;\n",
       "    }\n",
       "\n",
       "    .dataframe thead th {\n",
       "        text-align: right;\n",
       "    }\n",
       "</style>\n",
       "<table border=\"1\" class=\"dataframe\">\n",
       "  <thead>\n",
       "    <tr style=\"text-align: right;\">\n",
       "      <th></th>\n",
       "      <th>track_id</th>\n",
       "      <th>artists</th>\n",
       "      <th>popularity</th>\n",
       "    </tr>\n",
       "    <tr>\n",
       "      <th>explicit</th>\n",
       "      <th></th>\n",
       "      <th></th>\n",
       "      <th></th>\n",
       "    </tr>\n",
       "  </thead>\n",
       "  <tbody>\n",
       "    <tr>\n",
       "      <th>False</th>\n",
       "      <td>1005</td>\n",
       "      <td>514</td>\n",
       "      <td>76.289552</td>\n",
       "    </tr>\n",
       "    <tr>\n",
       "      <th>True</th>\n",
       "      <td>224</td>\n",
       "      <td>106</td>\n",
       "      <td>77.691964</td>\n",
       "    </tr>\n",
       "  </tbody>\n",
       "</table>\n",
       "</div>"
      ],
      "text/plain": [
       "          track_id  artists  popularity\n",
       "explicit                               \n",
       "False         1005      514   76.289552\n",
       "True           224      106   77.691964"
      ]
     },
     "execution_count": 72,
     "metadata": {},
     "output_type": "execute_result"
    }
   ],
   "source": [
    "explicit_summary = songs_df.groupby('explicit').agg(aggregations)\n",
    "explicit_summary"
   ]
  },
  {
   "cell_type": "code",
   "execution_count": null,
   "metadata": {},
   "outputs": [],
   "source": [
    "explicit_summary.to_csv('explicit_summary.csv',index=False)"
   ]
  },
  {
   "cell_type": "markdown",
   "metadata": {},
   "source": [
    "#### Pickle Files\n",
    "Gets its name from the idea of 'pickling' as in preserving something. Pickle files can store all sorts of complex data types. Unlike a CSV where data is translated into a simple text representation, pickle files store the actual dataframe object from Python. This means the data is stored and reloaded exactly as it is. the downside is that it has very little compatibility beyond being reloaded by Pandas, and often there can be problems trying to load a pickle file anywhere other than in the same place it was created. "
   ]
  },
  {
   "cell_type": "code",
   "execution_count": null,
   "metadata": {},
   "outputs": [],
   "source": [
    "songs_df.to_pickle('cleaned_songs_df.pkl')"
   ]
  },
  {
   "cell_type": "code",
   "execution_count": null,
   "metadata": {},
   "outputs": [
    {
     "data": {
      "text/html": [
       "<div>\n",
       "<style scoped>\n",
       "    .dataframe tbody tr th:only-of-type {\n",
       "        vertical-align: middle;\n",
       "    }\n",
       "\n",
       "    .dataframe tbody tr th {\n",
       "        vertical-align: top;\n",
       "    }\n",
       "\n",
       "    .dataframe thead th {\n",
       "        text-align: right;\n",
       "    }\n",
       "</style>\n",
       "<table border=\"1\" class=\"dataframe\">\n",
       "  <thead>\n",
       "    <tr style=\"text-align: right;\">\n",
       "      <th></th>\n",
       "      <th>track_id</th>\n",
       "      <th>track_name</th>\n",
       "      <th>artists</th>\n",
       "      <th>genre</th>\n",
       "      <th>release_year</th>\n",
       "      <th>release_date</th>\n",
       "      <th>explicit</th>\n",
       "      <th>popularity</th>\n",
       "      <th>duration_ms</th>\n",
       "      <th>playlist_name</th>\n",
       "      <th>danceability</th>\n",
       "      <th>loudness</th>\n",
       "      <th>speechiness</th>\n",
       "      <th>playlist_type</th>\n",
       "    </tr>\n",
       "  </thead>\n",
       "  <tbody>\n",
       "    <tr>\n",
       "      <th>0</th>\n",
       "      <td>56y1jOTK0XSvJzVv9vHQBK</td>\n",
       "      <td>Paint The Town Red</td>\n",
       "      <td>Doja Cat</td>\n",
       "      <td>dance pop</td>\n",
       "      <td>2023</td>\n",
       "      <td>2023-09-20</td>\n",
       "      <td>True</td>\n",
       "      <td>87</td>\n",
       "      <td>230480</td>\n",
       "      <td>Top 50 - United Kingdom</td>\n",
       "      <td>0.864</td>\n",
       "      <td>-7.683</td>\n",
       "      <td>0.1940</td>\n",
       "      <td>mixed_pop</td>\n",
       "    </tr>\n",
       "    <tr>\n",
       "      <th>1</th>\n",
       "      <td>1reEeZH9wNt4z1ePYLyC7p</td>\n",
       "      <td>greedy</td>\n",
       "      <td>Tate McRae</td>\n",
       "      <td>alt z</td>\n",
       "      <td>2023</td>\n",
       "      <td>2023-09-13</td>\n",
       "      <td>True</td>\n",
       "      <td>31</td>\n",
       "      <td>131872</td>\n",
       "      <td>Top 50 - United Kingdom</td>\n",
       "      <td>0.750</td>\n",
       "      <td>-3.190</td>\n",
       "      <td>0.0322</td>\n",
       "      <td>mixed_pop</td>\n",
       "    </tr>\n",
       "    <tr>\n",
       "      <th>2</th>\n",
       "      <td>2FDTHlrBguDzQkp7PVj16Q</td>\n",
       "      <td>Sprinter</td>\n",
       "      <td>Dave</td>\n",
       "      <td>uk hip hop</td>\n",
       "      <td>2023</td>\n",
       "      <td>2023-06-01</td>\n",
       "      <td>True</td>\n",
       "      <td>94</td>\n",
       "      <td>229133</td>\n",
       "      <td>Top 50 - United Kingdom</td>\n",
       "      <td>0.916</td>\n",
       "      <td>-8.067</td>\n",
       "      <td>0.2410</td>\n",
       "      <td>mixed_pop</td>\n",
       "    </tr>\n",
       "    <tr>\n",
       "      <th>3</th>\n",
       "      <td>1BxfuPKGuaTgP7aM0Bbdwr</td>\n",
       "      <td>Cruel Summer</td>\n",
       "      <td>Taylor Swift</td>\n",
       "      <td>pop</td>\n",
       "      <td>2019</td>\n",
       "      <td>2019-08-23</td>\n",
       "      <td>False</td>\n",
       "      <td>99</td>\n",
       "      <td>178426</td>\n",
       "      <td>Top 50 - United Kingdom</td>\n",
       "      <td>0.552</td>\n",
       "      <td>-5.707</td>\n",
       "      <td>0.1570</td>\n",
       "      <td>mixed_pop</td>\n",
       "    </tr>\n",
       "    <tr>\n",
       "      <th>4</th>\n",
       "      <td>3vkCueOmm7xQDoJ17W1Pm3</td>\n",
       "      <td>My Love Mine All Mine</td>\n",
       "      <td>Mitski</td>\n",
       "      <td>brooklyn indie</td>\n",
       "      <td>2023</td>\n",
       "      <td>2023-09-15</td>\n",
       "      <td>False</td>\n",
       "      <td>93</td>\n",
       "      <td>137773</td>\n",
       "      <td>Top 50 - United Kingdom</td>\n",
       "      <td>0.504</td>\n",
       "      <td>-14.958</td>\n",
       "      <td>0.0321</td>\n",
       "      <td>mixed_pop</td>\n",
       "    </tr>\n",
       "  </tbody>\n",
       "</table>\n",
       "</div>"
      ],
      "text/plain": [
       "                 track_id             track_name       artists  \\\n",
       "0  56y1jOTK0XSvJzVv9vHQBK     Paint The Town Red      Doja Cat   \n",
       "1  1reEeZH9wNt4z1ePYLyC7p                 greedy    Tate McRae   \n",
       "2  2FDTHlrBguDzQkp7PVj16Q               Sprinter          Dave   \n",
       "3  1BxfuPKGuaTgP7aM0Bbdwr           Cruel Summer  Taylor Swift   \n",
       "4  3vkCueOmm7xQDoJ17W1Pm3  My Love Mine All Mine        Mitski   \n",
       "\n",
       "            genre  release_year release_date  explicit  popularity  \\\n",
       "0       dance pop          2023   2023-09-20      True          87   \n",
       "1           alt z          2023   2023-09-13      True          31   \n",
       "2      uk hip hop          2023   2023-06-01      True          94   \n",
       "3             pop          2019   2019-08-23     False          99   \n",
       "4  brooklyn indie          2023   2023-09-15     False          93   \n",
       "\n",
       "   duration_ms            playlist_name  danceability  loudness  speechiness  \\\n",
       "0       230480  Top 50 - United Kingdom         0.864    -7.683       0.1940   \n",
       "1       131872  Top 50 - United Kingdom         0.750    -3.190       0.0322   \n",
       "2       229133  Top 50 - United Kingdom         0.916    -8.067       0.2410   \n",
       "3       178426  Top 50 - United Kingdom         0.552    -5.707       0.1570   \n",
       "4       137773  Top 50 - United Kingdom         0.504   -14.958       0.0321   \n",
       "\n",
       "  playlist_type  \n",
       "0     mixed_pop  \n",
       "1     mixed_pop  \n",
       "2     mixed_pop  \n",
       "3     mixed_pop  \n",
       "4     mixed_pop  "
      ]
     },
     "execution_count": 76,
     "metadata": {},
     "output_type": "execute_result"
    }
   ],
   "source": [
    "songs_df_2 = pd.read_pickle('cleaned_songs_df.pkl')\n",
    "songs_df_2.head()"
   ]
  },
  {
   "cell_type": "markdown",
   "metadata": {},
   "source": [
    "## Exercises 2\n",
    "Take a look at section 2 of the exercises sheet. Complete the tasks. \n",
    "\n",
    "If there is time, work through the appropriate chapter of the McLevey textbook OR the recommended DataCamp course. \n",
    "\n",
    "See Moodle for details."
   ]
  }
 ],
 "metadata": {
  "kernelspec": {
   "display_name": "teaching",
   "language": "python",
   "name": "python3"
  },
  "language_info": {
   "codemirror_mode": {
    "name": "ipython",
    "version": 3
   },
   "file_extension": ".py",
   "mimetype": "text/x-python",
   "name": "python",
   "nbconvert_exporter": "python",
   "pygments_lexer": "ipython3",
   "version": "3.9.4"
  }
 },
 "nbformat": 4,
 "nbformat_minor": 2
}
