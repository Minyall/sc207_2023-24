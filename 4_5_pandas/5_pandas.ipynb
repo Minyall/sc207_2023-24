{
 "cells": [
  {
   "cell_type": "markdown",
   "metadata": {},
   "source": [
    "# Cleaning, Transforming and Storing your Data\n",
    "<img src=\"https://github.com/Minyall/sc207_materials/blob/master/images/python_pandas.jpg?raw=true\" align=\"right\">\n",
    " Now we know a little about selecting, filtering and sorting our data, we can move on to cleaning and transforming our data too.\n",
    "\n",
    " Data is rarely perfect, missing values, anomalous values and duplicates can cause all sorts of issues in analysis. It may also be that data is not interpreted correctly straight away, and that we need to tell Pandas what kind of data it's looking at.\n",
    "\n",
    " Once we've got on top of that we can also explore how Pandas powerful summarisation tools can help us understand our data better.\n",
    "\n",
    "[__Pandas Documentation__](http://pandas.pydata.org/pandas-docs/stable/)\n",
    "\n",
    "\n"
   ]
  },
  {
   "cell_type": "code",
   "execution_count": 24,
   "metadata": {},
   "outputs": [
    {
     "data": {
      "text/html": [
       "<div>\n",
       "<style scoped>\n",
       "    .dataframe tbody tr th:only-of-type {\n",
       "        vertical-align: middle;\n",
       "    }\n",
       "\n",
       "    .dataframe tbody tr th {\n",
       "        vertical-align: top;\n",
       "    }\n",
       "\n",
       "    .dataframe thead th {\n",
       "        text-align: right;\n",
       "    }\n",
       "</style>\n",
       "<table border=\"1\" class=\"dataframe\">\n",
       "  <thead>\n",
       "    <tr style=\"text-align: right;\">\n",
       "      <th></th>\n",
       "      <th>track_id</th>\n",
       "      <th>track_name</th>\n",
       "      <th>artists</th>\n",
       "      <th>genre</th>\n",
       "      <th>release_year</th>\n",
       "      <th>release_date</th>\n",
       "      <th>explicit</th>\n",
       "      <th>popularity</th>\n",
       "      <th>duration_ms</th>\n",
       "      <th>playlist_name</th>\n",
       "      <th>danceability</th>\n",
       "      <th>loudness</th>\n",
       "      <th>speechiness</th>\n",
       "      <th>playlist_type</th>\n",
       "    </tr>\n",
       "  </thead>\n",
       "  <tbody>\n",
       "    <tr>\n",
       "      <th>0</th>\n",
       "      <td>5mjYQaktjmjcMKcUIcqz4s</td>\n",
       "      <td>Strangers</td>\n",
       "      <td>Kenya Grace</td>\n",
       "      <td>singer-songwriter pop</td>\n",
       "      <td>2023</td>\n",
       "      <td>2023-09-01</td>\n",
       "      <td>False</td>\n",
       "      <td>97</td>\n",
       "      <td>172964</td>\n",
       "      <td>Top 50 - United Kingdom</td>\n",
       "      <td>0.628</td>\n",
       "      <td>-8.307</td>\n",
       "      <td>NaN</td>\n",
       "      <td>mixed_pop</td>\n",
       "    </tr>\n",
       "    <tr>\n",
       "      <th>1</th>\n",
       "      <td>56y1jOTK0XSvJzVv9vHQBK</td>\n",
       "      <td>Paint The Town Red</td>\n",
       "      <td>Doja Cat</td>\n",
       "      <td>dance pop</td>\n",
       "      <td>2023</td>\n",
       "      <td>2023-09-20</td>\n",
       "      <td>True</td>\n",
       "      <td>87</td>\n",
       "      <td>230480</td>\n",
       "      <td>Top 50 - United Kingdom</td>\n",
       "      <td>0.864</td>\n",
       "      <td>-7.683</td>\n",
       "      <td>0.1940</td>\n",
       "      <td>mixed_pop</td>\n",
       "    </tr>\n",
       "    <tr>\n",
       "      <th>2</th>\n",
       "      <td>1reEeZH9wNt4z1ePYLyC7p</td>\n",
       "      <td>greedy</td>\n",
       "      <td>Tate McRae</td>\n",
       "      <td>alt z</td>\n",
       "      <td>2023</td>\n",
       "      <td>2023-09-13</td>\n",
       "      <td>True</td>\n",
       "      <td>31</td>\n",
       "      <td>131872</td>\n",
       "      <td>Top 50 - United Kingdom</td>\n",
       "      <td>0.750</td>\n",
       "      <td>-3.190</td>\n",
       "      <td>0.0322</td>\n",
       "      <td>mixed_pop</td>\n",
       "    </tr>\n",
       "    <tr>\n",
       "      <th>3</th>\n",
       "      <td>59NraMJsLaMCVtwXTSia8i</td>\n",
       "      <td>Prada</td>\n",
       "      <td>cassö</td>\n",
       "      <td>***OOPS!***</td>\n",
       "      <td>2023</td>\n",
       "      <td>2023-08-11</td>\n",
       "      <td>True</td>\n",
       "      <td>94</td>\n",
       "      <td>132359</td>\n",
       "      <td>Top 50 - United Kingdom</td>\n",
       "      <td>0.638</td>\n",
       "      <td>-5.804</td>\n",
       "      <td>0.0375</td>\n",
       "      <td>mixed_pop</td>\n",
       "    </tr>\n",
       "    <tr>\n",
       "      <th>4</th>\n",
       "      <td>5aIVCx5tnk0ntmdiinnYvw</td>\n",
       "      <td>Water</td>\n",
       "      <td>Tyla</td>\n",
       "      <td>***OOPS!***</td>\n",
       "      <td>2023</td>\n",
       "      <td>2023-07-28</td>\n",
       "      <td>False</td>\n",
       "      <td>91</td>\n",
       "      <td>200255</td>\n",
       "      <td>Top 50 - United Kingdom</td>\n",
       "      <td>0.673</td>\n",
       "      <td>-3.495</td>\n",
       "      <td>0.0755</td>\n",
       "      <td>mixed_pop</td>\n",
       "    </tr>\n",
       "  </tbody>\n",
       "</table>\n",
       "</div>"
      ],
      "text/plain": [
       "                 track_id          track_name      artists  \\\n",
       "0  5mjYQaktjmjcMKcUIcqz4s           Strangers  Kenya Grace   \n",
       "1  56y1jOTK0XSvJzVv9vHQBK  Paint The Town Red     Doja Cat   \n",
       "2  1reEeZH9wNt4z1ePYLyC7p              greedy   Tate McRae   \n",
       "3  59NraMJsLaMCVtwXTSia8i               Prada        cassö   \n",
       "4  5aIVCx5tnk0ntmdiinnYvw               Water         Tyla   \n",
       "\n",
       "                   genre  release_year release_date  explicit  popularity  \\\n",
       "0  singer-songwriter pop          2023   2023-09-01     False          97   \n",
       "1              dance pop          2023   2023-09-20      True          87   \n",
       "2                  alt z          2023   2023-09-13      True          31   \n",
       "3            ***OOPS!***          2023   2023-08-11      True          94   \n",
       "4            ***OOPS!***          2023   2023-07-28     False          91   \n",
       "\n",
       "   duration_ms            playlist_name  danceability  loudness  speechiness  \\\n",
       "0       172964  Top 50 - United Kingdom         0.628    -8.307          NaN   \n",
       "1       230480  Top 50 - United Kingdom         0.864    -7.683       0.1940   \n",
       "2       131872  Top 50 - United Kingdom         0.750    -3.190       0.0322   \n",
       "3       132359  Top 50 - United Kingdom         0.638    -5.804       0.0375   \n",
       "4       200255  Top 50 - United Kingdom         0.673    -3.495       0.0755   \n",
       "\n",
       "  playlist_type  \n",
       "0     mixed_pop  \n",
       "1     mixed_pop  \n",
       "2     mixed_pop  \n",
       "3     mixed_pop  \n",
       "4     mixed_pop  "
      ]
     },
     "execution_count": 24,
     "metadata": {},
     "output_type": "execute_result"
    }
   ],
   "source": [
    "import pandas as pd\n",
    "filename = 'spotify_top_songs.csv'\n",
    "songs_df = pd.read_csv(filename)\n",
    "songs_df.head()"
   ]
  },
  {
   "cell_type": "markdown",
   "metadata": {},
   "source": [
    "## Data Cleaning\n",
    "Data cleaning can involve a range of techniques, but the unifying goal is to get your data into a state that is ready for analysis. This could include:\n",
    "- Removing rows where data is missing\n",
    "- Replacing missing data with another value.\n",
    "- Replacing data that may be oddly formatted to make it more analysis compatible.\n",
    "- Transforming the type of data in a column to correct mistakes or to make it more useful."
   ]
  },
  {
   "cell_type": "markdown",
   "metadata": {},
   "source": [
    "\n",
    "If we examine the `.info()` we can quickly identify if there are missing values that Pandas knows about by comparing the total entries with the 'Non-Null Count' for each column."
   ]
  },
  {
   "cell_type": "markdown",
   "metadata": {},
   "source": [
    "### Dropping and filling missing data"
   ]
  },
  {
   "cell_type": "code",
   "execution_count": 25,
   "metadata": {},
   "outputs": [
    {
     "name": "stdout",
     "output_type": "stream",
     "text": [
      "<class 'pandas.core.frame.DataFrame'>\n",
      "RangeIndex: 1280 entries, 0 to 1279\n",
      "Data columns (total 14 columns):\n",
      " #   Column         Non-Null Count  Dtype  \n",
      "---  ------         --------------  -----  \n",
      " 0   track_id       1280 non-null   object \n",
      " 1   track_name     1280 non-null   object \n",
      " 2   artists        1280 non-null   object \n",
      " 3   genre          1280 non-null   object \n",
      " 4   release_year   1280 non-null   int64  \n",
      " 5   release_date   1280 non-null   object \n",
      " 6   explicit       1280 non-null   bool   \n",
      " 7   popularity     1280 non-null   int64  \n",
      " 8   duration_ms    1280 non-null   int64  \n",
      " 9   playlist_name  1280 non-null   object \n",
      " 10  danceability   1280 non-null   float64\n",
      " 11  loudness       1280 non-null   float64\n",
      " 12  speechiness    1279 non-null   float64\n",
      " 13  playlist_type  1280 non-null   object \n",
      "dtypes: bool(1), float64(3), int64(3), object(7)\n",
      "memory usage: 131.4+ KB\n"
     ]
    }
   ],
   "source": [
    "songs_df.info()"
   ]
  },
  {
   "cell_type": "markdown",
   "metadata": {},
   "source": [
    "We can identify which row is missing that value for speechiness using a special filter called `.isna()`"
   ]
  },
  {
   "cell_type": "code",
   "execution_count": 26,
   "metadata": {},
   "outputs": [
    {
     "data": {
      "text/html": [
       "<div>\n",
       "<style scoped>\n",
       "    .dataframe tbody tr th:only-of-type {\n",
       "        vertical-align: middle;\n",
       "    }\n",
       "\n",
       "    .dataframe tbody tr th {\n",
       "        vertical-align: top;\n",
       "    }\n",
       "\n",
       "    .dataframe thead th {\n",
       "        text-align: right;\n",
       "    }\n",
       "</style>\n",
       "<table border=\"1\" class=\"dataframe\">\n",
       "  <thead>\n",
       "    <tr style=\"text-align: right;\">\n",
       "      <th></th>\n",
       "      <th>track_id</th>\n",
       "      <th>track_name</th>\n",
       "      <th>artists</th>\n",
       "      <th>genre</th>\n",
       "      <th>release_year</th>\n",
       "      <th>release_date</th>\n",
       "      <th>explicit</th>\n",
       "      <th>popularity</th>\n",
       "      <th>duration_ms</th>\n",
       "      <th>playlist_name</th>\n",
       "      <th>danceability</th>\n",
       "      <th>loudness</th>\n",
       "      <th>speechiness</th>\n",
       "      <th>playlist_type</th>\n",
       "    </tr>\n",
       "  </thead>\n",
       "  <tbody>\n",
       "    <tr>\n",
       "      <th>0</th>\n",
       "      <td>5mjYQaktjmjcMKcUIcqz4s</td>\n",
       "      <td>Strangers</td>\n",
       "      <td>Kenya Grace</td>\n",
       "      <td>singer-songwriter pop</td>\n",
       "      <td>2023</td>\n",
       "      <td>2023-09-01</td>\n",
       "      <td>False</td>\n",
       "      <td>97</td>\n",
       "      <td>172964</td>\n",
       "      <td>Top 50 - United Kingdom</td>\n",
       "      <td>0.628</td>\n",
       "      <td>-8.307</td>\n",
       "      <td>NaN</td>\n",
       "      <td>mixed_pop</td>\n",
       "    </tr>\n",
       "  </tbody>\n",
       "</table>\n",
       "</div>"
      ],
      "text/plain": [
       "                 track_id track_name      artists                  genre  \\\n",
       "0  5mjYQaktjmjcMKcUIcqz4s  Strangers  Kenya Grace  singer-songwriter pop   \n",
       "\n",
       "   release_year release_date  explicit  popularity  duration_ms  \\\n",
       "0          2023   2023-09-01     False          97       172964   \n",
       "\n",
       "             playlist_name  danceability  loudness  speechiness playlist_type  \n",
       "0  Top 50 - United Kingdom         0.628    -8.307          NaN     mixed_pop  "
      ]
     },
     "execution_count": 26,
     "metadata": {},
     "output_type": "execute_result"
    }
   ],
   "source": [
    "songs_df[songs_df['speechiness'].isna()]"
   ]
  },
  {
   "cell_type": "markdown",
   "metadata": {},
   "source": [
    "There are multiple approaches to missing data, depending on your analysis. The simplest approach is to simply drop any rows that have any missing data. `.dropna()` will do this for us, returning a version of the dataframe where every row has a value for every column. \n",
    "\n",
    "If you only want to drop rows with a missing value in a specific column(s) you can use the `subset=` argument. You must pass it a list of column names, even when only checking one column.\n",
    "\n",
    "We can see that the total number of rows is now one less than the original dataframe."
   ]
  },
  {
   "cell_type": "code",
   "execution_count": 27,
   "metadata": {},
   "outputs": [
    {
     "name": "stdout",
     "output_type": "stream",
     "text": [
      "<class 'pandas.core.frame.DataFrame'>\n",
      "Int64Index: 1279 entries, 1 to 1279\n",
      "Data columns (total 14 columns):\n",
      " #   Column         Non-Null Count  Dtype  \n",
      "---  ------         --------------  -----  \n",
      " 0   track_id       1279 non-null   object \n",
      " 1   track_name     1279 non-null   object \n",
      " 2   artists        1279 non-null   object \n",
      " 3   genre          1279 non-null   object \n",
      " 4   release_year   1279 non-null   int64  \n",
      " 5   release_date   1279 non-null   object \n",
      " 6   explicit       1279 non-null   bool   \n",
      " 7   popularity     1279 non-null   int64  \n",
      " 8   duration_ms    1279 non-null   int64  \n",
      " 9   playlist_name  1279 non-null   object \n",
      " 10  danceability   1279 non-null   float64\n",
      " 11  loudness       1279 non-null   float64\n",
      " 12  speechiness    1279 non-null   float64\n",
      " 13  playlist_type  1279 non-null   object \n",
      "dtypes: bool(1), float64(3), int64(3), object(7)\n",
      "memory usage: 141.1+ KB\n"
     ]
    }
   ],
   "source": [
    "songs_df.dropna(subset=['speechiness']).info()"
   ]
  },
  {
   "cell_type": "markdown",
   "metadata": {},
   "source": [
    "As `.dropna()` returns a version of the dataframe without the offending rows, if we want to continue working with the cleaned version, we simply overwrite the variable with the new dataframe.\n",
    "\n",
    "This is shown below as a comment as we don't want to actually do that just yet!"
   ]
  },
  {
   "cell_type": "code",
   "execution_count": 28,
   "metadata": {},
   "outputs": [],
   "source": [
    "# songs_df = songs_df.dropna()"
   ]
  },
  {
   "cell_type": "markdown",
   "metadata": {},
   "source": [
    "If we wanted to keep the row, we could instead replace the missing value with another value such as the average value for that column. There are other ways to generate replacement data but they have their issues. In general it is usually better to drop these rows unless you absolutely have to keep them.\n",
    "\n",
    "Again to save the transformed result we overwrite, but this time we overwrite the specific column in the dataframe. Shown below as a comment to avoid committing changes."
   ]
  },
  {
   "cell_type": "code",
   "execution_count": 29,
   "metadata": {},
   "outputs": [],
   "source": [
    "# avg_speechiness = songs_df['speechiness'].mean()\n",
    "# songs_df['speechiness'] = songs_df['speechiness'].fillna(avg_speechiness)"
   ]
  },
  {
   "cell_type": "markdown",
   "metadata": {},
   "source": [
    "### When missing data doesn't look missing\n",
    "Sometimes datasets can fool you into thinking they're more complete than they are. According to `.info()` there are no missing values in the `genre` column. However if we look at the data we can see an odd value called `***OOPS!***`. This looks like a placeholder value entered if data collection went wrong. \n",
    "\n",
    "We can replace this with a `NaN` or `NA`, an object that represents a missing value - when we used `.isna`, `.dropna` and `.fillna` Pandas was specifically looking for these `NA` objects.\n",
    "\n",
    "First let's check how many of these odd placeholder values we have."
   ]
  },
  {
   "cell_type": "code",
   "execution_count": 30,
   "metadata": {},
   "outputs": [
    {
     "name": "stdout",
     "output_type": "stream",
     "text": [
      "<class 'pandas.core.frame.DataFrame'>\n",
      "Int64Index: 50 entries, 3 to 1210\n",
      "Data columns (total 14 columns):\n",
      " #   Column         Non-Null Count  Dtype  \n",
      "---  ------         --------------  -----  \n",
      " 0   track_id       50 non-null     object \n",
      " 1   track_name     50 non-null     object \n",
      " 2   artists        50 non-null     object \n",
      " 3   genre          50 non-null     object \n",
      " 4   release_year   50 non-null     int64  \n",
      " 5   release_date   50 non-null     object \n",
      " 6   explicit       50 non-null     bool   \n",
      " 7   popularity     50 non-null     int64  \n",
      " 8   duration_ms    50 non-null     int64  \n",
      " 9   playlist_name  50 non-null     object \n",
      " 10  danceability   50 non-null     float64\n",
      " 11  loudness       50 non-null     float64\n",
      " 12  speechiness    50 non-null     float64\n",
      " 13  playlist_type  50 non-null     object \n",
      "dtypes: bool(1), float64(3), int64(3), object(7)\n",
      "memory usage: 5.5+ KB\n"
     ]
    }
   ],
   "source": [
    "songs_df[songs_df['genre'] == '***OOPS!***'].info()"
   ]
  },
  {
   "cell_type": "markdown",
   "metadata": {},
   "source": [
    "We can `.replace()` all these values with `NaN` objects so that we have a clearer picture of our data, and can then have the option to use our other missing data cleaning methods."
   ]
  },
  {
   "cell_type": "code",
   "execution_count": 31,
   "metadata": {},
   "outputs": [
    {
     "name": "stdout",
     "output_type": "stream",
     "text": [
      "<class 'pandas.core.frame.DataFrame'>\n",
      "RangeIndex: 1280 entries, 0 to 1279\n",
      "Data columns (total 14 columns):\n",
      " #   Column         Non-Null Count  Dtype  \n",
      "---  ------         --------------  -----  \n",
      " 0   track_id       1280 non-null   object \n",
      " 1   track_name     1280 non-null   object \n",
      " 2   artists        1280 non-null   object \n",
      " 3   genre          1230 non-null   object \n",
      " 4   release_year   1280 non-null   int64  \n",
      " 5   release_date   1280 non-null   object \n",
      " 6   explicit       1280 non-null   bool   \n",
      " 7   popularity     1280 non-null   int64  \n",
      " 8   duration_ms    1280 non-null   int64  \n",
      " 9   playlist_name  1280 non-null   object \n",
      " 10  danceability   1280 non-null   float64\n",
      " 11  loudness       1280 non-null   float64\n",
      " 12  speechiness    1279 non-null   float64\n",
      " 13  playlist_type  1280 non-null   object \n",
      "dtypes: bool(1), float64(3), int64(3), object(7)\n",
      "memory usage: 131.4+ KB\n"
     ]
    }
   ],
   "source": [
    "songs_df['genre'] = songs_df['genre'].replace('***OOPS!***', pd.NA)\n",
    "songs_df.info()"
   ]
  },
  {
   "cell_type": "markdown",
   "metadata": {},
   "source": [
    "Now we have a more accurate representation of our missing values let's go ahead an just drop any row with missing data using `.dropna()`."
   ]
  },
  {
   "cell_type": "code",
   "execution_count": 32,
   "metadata": {},
   "outputs": [
    {
     "data": {
      "text/html": [
       "<div>\n",
       "<style scoped>\n",
       "    .dataframe tbody tr th:only-of-type {\n",
       "        vertical-align: middle;\n",
       "    }\n",
       "\n",
       "    .dataframe tbody tr th {\n",
       "        vertical-align: top;\n",
       "    }\n",
       "\n",
       "    .dataframe thead th {\n",
       "        text-align: right;\n",
       "    }\n",
       "</style>\n",
       "<table border=\"1\" class=\"dataframe\">\n",
       "  <thead>\n",
       "    <tr style=\"text-align: right;\">\n",
       "      <th></th>\n",
       "      <th>track_id</th>\n",
       "      <th>track_name</th>\n",
       "      <th>artists</th>\n",
       "      <th>genre</th>\n",
       "      <th>release_year</th>\n",
       "      <th>release_date</th>\n",
       "      <th>explicit</th>\n",
       "      <th>popularity</th>\n",
       "      <th>duration_ms</th>\n",
       "      <th>playlist_name</th>\n",
       "      <th>danceability</th>\n",
       "      <th>loudness</th>\n",
       "      <th>speechiness</th>\n",
       "      <th>playlist_type</th>\n",
       "    </tr>\n",
       "  </thead>\n",
       "  <tbody>\n",
       "    <tr>\n",
       "      <th>1</th>\n",
       "      <td>56y1jOTK0XSvJzVv9vHQBK</td>\n",
       "      <td>Paint The Town Red</td>\n",
       "      <td>Doja Cat</td>\n",
       "      <td>dance pop</td>\n",
       "      <td>2023</td>\n",
       "      <td>2023-09-20</td>\n",
       "      <td>True</td>\n",
       "      <td>87</td>\n",
       "      <td>230480</td>\n",
       "      <td>Top 50 - United Kingdom</td>\n",
       "      <td>0.864</td>\n",
       "      <td>-7.683</td>\n",
       "      <td>0.1940</td>\n",
       "      <td>mixed_pop</td>\n",
       "    </tr>\n",
       "    <tr>\n",
       "      <th>2</th>\n",
       "      <td>1reEeZH9wNt4z1ePYLyC7p</td>\n",
       "      <td>greedy</td>\n",
       "      <td>Tate McRae</td>\n",
       "      <td>alt z</td>\n",
       "      <td>2023</td>\n",
       "      <td>2023-09-13</td>\n",
       "      <td>True</td>\n",
       "      <td>31</td>\n",
       "      <td>131872</td>\n",
       "      <td>Top 50 - United Kingdom</td>\n",
       "      <td>0.750</td>\n",
       "      <td>-3.190</td>\n",
       "      <td>0.0322</td>\n",
       "      <td>mixed_pop</td>\n",
       "    </tr>\n",
       "    <tr>\n",
       "      <th>5</th>\n",
       "      <td>2FDTHlrBguDzQkp7PVj16Q</td>\n",
       "      <td>Sprinter</td>\n",
       "      <td>Dave</td>\n",
       "      <td>uk hip hop</td>\n",
       "      <td>2023</td>\n",
       "      <td>2023-06-01</td>\n",
       "      <td>True</td>\n",
       "      <td>94</td>\n",
       "      <td>229133</td>\n",
       "      <td>Top 50 - United Kingdom</td>\n",
       "      <td>0.916</td>\n",
       "      <td>-8.067</td>\n",
       "      <td>0.2410</td>\n",
       "      <td>mixed_pop</td>\n",
       "    </tr>\n",
       "    <tr>\n",
       "      <th>6</th>\n",
       "      <td>1BxfuPKGuaTgP7aM0Bbdwr</td>\n",
       "      <td>Cruel Summer</td>\n",
       "      <td>Taylor Swift</td>\n",
       "      <td>pop</td>\n",
       "      <td>2019</td>\n",
       "      <td>2019-08-23</td>\n",
       "      <td>False</td>\n",
       "      <td>99</td>\n",
       "      <td>178426</td>\n",
       "      <td>Top 50 - United Kingdom</td>\n",
       "      <td>0.552</td>\n",
       "      <td>-5.707</td>\n",
       "      <td>0.1570</td>\n",
       "      <td>mixed_pop</td>\n",
       "    </tr>\n",
       "    <tr>\n",
       "      <th>7</th>\n",
       "      <td>3vkCueOmm7xQDoJ17W1Pm3</td>\n",
       "      <td>My Love Mine All Mine</td>\n",
       "      <td>Mitski</td>\n",
       "      <td>brooklyn indie</td>\n",
       "      <td>2023</td>\n",
       "      <td>2023-09-15</td>\n",
       "      <td>False</td>\n",
       "      <td>93</td>\n",
       "      <td>137773</td>\n",
       "      <td>Top 50 - United Kingdom</td>\n",
       "      <td>0.504</td>\n",
       "      <td>-14.958</td>\n",
       "      <td>0.0321</td>\n",
       "      <td>mixed_pop</td>\n",
       "    </tr>\n",
       "  </tbody>\n",
       "</table>\n",
       "</div>"
      ],
      "text/plain": [
       "                 track_id             track_name       artists  \\\n",
       "1  56y1jOTK0XSvJzVv9vHQBK     Paint The Town Red      Doja Cat   \n",
       "2  1reEeZH9wNt4z1ePYLyC7p                 greedy    Tate McRae   \n",
       "5  2FDTHlrBguDzQkp7PVj16Q               Sprinter          Dave   \n",
       "6  1BxfuPKGuaTgP7aM0Bbdwr           Cruel Summer  Taylor Swift   \n",
       "7  3vkCueOmm7xQDoJ17W1Pm3  My Love Mine All Mine        Mitski   \n",
       "\n",
       "            genre  release_year release_date  explicit  popularity  \\\n",
       "1       dance pop          2023   2023-09-20      True          87   \n",
       "2           alt z          2023   2023-09-13      True          31   \n",
       "5      uk hip hop          2023   2023-06-01      True          94   \n",
       "6             pop          2019   2019-08-23     False          99   \n",
       "7  brooklyn indie          2023   2023-09-15     False          93   \n",
       "\n",
       "   duration_ms            playlist_name  danceability  loudness  speechiness  \\\n",
       "1       230480  Top 50 - United Kingdom         0.864    -7.683       0.1940   \n",
       "2       131872  Top 50 - United Kingdom         0.750    -3.190       0.0322   \n",
       "5       229133  Top 50 - United Kingdom         0.916    -8.067       0.2410   \n",
       "6       178426  Top 50 - United Kingdom         0.552    -5.707       0.1570   \n",
       "7       137773  Top 50 - United Kingdom         0.504   -14.958       0.0321   \n",
       "\n",
       "  playlist_type  \n",
       "1     mixed_pop  \n",
       "2     mixed_pop  \n",
       "5     mixed_pop  \n",
       "6     mixed_pop  \n",
       "7     mixed_pop  "
      ]
     },
     "execution_count": 32,
     "metadata": {},
     "output_type": "execute_result"
    }
   ],
   "source": [
    "songs_df = songs_df.dropna()\n",
    "songs_df.head()"
   ]
  },
  {
   "cell_type": "markdown",
   "metadata": {},
   "source": [
    "Unless you want to retain the index to match back to the original data later, often it is a good idea to `.reset_index()` before continuing. We use `drop=True` to ensure the original index is not retained and just cleaned away entirely."
   ]
  },
  {
   "cell_type": "code",
   "execution_count": 35,
   "metadata": {},
   "outputs": [],
   "source": [
    "songs_df = songs_df.reset_index(drop=True)"
   ]
  },
  {
   "cell_type": "markdown",
   "metadata": {},
   "source": [
    "### Fixing Wrong data types\n",
    "Sometimes either due to the way data was interpreted when Pandas loaded it, or due to the way data was created, it won't necessarily be the right type of data.\n",
    "\n",
    "In our dataset we have a `release_year` column, and currently it is listed as an `object`"
   ]
  },
  {
   "cell_type": "code",
   "execution_count": 36,
   "metadata": {},
   "outputs": [
    {
     "name": "stdout",
     "output_type": "stream",
     "text": [
      "<class 'pandas.core.frame.DataFrame'>\n",
      "RangeIndex: 1229 entries, 0 to 1228\n",
      "Data columns (total 14 columns):\n",
      " #   Column         Non-Null Count  Dtype  \n",
      "---  ------         --------------  -----  \n",
      " 0   track_id       1229 non-null   object \n",
      " 1   track_name     1229 non-null   object \n",
      " 2   artists        1229 non-null   object \n",
      " 3   genre          1229 non-null   object \n",
      " 4   release_year   1229 non-null   int64  \n",
      " 5   release_date   1229 non-null   object \n",
      " 6   explicit       1229 non-null   bool   \n",
      " 7   popularity     1229 non-null   int64  \n",
      " 8   duration_ms    1229 non-null   int64  \n",
      " 9   playlist_name  1229 non-null   object \n",
      " 10  danceability   1229 non-null   float64\n",
      " 11  loudness       1229 non-null   float64\n",
      " 12  speechiness    1229 non-null   float64\n",
      " 13  playlist_type  1229 non-null   object \n",
      "dtypes: bool(1), float64(3), int64(3), object(7)\n",
      "memory usage: 126.1+ KB\n"
     ]
    }
   ],
   "source": [
    "songs_df.info()"
   ]
  },
  {
   "cell_type": "markdown",
   "metadata": {},
   "source": [
    "If we look at the `release_date` value for the first row, we can see it is actually a string, and if we ask Pandas to `.describe()` it to us it can do very little as it thinks they are just words, rather than dates."
   ]
  },
  {
   "cell_type": "code",
   "execution_count": 37,
   "metadata": {},
   "outputs": [
    {
     "data": {
      "text/plain": [
       "'2023-09-20'"
      ]
     },
     "execution_count": 37,
     "metadata": {},
     "output_type": "execute_result"
    }
   ],
   "source": [
    "songs_df.loc[0,'release_date']"
   ]
  },
  {
   "cell_type": "code",
   "execution_count": 39,
   "metadata": {},
   "outputs": [
    {
     "data": {
      "text/plain": [
       "count           1229\n",
       "unique           684\n",
       "top       2023-09-08\n",
       "freq              15\n",
       "Name: release_date, dtype: object"
      ]
     },
     "execution_count": 39,
     "metadata": {},
     "output_type": "execute_result"
    }
   ],
   "source": [
    "songs_df['release_date'].describe()"
   ]
  },
  {
   "cell_type": "markdown",
   "metadata": {},
   "source": [
    "We can recast the column as a date by using `pd.to_datetime()` which takes a column of strings and returns a column of dates."
   ]
  },
  {
   "cell_type": "code",
   "execution_count": 41,
   "metadata": {},
   "outputs": [
    {
     "data": {
      "text/plain": [
       "count                             1229\n",
       "mean     2001-01-04 20:20:53.702196864\n",
       "min                1954-01-01 00:00:00\n",
       "25%                1983-03-23 00:00:00\n",
       "50%                2008-03-28 00:00:00\n",
       "75%                2020-05-22 00:00:00\n",
       "max                2023-10-13 00:00:00\n",
       "Name: release_date, dtype: object"
      ]
     },
     "execution_count": 41,
     "metadata": {},
     "output_type": "execute_result"
    }
   ],
   "source": [
    "songs_df['release_date'] = pd.to_datetime(songs_df['release_date'])\n",
    "songs_df['release_date'].describe(datetime_is_numeric=True)"
   ]
  },
  {
   "cell_type": "markdown",
   "metadata": {},
   "source": [
    "## Exercises 1\n",
    "Take a look at section 1 of the exercises sheet. Complete the tasks before moving on."
   ]
  },
  {
   "cell_type": "markdown",
   "metadata": {},
   "source": [
    "## Exercises 2\n",
    "Take a look at section 2 of the exercises sheet. Complete the tasks. \n",
    "\n",
    "If there is time, work through the appropriate chapter of the McLevey textbook OR the recommended DataCamp course. \n",
    "\n",
    "See Moodle for details."
   ]
  }
 ],
 "metadata": {
  "kernelspec": {
   "display_name": "teaching",
   "language": "python",
   "name": "python3"
  },
  "language_info": {
   "codemirror_mode": {
    "name": "ipython",
    "version": 3
   },
   "file_extension": ".py",
   "mimetype": "text/x-python",
   "name": "python",
   "nbconvert_exporter": "python",
   "pygments_lexer": "ipython3",
   "version": "3.10.5"
  }
 },
 "nbformat": 4,
 "nbformat_minor": 2
}
